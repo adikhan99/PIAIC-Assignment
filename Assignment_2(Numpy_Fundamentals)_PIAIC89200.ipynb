{
  "nbformat": 4,
  "nbformat_minor": 0,
  "metadata": {
    "kernelspec": {
      "display_name": "Python 3",
      "language": "python",
      "name": "python3"
    },
    "language_info": {
      "codemirror_mode": {
        "name": "ipython",
        "version": 3
      },
      "file_extension": ".py",
      "mimetype": "text/x-python",
      "name": "python",
      "nbconvert_exporter": "python",
      "pygments_lexer": "ipython3",
      "version": "3.7.3"
    },
    "colab": {
      "name": "Assignment#2(Numpy Fundamentals) PIAIC89200.ipynb",
      "provenance": [],
      "collapsed_sections": [],
      "include_colab_link": true
    }
  },
  "cells": [
    {
      "cell_type": "markdown",
      "metadata": {
        "id": "view-in-github",
        "colab_type": "text"
      },
      "source": [
        "<a href=\"https://colab.research.google.com/github/adikhan99/PIAIC-Assignment/blob/main/Assignment_2(Numpy_Fundamentals)_PIAIC89200.ipynb\" target=\"_parent\"><img src=\"https://colab.research.google.com/assets/colab-badge.svg\" alt=\"Open In Colab\"/></a>"
      ]
    },
    {
      "cell_type": "markdown",
      "metadata": {
        "id": "wgQ2txdMFwH4"
      },
      "source": [
        "# Numpy_Assignment_2::"
      ]
    },
    {
      "cell_type": "code",
      "metadata": {
        "id": "ePrgVPpoF77G"
      },
      "source": [
        "import numpy as np"
      ],
      "execution_count": 1,
      "outputs": []
    },
    {
      "cell_type": "markdown",
      "metadata": {
        "id": "8ejGjRamFwIB"
      },
      "source": [
        "## Question:1"
      ]
    },
    {
      "cell_type": "markdown",
      "metadata": {
        "id": "T3TdjzLiFwIC"
      },
      "source": [
        "### Convert a 1D array to a 2D array with 2 rows?"
      ]
    },
    {
      "cell_type": "markdown",
      "metadata": {
        "id": "NECMHCgBFwIC"
      },
      "source": [
        "#### Desired output::"
      ]
    },
    {
      "cell_type": "markdown",
      "metadata": {
        "id": "KYxLeC_oFwID"
      },
      "source": [
        "array([[0, 1, 2, 3, 4],\n",
        "        [5, 6, 7, 8, 9]])"
      ]
    },
    {
      "cell_type": "code",
      "metadata": {
        "colab": {
          "base_uri": "https://localhost:8080/"
        },
        "id": "Wp1xazBsFwIE",
        "outputId": "79da7688-15a2-4ee6-c53f-3bade28c294b"
      },
      "source": [
        "a=np.array([0, 1, 2, 3, 4, 5, 6, 7, 8, 9])\r\n",
        "a=np.reshape(a,(2,5))\r\n",
        "print(\"2D array with 2  rows\")\r\n",
        "print(a)\r\n"
      ],
      "execution_count": 32,
      "outputs": [
        {
          "output_type": "stream",
          "text": [
            "2D array with 2  rows\n",
            "[[0 1 2 3 4]\n",
            " [5 6 7 8 9]]\n"
          ],
          "name": "stdout"
        }
      ]
    },
    {
      "cell_type": "markdown",
      "metadata": {
        "id": "f1AOEikUFwIF"
      },
      "source": [
        "## Question:2"
      ]
    },
    {
      "cell_type": "markdown",
      "metadata": {
        "id": "-m-PbRl7FwIG"
      },
      "source": [
        "###  How to stack two arrays vertically?"
      ]
    },
    {
      "cell_type": "markdown",
      "metadata": {
        "id": "GnfpsOPbFwIG"
      },
      "source": [
        "#### Desired Output::"
      ]
    },
    {
      "cell_type": "markdown",
      "metadata": {
        "id": "mEb-fNBxFwIG"
      },
      "source": [
        "array([[0, 1, 2, 3, 4],\n",
        "        [5, 6, 7, 8, 9],\n",
        "       [1, 1, 1, 1, 1],\n",
        "       [1, 1, 1, 1, 1]])"
      ]
    },
    {
      "cell_type": "code",
      "metadata": {
        "colab": {
          "base_uri": "https://localhost:8080/"
        },
        "id": "uZm6HZWHFwIH",
        "outputId": "11225a6d-541f-47f2-ff1e-2b0a01c4c2e2"
      },
      "source": [
        "a1=np.array([0, 1, 2, 3, 4, 5, 6, 7, 8, 9]).reshape(2,5)\r\n",
        "a2=np.array([10,11, 12, 13, 14, 15, 16, 17, 18, 19]).reshape(2,5)\r\n",
        "print(\"stacking two arrays vertically\")\r\n",
        "print(np.vstack((a1,a2)))\r\n"
      ],
      "execution_count": 33,
      "outputs": [
        {
          "output_type": "stream",
          "text": [
            "stacking two arrays vertically\n",
            "[[ 0  1  2  3  4]\n",
            " [ 5  6  7  8  9]\n",
            " [10 11 12 13 14]\n",
            " [15 16 17 18 19]]\n"
          ],
          "name": "stdout"
        }
      ]
    },
    {
      "cell_type": "markdown",
      "metadata": {
        "id": "GueBnvuxFwIH"
      },
      "source": [
        "## Question:3"
      ]
    },
    {
      "cell_type": "markdown",
      "metadata": {
        "id": "HDof6o9bFwIH"
      },
      "source": [
        "### How to stack two arrays horizontally?"
      ]
    },
    {
      "cell_type": "markdown",
      "metadata": {
        "id": "qmhhHHmDFwII"
      },
      "source": [
        "#### Desired Output::"
      ]
    },
    {
      "cell_type": "markdown",
      "metadata": {
        "id": "4IYNBVKZFwII"
      },
      "source": [
        "array([[0, 1, 2, 3, 4, 1, 1, 1, 1, 1],\n",
        "       [5, 6, 7, 8, 9, 1, 1, 1, 1, 1]])"
      ]
    },
    {
      "cell_type": "code",
      "metadata": {
        "colab": {
          "base_uri": "https://localhost:8080/"
        },
        "id": "sWX7O37wFwII",
        "outputId": "a854d201-2ea1-4ad6-d882-d7a408d099d8"
      },
      "source": [
        "a1=np.array([0, 1, 2, 3, 4, 5, 6, 7, 8, 9])\r\n",
        "a2=np.array([10,11, 12, 13, 14, 15, 16, 17, 18, 19])\r\n",
        "print(\"stacking two arrays horizontally\")\r\n",
        "print(np.vstack((a1,a2)))\r\n"
      ],
      "execution_count": 34,
      "outputs": [
        {
          "output_type": "stream",
          "text": [
            "stacking two arrays horizontally\n",
            "[[ 0  1  2  3  4  5  6  7  8  9]\n",
            " [10 11 12 13 14 15 16 17 18 19]]\n"
          ],
          "name": "stdout"
        }
      ]
    },
    {
      "cell_type": "markdown",
      "metadata": {
        "id": "GJPmM2rmFwII"
      },
      "source": [
        "## Question:4"
      ]
    },
    {
      "cell_type": "markdown",
      "metadata": {
        "id": "hWXtnkthFwIJ"
      },
      "source": [
        "### How to convert an array of arrays into a flat 1d array?"
      ]
    },
    {
      "cell_type": "markdown",
      "metadata": {
        "id": "-4IiNhfFFwIJ"
      },
      "source": [
        "#### Desired Output::"
      ]
    },
    {
      "cell_type": "markdown",
      "metadata": {
        "id": "H2n3vOGtFwIJ"
      },
      "source": [
        "array([0, 1, 2, 3, 4, 5, 6, 7, 8, 9])"
      ]
    },
    {
      "cell_type": "code",
      "metadata": {
        "colab": {
          "base_uri": "https://localhost:8080/"
        },
        "id": "8MLd3Km9FwIK",
        "outputId": "22ac57f1-c603-406f-9639-3588429ec0a1"
      },
      "source": [
        "b=np.vstack((a1,a2))\r\n",
        "print(\"converting into 1D array\")\r\n",
        "print(np.ravel(b))"
      ],
      "execution_count": 35,
      "outputs": [
        {
          "output_type": "stream",
          "text": [
            "converting into 1D array\n",
            "[ 0  1  2  3  4  5  6  7  8  9 10 11 12 13 14 15 16 17 18 19]\n"
          ],
          "name": "stdout"
        }
      ]
    },
    {
      "cell_type": "markdown",
      "metadata": {
        "id": "xyPOhRlIFwIK"
      },
      "source": [
        "## Question:5"
      ]
    },
    {
      "cell_type": "markdown",
      "metadata": {
        "id": "UA3cRTBQFwIK"
      },
      "source": [
        "### How to Convert higher dimension into one dimension?"
      ]
    },
    {
      "cell_type": "markdown",
      "metadata": {
        "id": "2Wx23I63FwIK"
      },
      "source": [
        "#### Desired Output::"
      ]
    },
    {
      "cell_type": "markdown",
      "metadata": {
        "id": "UTfzVd_PFwIL"
      },
      "source": [
        "array([ 0, 1, 2, 3, 4, 5, 6, 7, 8, 9, 10, 11, 12, 13, 14])"
      ]
    },
    {
      "cell_type": "code",
      "metadata": {
        "colab": {
          "base_uri": "https://localhost:8080/"
        },
        "id": "WfaEviupFwIL",
        "outputId": "ffadf76c-8d46-40fd-ddb6-24e7516d67cd"
      },
      "source": [
        "print(\"converting higher dimension into one dimension\")\r\n",
        "print(np.array([[0, 1, 2, 3, 4],\r\n",
        "       [5, 6, 7, 8, 9],[10,11,12,13,14]]).ravel())"
      ],
      "execution_count": 37,
      "outputs": [
        {
          "output_type": "stream",
          "text": [
            "converting higher dimension into one dimension\n",
            "[ 0  1  2  3  4  5  6  7  8  9 10 11 12 13 14]\n"
          ],
          "name": "stdout"
        }
      ]
    },
    {
      "cell_type": "markdown",
      "metadata": {
        "id": "F3JBJUJFFwIL"
      },
      "source": [
        "## Question:6"
      ]
    },
    {
      "cell_type": "markdown",
      "metadata": {
        "id": "fI8T23i0FwIM"
      },
      "source": [
        "### Convert one dimension to higher dimension?"
      ]
    },
    {
      "cell_type": "markdown",
      "metadata": {
        "id": "Y5Gz-xqDFwIM"
      },
      "source": [
        "#### Desired Output::"
      ]
    },
    {
      "cell_type": "markdown",
      "metadata": {
        "id": "tcAOLKVZFwIM"
      },
      "source": [
        "array([[ 0, 1, 2],\n",
        "[ 3, 4, 5],\n",
        "[ 6, 7, 8],\n",
        "[ 9, 10, 11],\n",
        "[12, 13, 14]])"
      ]
    },
    {
      "cell_type": "code",
      "metadata": {
        "colab": {
          "base_uri": "https://localhost:8080/"
        },
        "id": "6TMSWU0cFwIN",
        "outputId": "d5af8701-929d-45a1-dd61-fae97a0bc50f"
      },
      "source": [
        "np.array([ 0, 1, 2, 3, 4, 5, 6, 7, 8, 9, 10, 11, 12, 13, 14]).reshape(5,3)"
      ],
      "execution_count": 14,
      "outputs": [
        {
          "output_type": "execute_result",
          "data": {
            "text/plain": [
              "array([[ 0,  1,  2],\n",
              "       [ 3,  4,  5],\n",
              "       [ 6,  7,  8],\n",
              "       [ 9, 10, 11],\n",
              "       [12, 13, 14]])"
            ]
          },
          "metadata": {
            "tags": []
          },
          "execution_count": 14
        }
      ]
    },
    {
      "cell_type": "markdown",
      "metadata": {
        "id": "cQyeRx6kFwIN"
      },
      "source": [
        "## Question:7"
      ]
    },
    {
      "cell_type": "markdown",
      "metadata": {
        "id": "pjslRQf4FwIO"
      },
      "source": [
        "### Create 5x5 an array and find the square of an array?"
      ]
    },
    {
      "cell_type": "code",
      "metadata": {
        "colab": {
          "base_uri": "https://localhost:8080/"
        },
        "id": "JzZw5HNQFwIO",
        "outputId": "3a748a23-45dc-4b9a-cc38-344dfe6e9ec5"
      },
      "source": [
        "x=np.random.randn(25).reshape(5,5)*5\r\n",
        "np.array(x)\r\n",
        "x=np.square(x)\r\n",
        "print(\"Square of 5x5 array \" )\r\n",
        "print(x)"
      ],
      "execution_count": 41,
      "outputs": [
        {
          "output_type": "stream",
          "text": [
            "Square of 5x5 array \n",
            "[[1.29747022e+01 2.85792794e+01 5.34247867e+00 3.77328545e+01\n",
            "  1.39941773e+00]\n",
            " [2.07394600e+01 2.44966707e+01 1.12937499e+02 2.25843413e+01\n",
            "  4.56179551e+01]\n",
            " [4.12007734e+01 2.22094955e+01 1.31886587e+01 6.22530544e+01\n",
            "  2.72754138e+00]\n",
            " [3.47253123e+00 5.69818270e+01 1.59822615e+00 4.44846152e+01\n",
            "  4.23189194e-02]\n",
            " [4.07619540e+01 5.09494354e+01 7.95963529e+00 1.55242311e+01\n",
            "  4.73290424e+00]]\n"
          ],
          "name": "stdout"
        }
      ]
    },
    {
      "cell_type": "markdown",
      "metadata": {
        "id": "joc7_tBlFwIO"
      },
      "source": [
        "## Question:8"
      ]
    },
    {
      "cell_type": "markdown",
      "metadata": {
        "id": "AHcn_0s7FwIP"
      },
      "source": [
        "### Create 5x6 an array and find the mean?"
      ]
    },
    {
      "cell_type": "code",
      "metadata": {
        "colab": {
          "base_uri": "https://localhost:8080/"
        },
        "id": "w_pOtOPUFwIP",
        "outputId": "7f6b1dd8-c702-4189-c37f-c8fb2a356665"
      },
      "source": [
        "y=np.random.randn(25).reshape(5,5)*5\r\n",
        "y=np.array(y)\r\n",
        "m=np.mean(y)\r\n",
        "print(\"mean of 5x6 array\")\r\n",
        "print(m)\r\n"
      ],
      "execution_count": 45,
      "outputs": [
        {
          "output_type": "stream",
          "text": [
            "mean of 5x6 array\n",
            "0.63778342177948\n"
          ],
          "name": "stdout"
        }
      ]
    },
    {
      "cell_type": "markdown",
      "metadata": {
        "id": "CdGOM_ecFwIP"
      },
      "source": [
        "## Question:9"
      ]
    },
    {
      "cell_type": "markdown",
      "metadata": {
        "id": "iLoQU5FoFwIP"
      },
      "source": [
        "### Find the standard deviation of the previous array in Q8?"
      ]
    },
    {
      "cell_type": "code",
      "metadata": {
        "colab": {
          "base_uri": "https://localhost:8080/"
        },
        "id": "nypqnQgfFwIQ",
        "outputId": "828cdd1d-f0cb-48ce-d66e-13726e01d345"
      },
      "source": [
        "print(\"standard deviation\")\r\n",
        "print(np.std(y))"
      ],
      "execution_count": 46,
      "outputs": [
        {
          "output_type": "stream",
          "text": [
            "standard deviation\n",
            "5.456385191194171\n"
          ],
          "name": "stdout"
        }
      ]
    },
    {
      "cell_type": "markdown",
      "metadata": {
        "id": "IEC4IJOUFwIQ"
      },
      "source": [
        "## Question:10"
      ]
    },
    {
      "cell_type": "markdown",
      "metadata": {
        "id": "mnCCi4uJFwIQ"
      },
      "source": [
        "### Find the median of the previous array in Q8?"
      ]
    },
    {
      "cell_type": "code",
      "metadata": {
        "colab": {
          "base_uri": "https://localhost:8080/"
        },
        "id": "579-BO97FwIQ",
        "outputId": "f2a973e9-4728-437d-de27-9e9e68df1e88"
      },
      "source": [
        "print(\"median\")\r\n",
        "np.median(y)"
      ],
      "execution_count": 47,
      "outputs": [
        {
          "output_type": "stream",
          "text": [
            "median\n"
          ],
          "name": "stdout"
        },
        {
          "output_type": "execute_result",
          "data": {
            "text/plain": [
              "0.494885910659303"
            ]
          },
          "metadata": {
            "tags": []
          },
          "execution_count": 47
        }
      ]
    },
    {
      "cell_type": "markdown",
      "metadata": {
        "id": "4QMLj2PVFwIR"
      },
      "source": [
        "## Question:11"
      ]
    },
    {
      "cell_type": "markdown",
      "metadata": {
        "id": "Wdnxky9fFwIR"
      },
      "source": [
        "### Find the transpose of the previous array in Q8?"
      ]
    },
    {
      "cell_type": "code",
      "metadata": {
        "colab": {
          "base_uri": "https://localhost:8080/"
        },
        "id": "vSAFc_WgFwIR",
        "outputId": "31297567-8c62-4877-b0bc-6c75728f6eb3"
      },
      "source": [
        "print(\"Transpose\")\r\n",
        "y.T"
      ],
      "execution_count": 49,
      "outputs": [
        {
          "output_type": "stream",
          "text": [
            "Transpose\n"
          ],
          "name": "stdout"
        },
        {
          "output_type": "execute_result",
          "data": {
            "text/plain": [
              "array([[  2.3542028 ,   0.49488591,  -2.19120187,  -4.21031328,\n",
              "          5.28386875],\n",
              "       [ 15.83069093,  -1.50694618, -11.55103676,  -5.03374468,\n",
              "         -1.84675979],\n",
              "       [  6.32348853,   5.43448881,   6.68102015,   2.47290013,\n",
              "          3.06506842],\n",
              "       [ -1.76086197,   1.86597579,  -6.6045216 ,   1.32297658,\n",
              "          4.83163029],\n",
              "       [ -0.88622651,   5.92062346,  -5.45263506,  -1.86484933,\n",
              "         -3.02813794]])"
            ]
          },
          "metadata": {
            "tags": []
          },
          "execution_count": 49
        }
      ]
    },
    {
      "cell_type": "markdown",
      "metadata": {
        "id": "wOTnEGEpFwIR"
      },
      "source": [
        "## Question:12"
      ]
    },
    {
      "cell_type": "markdown",
      "metadata": {
        "id": "28LEAWcbFwIR"
      },
      "source": [
        "### Create a 4x4 an array and find the sum of diagonal elements?"
      ]
    },
    {
      "cell_type": "code",
      "metadata": {
        "colab": {
          "base_uri": "https://localhost:8080/"
        },
        "id": "JVFD_TwnFwIS",
        "outputId": "8907fa4c-f073-4104-d4f6-975027511acb"
      },
      "source": [
        "z=np.random.randn(16).reshape(4,4)*5\r\n",
        "z=np.array(z)\r\n",
        "print('4x4 array')\r\n",
        "print(z)\r\n",
        "np.diagonal(z)\r\n",
        "print(\"sum of diagonal elements\")\r\n",
        "np.diagonal(z).sum()"
      ],
      "execution_count": 54,
      "outputs": [
        {
          "output_type": "stream",
          "text": [
            "4x4 array\n",
            "[[ 9.29060752 -4.30145857  3.93875664  8.33811851]\n",
            " [-4.32552815 -1.76901399  1.01994489  0.01103503]\n",
            " [ 1.07257518  4.5071077  -4.47954457  1.00321919]\n",
            " [ 7.06498084 -3.44048551 -3.36872217 -3.32901194]]\n",
            "sum of diagonal elements\n"
          ],
          "name": "stdout"
        },
        {
          "output_type": "execute_result",
          "data": {
            "text/plain": [
              "-0.2869629756777341"
            ]
          },
          "metadata": {
            "tags": []
          },
          "execution_count": 54
        }
      ]
    },
    {
      "cell_type": "markdown",
      "metadata": {
        "id": "ohXVB9UKFwIS"
      },
      "source": [
        "## Question:13"
      ]
    },
    {
      "cell_type": "markdown",
      "metadata": {
        "id": "vkOjBhtOFwIS"
      },
      "source": [
        "### Find the determinant of the previous array in Q12?"
      ]
    },
    {
      "cell_type": "code",
      "metadata": {
        "colab": {
          "base_uri": "https://localhost:8080/"
        },
        "id": "6b7D6gSzFwIT",
        "outputId": "51f7d21e-2b55-4909-d898-967a6d90e09c"
      },
      "source": [
        "print(\"determinant\")\r\n",
        "np.linalg.det(z)"
      ],
      "execution_count": 55,
      "outputs": [
        {
          "output_type": "stream",
          "text": [
            "determinant\n"
          ],
          "name": "stdout"
        },
        {
          "output_type": "execute_result",
          "data": {
            "text/plain": [
              "-1580.328663352048"
            ]
          },
          "metadata": {
            "tags": []
          },
          "execution_count": 55
        }
      ]
    },
    {
      "cell_type": "markdown",
      "metadata": {
        "id": "eMTgDbOjFwIT"
      },
      "source": [
        "## Question:14"
      ]
    },
    {
      "cell_type": "markdown",
      "metadata": {
        "id": "pkmjikALFwIU"
      },
      "source": [
        "### Find the 5th and 95th percentile of an array?"
      ]
    },
    {
      "cell_type": "code",
      "metadata": {
        "colab": {
          "base_uri": "https://localhost:8080/"
        },
        "id": "Bf1TJxNVFwIU",
        "outputId": "21836757-1f7a-462f-f1bb-934da7a44ac0"
      },
      "source": [
        "print(z)\r\n",
        "print(\"5th percentile\",np.percentile(z, 5))\r\n",
        "print(\"95th percentile\",np.percentile(z, 95))"
      ],
      "execution_count": 56,
      "outputs": [
        {
          "output_type": "stream",
          "text": [
            "[[ 9.29060752 -4.30145857  3.93875664  8.33811851]\n",
            " [-4.32552815 -1.76901399  1.01994489  0.01103503]\n",
            " [ 1.07257518  4.5071077  -4.47954457  1.00321919]\n",
            " [ 7.06498084 -3.44048551 -3.36872217 -3.32901194]]\n",
            "5th percentile -4.364032251046409\n",
            "95th percentile 8.576240765055635\n"
          ],
          "name": "stdout"
        }
      ]
    },
    {
      "cell_type": "markdown",
      "metadata": {
        "id": "17Kuo2iwFwIX"
      },
      "source": [
        "## Question:15"
      ]
    },
    {
      "cell_type": "markdown",
      "metadata": {
        "id": "oPXsZNiXFwIY"
      },
      "source": [
        "### How to find if a given array has any null values?"
      ]
    },
    {
      "cell_type": "code",
      "metadata": {
        "colab": {
          "base_uri": "https://localhost:8080/"
        },
        "id": "cqzAIyOrFwIY",
        "outputId": "3e7aa099-55a3-42ce-d4c6-93f4c8c59ede"
      },
      "source": [
        "null= np.array([[1,2,3,4],\r\n",
        "              [2,3,np.nan,5],\r\n",
        "              [np.nan,5,2,3]])\r\n",
        "np.argwhere(np.isnan(null))\r\n",
        "\r\n"
      ],
      "execution_count": 57,
      "outputs": [
        {
          "output_type": "execute_result",
          "data": {
            "text/plain": [
              "array([[1, 2],\n",
              "       [2, 0]])"
            ]
          },
          "metadata": {
            "tags": []
          },
          "execution_count": 57
        }
      ]
    },
    {
      "cell_type": "code",
      "metadata": {
        "id": "SqsoOSEcKF0n"
      },
      "source": [
        ""
      ],
      "execution_count": null,
      "outputs": []
    }
  ]
}