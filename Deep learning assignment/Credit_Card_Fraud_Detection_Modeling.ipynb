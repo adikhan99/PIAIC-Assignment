{
  "nbformat": 4,
  "nbformat_minor": 0,
  "metadata": {
    "colab": {
      "name": "Credit Card Fraud Detection Modeling",
      "provenance": []
    },
    "kernelspec": {
      "name": "python3",
      "display_name": "Python 3"
    },
    "language_info": {
      "name": "python"
    }
  },
  "cells": [
    {
      "cell_type": "code",
      "metadata": {
        "colab": {
          "base_uri": "https://localhost:8080/"
        },
        "id": "OnmE51mMYPm0",
        "outputId": "7414a45c-fedc-4942-be51-744ba48cad34"
      },
      "source": [
        "from google.colab import drive\n",
        "drive.mount('/content/drive')"
      ],
      "execution_count": 1,
      "outputs": [
        {
          "output_type": "stream",
          "text": [
            "Mounted at /content/drive\n"
          ],
          "name": "stdout"
        }
      ]
    },
    {
      "cell_type": "code",
      "metadata": {
        "id": "t6FCMP9SYYM-"
      },
      "source": [
        "# Importing Modules\n",
        "import numpy as np\n",
        "import pandas as pd\n",
        "import matplotlib.pyplot as plt\n",
        "import seaborn as sns\n",
        "from scipy import stats\n",
        "import tensorflow as tf\n",
        "from tensorflow.keras.models import Sequential\n",
        "from tensorflow.keras.layers import Dense, Dropout\n",
        "from tensorflow.keras import regularizers\n",
        "import tensorboard\n",
        "from pylab import rcParams"
      ],
      "execution_count": 2,
      "outputs": []
    },
    {
      "cell_type": "code",
      "metadata": {
        "colab": {
          "base_uri": "https://localhost:8080/",
          "height": 224
        },
        "id": "e9L2U92uYkfi",
        "outputId": "2c4ac966-e404-4745-83a1-584545f0b8c3"
      },
      "source": [
        "# Loading The Data\n",
        "df = pd.read_csv(\"/content/drive/MyDrive/creditcard.csv\")\n",
        "df.head()"
      ],
      "execution_count": 48,
      "outputs": [
        {
          "output_type": "execute_result",
          "data": {
            "text/html": [
              "<div>\n",
              "<style scoped>\n",
              "    .dataframe tbody tr th:only-of-type {\n",
              "        vertical-align: middle;\n",
              "    }\n",
              "\n",
              "    .dataframe tbody tr th {\n",
              "        vertical-align: top;\n",
              "    }\n",
              "\n",
              "    .dataframe thead th {\n",
              "        text-align: right;\n",
              "    }\n",
              "</style>\n",
              "<table border=\"1\" class=\"dataframe\">\n",
              "  <thead>\n",
              "    <tr style=\"text-align: right;\">\n",
              "      <th></th>\n",
              "      <th>Time</th>\n",
              "      <th>V1</th>\n",
              "      <th>V2</th>\n",
              "      <th>V3</th>\n",
              "      <th>V4</th>\n",
              "      <th>V5</th>\n",
              "      <th>V6</th>\n",
              "      <th>V7</th>\n",
              "      <th>V8</th>\n",
              "      <th>V9</th>\n",
              "      <th>V10</th>\n",
              "      <th>V11</th>\n",
              "      <th>V12</th>\n",
              "      <th>V13</th>\n",
              "      <th>V14</th>\n",
              "      <th>V15</th>\n",
              "      <th>V16</th>\n",
              "      <th>V17</th>\n",
              "      <th>V18</th>\n",
              "      <th>V19</th>\n",
              "      <th>V20</th>\n",
              "      <th>V21</th>\n",
              "      <th>V22</th>\n",
              "      <th>V23</th>\n",
              "      <th>V24</th>\n",
              "      <th>V25</th>\n",
              "      <th>V26</th>\n",
              "      <th>V27</th>\n",
              "      <th>V28</th>\n",
              "      <th>Amount</th>\n",
              "      <th>Class</th>\n",
              "    </tr>\n",
              "  </thead>\n",
              "  <tbody>\n",
              "    <tr>\n",
              "      <th>0</th>\n",
              "      <td>0.0</td>\n",
              "      <td>-1.359807</td>\n",
              "      <td>-0.072781</td>\n",
              "      <td>2.536347</td>\n",
              "      <td>1.378155</td>\n",
              "      <td>-0.338321</td>\n",
              "      <td>0.462388</td>\n",
              "      <td>0.239599</td>\n",
              "      <td>0.098698</td>\n",
              "      <td>0.363787</td>\n",
              "      <td>0.090794</td>\n",
              "      <td>-0.551600</td>\n",
              "      <td>-0.617801</td>\n",
              "      <td>-0.991390</td>\n",
              "      <td>-0.311169</td>\n",
              "      <td>1.468177</td>\n",
              "      <td>-0.470401</td>\n",
              "      <td>0.207971</td>\n",
              "      <td>0.025791</td>\n",
              "      <td>0.403993</td>\n",
              "      <td>0.251412</td>\n",
              "      <td>-0.018307</td>\n",
              "      <td>0.277838</td>\n",
              "      <td>-0.110474</td>\n",
              "      <td>0.066928</td>\n",
              "      <td>0.128539</td>\n",
              "      <td>-0.189115</td>\n",
              "      <td>0.133558</td>\n",
              "      <td>-0.021053</td>\n",
              "      <td>149.62</td>\n",
              "      <td>0</td>\n",
              "    </tr>\n",
              "    <tr>\n",
              "      <th>1</th>\n",
              "      <td>0.0</td>\n",
              "      <td>1.191857</td>\n",
              "      <td>0.266151</td>\n",
              "      <td>0.166480</td>\n",
              "      <td>0.448154</td>\n",
              "      <td>0.060018</td>\n",
              "      <td>-0.082361</td>\n",
              "      <td>-0.078803</td>\n",
              "      <td>0.085102</td>\n",
              "      <td>-0.255425</td>\n",
              "      <td>-0.166974</td>\n",
              "      <td>1.612727</td>\n",
              "      <td>1.065235</td>\n",
              "      <td>0.489095</td>\n",
              "      <td>-0.143772</td>\n",
              "      <td>0.635558</td>\n",
              "      <td>0.463917</td>\n",
              "      <td>-0.114805</td>\n",
              "      <td>-0.183361</td>\n",
              "      <td>-0.145783</td>\n",
              "      <td>-0.069083</td>\n",
              "      <td>-0.225775</td>\n",
              "      <td>-0.638672</td>\n",
              "      <td>0.101288</td>\n",
              "      <td>-0.339846</td>\n",
              "      <td>0.167170</td>\n",
              "      <td>0.125895</td>\n",
              "      <td>-0.008983</td>\n",
              "      <td>0.014724</td>\n",
              "      <td>2.69</td>\n",
              "      <td>0</td>\n",
              "    </tr>\n",
              "    <tr>\n",
              "      <th>2</th>\n",
              "      <td>1.0</td>\n",
              "      <td>-1.358354</td>\n",
              "      <td>-1.340163</td>\n",
              "      <td>1.773209</td>\n",
              "      <td>0.379780</td>\n",
              "      <td>-0.503198</td>\n",
              "      <td>1.800499</td>\n",
              "      <td>0.791461</td>\n",
              "      <td>0.247676</td>\n",
              "      <td>-1.514654</td>\n",
              "      <td>0.207643</td>\n",
              "      <td>0.624501</td>\n",
              "      <td>0.066084</td>\n",
              "      <td>0.717293</td>\n",
              "      <td>-0.165946</td>\n",
              "      <td>2.345865</td>\n",
              "      <td>-2.890083</td>\n",
              "      <td>1.109969</td>\n",
              "      <td>-0.121359</td>\n",
              "      <td>-2.261857</td>\n",
              "      <td>0.524980</td>\n",
              "      <td>0.247998</td>\n",
              "      <td>0.771679</td>\n",
              "      <td>0.909412</td>\n",
              "      <td>-0.689281</td>\n",
              "      <td>-0.327642</td>\n",
              "      <td>-0.139097</td>\n",
              "      <td>-0.055353</td>\n",
              "      <td>-0.059752</td>\n",
              "      <td>378.66</td>\n",
              "      <td>0</td>\n",
              "    </tr>\n",
              "    <tr>\n",
              "      <th>3</th>\n",
              "      <td>1.0</td>\n",
              "      <td>-0.966272</td>\n",
              "      <td>-0.185226</td>\n",
              "      <td>1.792993</td>\n",
              "      <td>-0.863291</td>\n",
              "      <td>-0.010309</td>\n",
              "      <td>1.247203</td>\n",
              "      <td>0.237609</td>\n",
              "      <td>0.377436</td>\n",
              "      <td>-1.387024</td>\n",
              "      <td>-0.054952</td>\n",
              "      <td>-0.226487</td>\n",
              "      <td>0.178228</td>\n",
              "      <td>0.507757</td>\n",
              "      <td>-0.287924</td>\n",
              "      <td>-0.631418</td>\n",
              "      <td>-1.059647</td>\n",
              "      <td>-0.684093</td>\n",
              "      <td>1.965775</td>\n",
              "      <td>-1.232622</td>\n",
              "      <td>-0.208038</td>\n",
              "      <td>-0.108300</td>\n",
              "      <td>0.005274</td>\n",
              "      <td>-0.190321</td>\n",
              "      <td>-1.175575</td>\n",
              "      <td>0.647376</td>\n",
              "      <td>-0.221929</td>\n",
              "      <td>0.062723</td>\n",
              "      <td>0.061458</td>\n",
              "      <td>123.50</td>\n",
              "      <td>0</td>\n",
              "    </tr>\n",
              "    <tr>\n",
              "      <th>4</th>\n",
              "      <td>2.0</td>\n",
              "      <td>-1.158233</td>\n",
              "      <td>0.877737</td>\n",
              "      <td>1.548718</td>\n",
              "      <td>0.403034</td>\n",
              "      <td>-0.407193</td>\n",
              "      <td>0.095921</td>\n",
              "      <td>0.592941</td>\n",
              "      <td>-0.270533</td>\n",
              "      <td>0.817739</td>\n",
              "      <td>0.753074</td>\n",
              "      <td>-0.822843</td>\n",
              "      <td>0.538196</td>\n",
              "      <td>1.345852</td>\n",
              "      <td>-1.119670</td>\n",
              "      <td>0.175121</td>\n",
              "      <td>-0.451449</td>\n",
              "      <td>-0.237033</td>\n",
              "      <td>-0.038195</td>\n",
              "      <td>0.803487</td>\n",
              "      <td>0.408542</td>\n",
              "      <td>-0.009431</td>\n",
              "      <td>0.798278</td>\n",
              "      <td>-0.137458</td>\n",
              "      <td>0.141267</td>\n",
              "      <td>-0.206010</td>\n",
              "      <td>0.502292</td>\n",
              "      <td>0.219422</td>\n",
              "      <td>0.215153</td>\n",
              "      <td>69.99</td>\n",
              "      <td>0</td>\n",
              "    </tr>\n",
              "  </tbody>\n",
              "</table>\n",
              "</div>"
            ],
            "text/plain": [
              "   Time        V1        V2        V3  ...       V27       V28  Amount  Class\n",
              "0   0.0 -1.359807 -0.072781  2.536347  ...  0.133558 -0.021053  149.62      0\n",
              "1   0.0  1.191857  0.266151  0.166480  ... -0.008983  0.014724    2.69      0\n",
              "2   1.0 -1.358354 -1.340163  1.773209  ... -0.055353 -0.059752  378.66      0\n",
              "3   1.0 -0.966272 -0.185226  1.792993  ...  0.062723  0.061458  123.50      0\n",
              "4   2.0 -1.158233  0.877737  1.548718  ...  0.219422  0.215153   69.99      0\n",
              "\n",
              "[5 rows x 31 columns]"
            ]
          },
          "metadata": {
            "tags": []
          },
          "execution_count": 48
        }
      ]
    },
    {
      "cell_type": "code",
      "metadata": {
        "id": "pPmdOS1eY15p"
      },
      "source": [
        "# # Configuring Modules\n",
        "%matplotlib inline\n",
        "sns.set(style='whitegrid', palette='muted', font_scale = 1.5)\n",
        "rcParams['figure.figsize'] = 14, 8\n",
        "Random_Seed = 42"
      ],
      "execution_count": 49,
      "outputs": []
    },
    {
      "cell_type": "code",
      "metadata": {
        "id": "L2SaoyLIY2RG"
      },
      "source": [
        "# Renaming Columns\n",
        "df.rename(columns = {\"Class\": \"Fraud\"}, inplace = True)"
      ],
      "execution_count": 50,
      "outputs": []
    },
    {
      "cell_type": "code",
      "metadata": {
        "colab": {
          "base_uri": "https://localhost:8080/"
        },
        "id": "6zVW4W6jY3Lq",
        "outputId": "04a62695-5feb-4221-bc10-f29881cad87d"
      },
      "source": [
        "# Checking Data For Null Values\n",
        "df.isnull().sum()"
      ],
      "execution_count": 51,
      "outputs": [
        {
          "output_type": "execute_result",
          "data": {
            "text/plain": [
              "Time      0\n",
              "V1        0\n",
              "V2        0\n",
              "V3        0\n",
              "V4        0\n",
              "V5        0\n",
              "V6        0\n",
              "V7        0\n",
              "V8        0\n",
              "V9        0\n",
              "V10       0\n",
              "V11       0\n",
              "V12       0\n",
              "V13       0\n",
              "V14       0\n",
              "V15       0\n",
              "V16       0\n",
              "V17       0\n",
              "V18       0\n",
              "V19       0\n",
              "V20       0\n",
              "V21       0\n",
              "V22       0\n",
              "V23       0\n",
              "V24       0\n",
              "V25       0\n",
              "V26       0\n",
              "V27       0\n",
              "V28       0\n",
              "Amount    0\n",
              "Fraud     0\n",
              "dtype: int64"
            ]
          },
          "metadata": {
            "tags": []
          },
          "execution_count": 51
        }
      ]
    },
    {
      "cell_type": "markdown",
      "metadata": {
        "id": "LPzR1WhfZTKH"
      },
      "source": [
        "OUR DATA CONTAINS NO NULL VALUES"
      ]
    },
    {
      "cell_type": "code",
      "metadata": {
        "colab": {
          "base_uri": "https://localhost:8080/",
          "height": 644
        },
        "id": "fPU6EASNY3qj",
        "outputId": "361a5c6d-19bc-4a68-8774-da3966388a63"
      },
      "source": [
        "# Transaction Class Distribution Plot\n",
        "labels = ['Valid', 'Fraud']\n",
        "plt.figure(figsize = (10,10))\n",
        "count_classes = pd.value_counts(df['Fraud'], sort = True)\n",
        "count_classes.plot(kind = 'bar', rot=0, color = 'red', alpha = 0.5)\n",
        "plt.xticks(range(2), labels)\n",
        "plt.title(\"Transaction Class Distribution Graph\")\n",
        "plt.xlabel(\"Class\")\n",
        "plt.ylabel(\"Number of Observations\")\n",
        "plt.grid()\n",
        "plt.show()"
      ],
      "execution_count": 52,
      "outputs": [
        {
          "output_type": "display_data",
          "data": {
            "image/png": "[encoded data removed]",
            "text/plain": [
              "<Figure size 720x720 with 1 Axes>"
            ]
          },
          "metadata": {
            "tags": []
          }
        }
      ]
    },
    {
      "cell_type": "code",
      "metadata": {
        "colab": {
          "base_uri": "https://localhost:8080/"
        },
        "id": "oMiWO5FpY3-3",
        "outputId": "61f01b02-e1f7-41d0-c167-045dd1c1e25b"
      },
      "source": [
        "len(df)"
      ],
      "execution_count": 53,
      "outputs": [
        {
          "output_type": "execute_result",
          "data": {
            "text/plain": [
              "284807"
            ]
          },
          "metadata": {
            "tags": []
          },
          "execution_count": 53
        }
      ]
    },
    {
      "cell_type": "markdown",
      "metadata": {
        "id": "ogO7y0spZoJx"
      },
      "source": [
        "There are total 284807 number of transactions"
      ]
    },
    {
      "cell_type": "code",
      "metadata": {
        "colab": {
          "base_uri": "https://localhost:8080/"
        },
        "id": "FvL_DJ48Y4Ui",
        "outputId": "f4a910f2-d715-4784-a66e-950e7a263793"
      },
      "source": [
        "len_fraud = len(df[df.Fraud ==  1])\n",
        "len_fraud"
      ],
      "execution_count": 54,
      "outputs": [
        {
          "output_type": "execute_result",
          "data": {
            "text/plain": [
              "492"
            ]
          },
          "metadata": {
            "tags": []
          },
          "execution_count": 54
        }
      ]
    },
    {
      "cell_type": "markdown",
      "metadata": {
        "id": "0ADECKOLZvRJ"
      },
      "source": [
        "Out of 284807 transactions 492 are the fraud transactions"
      ]
    },
    {
      "cell_type": "code",
      "metadata": {
        "colab": {
          "base_uri": "https://localhost:8080/"
        },
        "id": "1G80xUoCY5DY",
        "outputId": "4b1d90af-3837-4823-a2b3-fe567b18c9b9"
      },
      "source": [
        "len_valid = 284807 - 492\n",
        "len_valid"
      ],
      "execution_count": 55,
      "outputs": [
        {
          "output_type": "execute_result",
          "data": {
            "text/plain": [
              "284315"
            ]
          },
          "metadata": {
            "tags": []
          },
          "execution_count": 55
        }
      ]
    },
    {
      "cell_type": "markdown",
      "metadata": {
        "id": "6YpmliVbZ2uj"
      },
      "source": [
        "Out of 284807 transactions 284315 are the valid transactions"
      ]
    },
    {
      "cell_type": "code",
      "metadata": {
        "colab": {
          "base_uri": "https://localhost:8080/"
        },
        "id": "29Ou1PTbY5Q9",
        "outputId": "84fbbdbe-0c89-4292-e74c-33f007be9f11"
      },
      "source": [
        "\n",
        "perc_fraud = (len_fraud * 100) / len(df)\n",
        "perc_fraud"
      ],
      "execution_count": 56,
      "outputs": [
        {
          "output_type": "execute_result",
          "data": {
            "text/plain": [
              "0.1727485630620034"
            ]
          },
          "metadata": {
            "tags": []
          },
          "execution_count": 56
        }
      ]
    },
    {
      "cell_type": "markdown",
      "metadata": {
        "id": "0FJW8VNOaBWU"
      },
      "source": [
        "### As you can see out of total transactions only **0.17 %** are the fraud transactions. It means that we have highly **Imbalance Dataset** in our hands. There is a **large margin** between the valid transactions and the fraud transactions."
      ]
    },
    {
      "cell_type": "code",
      "metadata": {
        "id": "mgr_-kgRY5d6"
      },
      "source": [
        "# Making DataFrames Of Valid And Fraud Transactions To Check Important Stats\n",
        "Fraud_df = df[df.Fraud == 1]\n",
        "Valid_df = df[df.Fraud == 0]"
      ],
      "execution_count": 57,
      "outputs": []
    },
    {
      "cell_type": "code",
      "metadata": {
        "colab": {
          "base_uri": "https://localhost:8080/"
        },
        "id": "47Wp0exYY5o7",
        "outputId": "93b2897e-0afd-422b-fa46-a4d5d6a1ba42"
      },
      "source": [
        "# Checking Important Stats of Amount used in Fraud Transactions\n",
        "Fraud_df.Amount.describe()"
      ],
      "execution_count": 58,
      "outputs": [
        {
          "output_type": "execute_result",
          "data": {
            "text/plain": [
              "count     492.000000\n",
              "mean      122.211321\n",
              "std       256.683288\n",
              "min         0.000000\n",
              "25%         1.000000\n",
              "50%         9.250000\n",
              "75%       105.890000\n",
              "max      2125.870000\n",
              "Name: Amount, dtype: float64"
            ]
          },
          "metadata": {
            "tags": []
          },
          "execution_count": 58
        }
      ]
    },
    {
      "cell_type": "code",
      "metadata": {
        "colab": {
          "base_uri": "https://localhost:8080/"
        },
        "id": "_1WMsHbNY5yp",
        "outputId": "5bd2fc8a-565e-4d72-cdb1-c4effc027b97"
      },
      "source": [
        "# Checking Imprtant Stats of Amount used in Valid Transactions\n",
        "Valid_df.Amount.describe()\n",
        "\n"
      ],
      "execution_count": 59,
      "outputs": [
        {
          "output_type": "execute_result",
          "data": {
            "text/plain": [
              "count    284315.000000\n",
              "mean         88.291022\n",
              "std         250.105092\n",
              "min           0.000000\n",
              "25%           5.650000\n",
              "50%          22.000000\n",
              "75%          77.050000\n",
              "max       25691.160000\n",
              "Name: Amount, dtype: float64"
            ]
          },
          "metadata": {
            "tags": []
          },
          "execution_count": 59
        }
      ]
    },
    {
      "cell_type": "code",
      "metadata": {
        "colab": {
          "base_uri": "https://localhost:8080/",
          "height": 573
        },
        "id": "fAOXr0YYY57Q",
        "outputId": "569d86ad-5349-414f-f12d-641770641648"
      },
      "source": [
        "# Amount per transaction by class\n",
        "\n",
        "\n",
        "f, (ax1, ax2) = plt.subplots(2, 1, sharex=True)\n",
        "f.suptitle('Amount Per Transaction Graph')\n",
        "\n",
        "bins = 50\n",
        "\n",
        "ax1.hist(Fraud_df.Amount, bins = bins, color='blue')\n",
        "ax1.set_title('Fraud Transactions')\n",
        "\n",
        "ax2.hist(Valid_df.Amount, bins = bins, color='red', alpha = 0.5)\n",
        "ax2.set_title('Valid Transactions')\n",
        "\n",
        "plt.xlabel('Amount ($)')\n",
        "plt.ylabel('Number of Transactions')\n",
        "plt.xlim((0, 20000))\n",
        "plt.yscale('log')\n",
        "plt.show();"
      ],
      "execution_count": 60,
      "outputs": [
        {
          "output_type": "display_data",
          "data": {
            "image/png": "[encoded data removed]",
            "text/plain": [
              "<Figure size 1008x576 with 2 Axes>"
            ]
          },
          "metadata": {
            "tags": []
          }
        }
      ]
    },
    {
      "cell_type": "code",
      "metadata": {
        "colab": {
          "base_uri": "https://localhost:8080/",
          "height": 573
        },
        "id": "boAdDvezY7B9",
        "outputId": "badeb7bf-f209-4e95-be1b-2b868c85615c"
      },
      "source": [
        "\n",
        "\n",
        "# Time of transaction vs Amount by class\n",
        "f, (ax1, ax2) = plt.subplots(2, 1, sharex=True)\n",
        "f.suptitle('Time of Transaction VS Amount of Transaction Graph')\n",
        "\n",
        "ax1.scatter(Fraud_df.Time, Fraud_df.Amount)\n",
        "ax1.set_title('Fraud Transactions')\n",
        "\n",
        "ax2.scatter(Valid_df.Time,Valid_df.Amount)\n",
        "ax2.set_title('Valid Transactions')\n",
        "\n",
        "plt.xlabel('Time (In Seconds)')\n",
        "plt.ylabel('Amount')\n",
        "plt.show()"
      ],
      "execution_count": 61,
      "outputs": [
        {
          "output_type": "display_data",
          "data": {
            "image/png": "[encoded data removed]",
            "text/plain": [
              "<Figure size 1008x576 with 2 Axes>"
            ]
          },
          "metadata": {
            "tags": []
          }
        }
      ]
    },
    {
      "cell_type": "code",
      "metadata": {
        "id": "duDDrkquY7IC"
      },
      "source": [
        "# Normalizing Data\n",
        "\n",
        "# We Need To Normalize Two Features: Time And Amount\n",
        "from sklearn.preprocessing import StandardScaler\n",
        "df_norm = df\n",
        "df_norm['Time'] = StandardScaler().fit_transform(df_norm['Time'].values.reshape(-1, 1))\n",
        "df_norm['Amount'] = StandardScaler().fit_transform(df_norm['Amount'].values.reshape(-1, 1))"
      ],
      "execution_count": 62,
      "outputs": []
    },
    {
      "cell_type": "markdown",
      "metadata": {
        "id": "9sFAmuUFaavx"
      },
      "source": [
        "Splitting Dataset Into Testing and Training Data"
      ]
    },
    {
      "cell_type": "code",
      "metadata": {
        "colab": {
          "base_uri": "https://localhost:8080/"
        },
        "id": "HB7mC_ItY7Ny",
        "outputId": "c60f3d7f-a069-4cb7-96b3-d9502f02e2c5"
      },
      "source": [
        "# Training Data\n",
        "train_data = df_norm.iloc[:199365,:]\n",
        "train_data.shape"
      ],
      "execution_count": 63,
      "outputs": [
        {
          "output_type": "execute_result",
          "data": {
            "text/plain": [
              "(199365, 31)"
            ]
          },
          "metadata": {
            "tags": []
          },
          "execution_count": 63
        }
      ]
    },
    {
      "cell_type": "code",
      "metadata": {
        "colab": {
          "base_uri": "https://localhost:8080/"
        },
        "id": "cAKbEVHGY7TA",
        "outputId": "9a818dd0-a282-4f10-d1e8-38147251f58e"
      },
      "source": [
        "# Testing Data\n",
        "test_data = df_norm.iloc[199365:,:]\n",
        "test_data.shape"
      ],
      "execution_count": 64,
      "outputs": [
        {
          "output_type": "execute_result",
          "data": {
            "text/plain": [
              "(85442, 31)"
            ]
          },
          "metadata": {
            "tags": []
          },
          "execution_count": 64
        }
      ]
    },
    {
      "cell_type": "code",
      "metadata": {
        "colab": {
          "base_uri": "https://localhost:8080/",
          "height": 224
        },
        "id": "ypJaaCB4Y7ZJ",
        "outputId": "e04e756c-709e-431a-dc37-4ef9cfea2833"
      },
      "source": [
        "# Shuffling Training And Testing Data\n",
        "train_data = train_data.sample(frac=1)\n",
        "train_data.head()"
      ],
      "execution_count": 65,
      "outputs": [
        {
          "output_type": "execute_result",
          "data": {
            "text/html": [
              "<div>\n",
              "<style scoped>\n",
              "    .dataframe tbody tr th:only-of-type {\n",
              "        vertical-align: middle;\n",
              "    }\n",
              "\n",
              "    .dataframe tbody tr th {\n",
              "        vertical-align: top;\n",
              "    }\n",
              "\n",
              "    .dataframe thead th {\n",
              "        text-align: right;\n",
              "    }\n",
              "</style>\n",
              "<table border=\"1\" class=\"dataframe\">\n",
              "  <thead>\n",
              "    <tr style=\"text-align: right;\">\n",
              "      <th></th>\n",
              "      <th>Time</th>\n",
              "      <th>V1</th>\n",
              "      <th>V2</th>\n",
              "      <th>V3</th>\n",
              "      <th>V4</th>\n",
              "      <th>V5</th>\n",
              "      <th>V6</th>\n",
              "      <th>V7</th>\n",
              "      <th>V8</th>\n",
              "      <th>V9</th>\n",
              "      <th>V10</th>\n",
              "      <th>V11</th>\n",
              "      <th>V12</th>\n",
              "      <th>V13</th>\n",
              "      <th>V14</th>\n",
              "      <th>V15</th>\n",
              "      <th>V16</th>\n",
              "      <th>V17</th>\n",
              "      <th>V18</th>\n",
              "      <th>V19</th>\n",
              "      <th>V20</th>\n",
              "      <th>V21</th>\n",
              "      <th>V22</th>\n",
              "      <th>V23</th>\n",
              "      <th>V24</th>\n",
              "      <th>V25</th>\n",
              "      <th>V26</th>\n",
              "      <th>V27</th>\n",
              "      <th>V28</th>\n",
              "      <th>Amount</th>\n",
              "      <th>Fraud</th>\n",
              "    </tr>\n",
              "  </thead>\n",
              "  <tbody>\n",
              "    <tr>\n",
              "      <th>51533</th>\n",
              "      <td>-1.048976</td>\n",
              "      <td>0.973589</td>\n",
              "      <td>-0.643713</td>\n",
              "      <td>0.793057</td>\n",
              "      <td>0.495459</td>\n",
              "      <td>-0.710463</td>\n",
              "      <td>0.655105</td>\n",
              "      <td>-0.752266</td>\n",
              "      <td>0.262682</td>\n",
              "      <td>0.845504</td>\n",
              "      <td>-0.191253</td>\n",
              "      <td>-1.155546</td>\n",
              "      <td>-0.269115</td>\n",
              "      <td>0.096311</td>\n",
              "      <td>-0.150692</td>\n",
              "      <td>1.978057</td>\n",
              "      <td>0.879938</td>\n",
              "      <td>-0.757800</td>\n",
              "      <td>0.372346</td>\n",
              "      <td>-0.636294</td>\n",
              "      <td>0.166281</td>\n",
              "      <td>0.258214</td>\n",
              "      <td>0.534309</td>\n",
              "      <td>-0.237444</td>\n",
              "      <td>-0.890258</td>\n",
              "      <td>0.212322</td>\n",
              "      <td>0.551107</td>\n",
              "      <td>0.010363</td>\n",
              "      <td>0.040329</td>\n",
              "      <td>0.185313</td>\n",
              "      <td>0</td>\n",
              "    </tr>\n",
              "    <tr>\n",
              "      <th>74742</th>\n",
              "      <td>-0.822962</td>\n",
              "      <td>1.184561</td>\n",
              "      <td>-0.202022</td>\n",
              "      <td>-0.699687</td>\n",
              "      <td>-0.012383</td>\n",
              "      <td>0.030743</td>\n",
              "      <td>-0.921186</td>\n",
              "      <td>0.487977</td>\n",
              "      <td>-0.315552</td>\n",
              "      <td>0.041715</td>\n",
              "      <td>-0.099680</td>\n",
              "      <td>-1.150072</td>\n",
              "      <td>-0.617967</td>\n",
              "      <td>-0.766152</td>\n",
              "      <td>0.639805</td>\n",
              "      <td>0.937303</td>\n",
              "      <td>0.210172</td>\n",
              "      <td>-0.406596</td>\n",
              "      <td>-0.280795</td>\n",
              "      <td>0.409537</td>\n",
              "      <td>0.096713</td>\n",
              "      <td>-0.052641</td>\n",
              "      <td>-0.399791</td>\n",
              "      <td>-0.267204</td>\n",
              "      <td>-0.381238</td>\n",
              "      <td>0.593334</td>\n",
              "      <td>1.114471</td>\n",
              "      <td>-0.140171</td>\n",
              "      <td>-0.001816</td>\n",
              "      <td>0.082362</td>\n",
              "      <td>0</td>\n",
              "    </tr>\n",
              "    <tr>\n",
              "      <th>181793</th>\n",
              "      <td>0.638353</td>\n",
              "      <td>-0.289859</td>\n",
              "      <td>1.749597</td>\n",
              "      <td>-0.562436</td>\n",
              "      <td>4.051860</td>\n",
              "      <td>1.493352</td>\n",
              "      <td>1.390328</td>\n",
              "      <td>0.539786</td>\n",
              "      <td>0.638814</td>\n",
              "      <td>-2.433808</td>\n",
              "      <td>1.667213</td>\n",
              "      <td>-0.800007</td>\n",
              "      <td>-0.599200</td>\n",
              "      <td>-0.499205</td>\n",
              "      <td>1.051584</td>\n",
              "      <td>-0.676168</td>\n",
              "      <td>-0.164770</td>\n",
              "      <td>0.024303</td>\n",
              "      <td>0.640099</td>\n",
              "      <td>2.057165</td>\n",
              "      <td>0.231211</td>\n",
              "      <td>0.087763</td>\n",
              "      <td>0.260417</td>\n",
              "      <td>-0.162329</td>\n",
              "      <td>-0.478106</td>\n",
              "      <td>-0.374447</td>\n",
              "      <td>0.416189</td>\n",
              "      <td>0.314860</td>\n",
              "      <td>0.173556</td>\n",
              "      <td>-0.273268</td>\n",
              "      <td>0</td>\n",
              "    </tr>\n",
              "    <tr>\n",
              "      <th>78375</th>\n",
              "      <td>-0.785795</td>\n",
              "      <td>1.260940</td>\n",
              "      <td>-0.232888</td>\n",
              "      <td>0.464343</td>\n",
              "      <td>-0.285892</td>\n",
              "      <td>-0.622840</td>\n",
              "      <td>-0.351529</td>\n",
              "      <td>-0.336600</td>\n",
              "      <td>0.045918</td>\n",
              "      <td>0.525965</td>\n",
              "      <td>-0.216003</td>\n",
              "      <td>0.834034</td>\n",
              "      <td>0.971408</td>\n",
              "      <td>-0.233323</td>\n",
              "      <td>0.041459</td>\n",
              "      <td>-0.673658</td>\n",
              "      <td>0.130384</td>\n",
              "      <td>-0.227269</td>\n",
              "      <td>-0.316213</td>\n",
              "      <td>0.995661</td>\n",
              "      <td>-0.069920</td>\n",
              "      <td>-0.311421</td>\n",
              "      <td>-0.765448</td>\n",
              "      <td>0.073202</td>\n",
              "      <td>0.081818</td>\n",
              "      <td>0.144835</td>\n",
              "      <td>1.129042</td>\n",
              "      <td>-0.091601</td>\n",
              "      <td>-0.012792</td>\n",
              "      <td>-0.349231</td>\n",
              "      <td>0</td>\n",
              "    </tr>\n",
              "    <tr>\n",
              "      <th>130655</th>\n",
              "      <td>-0.324542</td>\n",
              "      <td>-3.469377</td>\n",
              "      <td>0.565120</td>\n",
              "      <td>-0.608331</td>\n",
              "      <td>-2.576538</td>\n",
              "      <td>-0.710003</td>\n",
              "      <td>0.240302</td>\n",
              "      <td>-0.952566</td>\n",
              "      <td>2.049209</td>\n",
              "      <td>0.551127</td>\n",
              "      <td>-2.242098</td>\n",
              "      <td>0.167964</td>\n",
              "      <td>1.708724</td>\n",
              "      <td>0.723035</td>\n",
              "      <td>1.204569</td>\n",
              "      <td>1.978921</td>\n",
              "      <td>-0.828109</td>\n",
              "      <td>1.216438</td>\n",
              "      <td>-1.933222</td>\n",
              "      <td>-1.798101</td>\n",
              "      <td>-0.478722</td>\n",
              "      <td>0.224659</td>\n",
              "      <td>0.453068</td>\n",
              "      <td>0.265987</td>\n",
              "      <td>-0.907778</td>\n",
              "      <td>-0.193696</td>\n",
              "      <td>-0.226663</td>\n",
              "      <td>-0.126961</td>\n",
              "      <td>-0.307649</td>\n",
              "      <td>-0.351230</td>\n",
              "      <td>0</td>\n",
              "    </tr>\n",
              "  </tbody>\n",
              "</table>\n",
              "</div>"
            ],
            "text/plain": [
              "            Time        V1        V2  ...       V28    Amount  Fraud\n",
              "51533  -1.048976  0.973589 -0.643713  ...  0.040329  0.185313      0\n",
              "74742  -0.822962  1.184561 -0.202022  ... -0.001816  0.082362      0\n",
              "181793  0.638353 -0.289859  1.749597  ...  0.173556 -0.273268      0\n",
              "78375  -0.785795  1.260940 -0.232888  ... -0.012792 -0.349231      0\n",
              "130655 -0.324542 -3.469377  0.565120  ... -0.307649 -0.351230      0\n",
              "\n",
              "[5 rows x 31 columns]"
            ]
          },
          "metadata": {
            "tags": []
          },
          "execution_count": 65
        }
      ]
    },
    {
      "cell_type": "code",
      "metadata": {
        "colab": {
          "base_uri": "https://localhost:8080/",
          "height": 224
        },
        "id": "1nHn_v1UY7eq",
        "outputId": "3f914daa-bcb9-4419-91a7-0856ac77a6ba"
      },
      "source": [
        "test_data = test_data.sample(frac = 1)\n",
        "test_data.head()"
      ],
      "execution_count": 66,
      "outputs": [
        {
          "output_type": "execute_result",
          "data": {
            "text/html": [
              "<div>\n",
              "<style scoped>\n",
              "    .dataframe tbody tr th:only-of-type {\n",
              "        vertical-align: middle;\n",
              "    }\n",
              "\n",
              "    .dataframe tbody tr th {\n",
              "        vertical-align: top;\n",
              "    }\n",
              "\n",
              "    .dataframe thead th {\n",
              "        text-align: right;\n",
              "    }\n",
              "</style>\n",
              "<table border=\"1\" class=\"dataframe\">\n",
              "  <thead>\n",
              "    <tr style=\"text-align: right;\">\n",
              "      <th></th>\n",
              "      <th>Time</th>\n",
              "      <th>V1</th>\n",
              "      <th>V2</th>\n",
              "      <th>V3</th>\n",
              "      <th>V4</th>\n",
              "      <th>V5</th>\n",
              "      <th>V6</th>\n",
              "      <th>V7</th>\n",
              "      <th>V8</th>\n",
              "      <th>V9</th>\n",
              "      <th>V10</th>\n",
              "      <th>V11</th>\n",
              "      <th>V12</th>\n",
              "      <th>V13</th>\n",
              "      <th>V14</th>\n",
              "      <th>V15</th>\n",
              "      <th>V16</th>\n",
              "      <th>V17</th>\n",
              "      <th>V18</th>\n",
              "      <th>V19</th>\n",
              "      <th>V20</th>\n",
              "      <th>V21</th>\n",
              "      <th>V22</th>\n",
              "      <th>V23</th>\n",
              "      <th>V24</th>\n",
              "      <th>V25</th>\n",
              "      <th>V26</th>\n",
              "      <th>V27</th>\n",
              "      <th>V28</th>\n",
              "      <th>Amount</th>\n",
              "      <th>Fraud</th>\n",
              "    </tr>\n",
              "  </thead>\n",
              "  <tbody>\n",
              "    <tr>\n",
              "      <th>250100</th>\n",
              "      <td>1.261646</td>\n",
              "      <td>-0.861561</td>\n",
              "      <td>0.479845</td>\n",
              "      <td>-0.463140</td>\n",
              "      <td>-2.604302</td>\n",
              "      <td>0.726719</td>\n",
              "      <td>-2.705760</td>\n",
              "      <td>2.308107</td>\n",
              "      <td>-0.870600</td>\n",
              "      <td>-0.013777</td>\n",
              "      <td>-1.712063</td>\n",
              "      <td>0.096531</td>\n",
              "      <td>0.755360</td>\n",
              "      <td>0.027861</td>\n",
              "      <td>0.702966</td>\n",
              "      <td>-0.357163</td>\n",
              "      <td>-1.680262</td>\n",
              "      <td>0.150706</td>\n",
              "      <td>-0.753684</td>\n",
              "      <td>-0.027659</td>\n",
              "      <td>-0.194623</td>\n",
              "      <td>0.424205</td>\n",
              "      <td>1.369322</td>\n",
              "      <td>-0.552009</td>\n",
              "      <td>1.066092</td>\n",
              "      <td>1.000140</td>\n",
              "      <td>0.068562</td>\n",
              "      <td>-0.070486</td>\n",
              "      <td>0.092485</td>\n",
              "      <td>0.062572</td>\n",
              "      <td>0</td>\n",
              "    </tr>\n",
              "    <tr>\n",
              "      <th>263456</th>\n",
              "      <td>1.392985</td>\n",
              "      <td>2.109346</td>\n",
              "      <td>-0.773027</td>\n",
              "      <td>-1.474490</td>\n",
              "      <td>-0.895177</td>\n",
              "      <td>-0.277882</td>\n",
              "      <td>-0.001369</td>\n",
              "      <td>-1.001901</td>\n",
              "      <td>0.083748</td>\n",
              "      <td>-0.215886</td>\n",
              "      <td>0.226244</td>\n",
              "      <td>0.829618</td>\n",
              "      <td>-0.147740</td>\n",
              "      <td>0.549858</td>\n",
              "      <td>-2.022935</td>\n",
              "      <td>-0.312696</td>\n",
              "      <td>2.059951</td>\n",
              "      <td>0.852184</td>\n",
              "      <td>0.249987</td>\n",
              "      <td>0.733230</td>\n",
              "      <td>0.156613</td>\n",
              "      <td>0.259987</td>\n",
              "      <td>0.740278</td>\n",
              "      <td>0.026154</td>\n",
              "      <td>0.001617</td>\n",
              "      <td>-0.073202</td>\n",
              "      <td>-0.105458</td>\n",
              "      <td>0.017516</td>\n",
              "      <td>-0.016451</td>\n",
              "      <td>-0.193346</td>\n",
              "      <td>0</td>\n",
              "    </tr>\n",
              "    <tr>\n",
              "      <th>275528</th>\n",
              "      <td>1.511141</td>\n",
              "      <td>2.108480</td>\n",
              "      <td>0.081377</td>\n",
              "      <td>-1.523171</td>\n",
              "      <td>0.196024</td>\n",
              "      <td>0.656642</td>\n",
              "      <td>-0.523852</td>\n",
              "      <td>0.425697</td>\n",
              "      <td>-0.456657</td>\n",
              "      <td>0.183893</td>\n",
              "      <td>-0.038171</td>\n",
              "      <td>-1.231174</td>\n",
              "      <td>1.751750</td>\n",
              "      <td>3.272734</td>\n",
              "      <td>-0.430817</td>\n",
              "      <td>-0.486147</td>\n",
              "      <td>-0.102798</td>\n",
              "      <td>-0.741074</td>\n",
              "      <td>-0.932517</td>\n",
              "      <td>0.572358</td>\n",
              "      <td>0.032121</td>\n",
              "      <td>-0.273299</td>\n",
              "      <td>-0.488884</td>\n",
              "      <td>0.105108</td>\n",
              "      <td>-0.903408</td>\n",
              "      <td>0.043961</td>\n",
              "      <td>0.326695</td>\n",
              "      <td>-0.057166</td>\n",
              "      <td>-0.064558</td>\n",
              "      <td>-0.281944</td>\n",
              "      <td>0</td>\n",
              "    </tr>\n",
              "    <tr>\n",
              "      <th>217503</th>\n",
              "      <td>0.970794</td>\n",
              "      <td>-1.177971</td>\n",
              "      <td>-0.579186</td>\n",
              "      <td>2.480835</td>\n",
              "      <td>-1.057355</td>\n",
              "      <td>-1.575654</td>\n",
              "      <td>-0.267116</td>\n",
              "      <td>0.208785</td>\n",
              "      <td>-0.099648</td>\n",
              "      <td>-0.638334</td>\n",
              "      <td>-0.318040</td>\n",
              "      <td>-0.238190</td>\n",
              "      <td>0.077832</td>\n",
              "      <td>0.733591</td>\n",
              "      <td>-1.175323</td>\n",
              "      <td>-0.972106</td>\n",
              "      <td>0.302127</td>\n",
              "      <td>0.992057</td>\n",
              "      <td>-1.867853</td>\n",
              "      <td>1.027080</td>\n",
              "      <td>0.111434</td>\n",
              "      <td>0.013077</td>\n",
              "      <td>0.253177</td>\n",
              "      <td>-0.134795</td>\n",
              "      <td>0.929499</td>\n",
              "      <td>0.236657</td>\n",
              "      <td>-0.219346</td>\n",
              "      <td>0.105938</td>\n",
              "      <td>-0.001752</td>\n",
              "      <td>0.446388</td>\n",
              "      <td>0</td>\n",
              "    </tr>\n",
              "    <tr>\n",
              "      <th>257848</th>\n",
              "      <td>1.338318</td>\n",
              "      <td>1.975572</td>\n",
              "      <td>0.257052</td>\n",
              "      <td>-2.306021</td>\n",
              "      <td>0.710884</td>\n",
              "      <td>0.692095</td>\n",
              "      <td>-0.652265</td>\n",
              "      <td>0.081548</td>\n",
              "      <td>-0.072337</td>\n",
              "      <td>0.434518</td>\n",
              "      <td>-0.909660</td>\n",
              "      <td>1.469536</td>\n",
              "      <td>0.606872</td>\n",
              "      <td>-0.252219</td>\n",
              "      <td>-2.463212</td>\n",
              "      <td>-1.012687</td>\n",
              "      <td>0.489980</td>\n",
              "      <td>1.825434</td>\n",
              "      <td>1.045997</td>\n",
              "      <td>-0.055052</td>\n",
              "      <td>-0.103585</td>\n",
              "      <td>0.038574</td>\n",
              "      <td>0.372966</td>\n",
              "      <td>-0.015670</td>\n",
              "      <td>0.567602</td>\n",
              "      <td>0.176486</td>\n",
              "      <td>0.675621</td>\n",
              "      <td>-0.042339</td>\n",
              "      <td>-0.014609</td>\n",
              "      <td>-0.304013</td>\n",
              "      <td>0</td>\n",
              "    </tr>\n",
              "  </tbody>\n",
              "</table>\n",
              "</div>"
            ],
            "text/plain": [
              "            Time        V1        V2  ...       V28    Amount  Fraud\n",
              "250100  1.261646 -0.861561  0.479845  ...  0.092485  0.062572      0\n",
              "263456  1.392985  2.109346 -0.773027  ... -0.016451 -0.193346      0\n",
              "275528  1.511141  2.108480  0.081377  ... -0.064558 -0.281944      0\n",
              "217503  0.970794 -1.177971 -0.579186  ... -0.001752  0.446388      0\n",
              "257848  1.338318  1.975572  0.257052  ... -0.014609 -0.304013      0\n",
              "\n",
              "[5 rows x 31 columns]"
            ]
          },
          "metadata": {
            "tags": []
          },
          "execution_count": 66
        }
      ]
    },
    {
      "cell_type": "code",
      "metadata": {
        "id": "334j-i3LY7gl"
      },
      "source": [
        "# Droping Labels From Training And Testing Data\n",
        "train_labels = train_data.pop('Fraud')\n",
        "# train_labels = train_labels.values\n",
        "test_labels = test_data.pop('Fraud')\n",
        "# test_labels = test_labels.values"
      ],
      "execution_count": 67,
      "outputs": []
    },
    {
      "cell_type": "code",
      "metadata": {
        "colab": {
          "base_uri": "https://localhost:8080/"
        },
        "id": "YqCB8NGlY7kH",
        "outputId": "3481e60b-5e83-4e5a-a877-1b31511c4762"
      },
      "source": [
        "# Building Base Model\n",
        "model = Sequential()\n",
        "model.add(Dense(10, activation = 'relu', input_shape = [len(train_data.keys())]))\n",
        "model.add(Dense(8, activation = 'relu'))\n",
        "model.add(Dense(6, activation = 'relu'))\n",
        "model.add(Dense(1, activation='sigmoid'))\n",
        "model.compile(optimizer = 'adam', loss = 'binary_crossentropy', metrics = ['accuracy'])\n",
        "model.summary()"
      ],
      "execution_count": 68,
      "outputs": [
        {
          "output_type": "stream",
          "text": [
            "Model: \"sequential_1\"\n",
            "_________________________________________________________________\n",
            "Layer (type)                 Output Shape              Param #   \n",
            "=================================================================\n",
            "dense_4 (Dense)              (None, 10)                310       \n",
            "_________________________________________________________________\n",
            "dense_5 (Dense)              (None, 8)                 88        \n",
            "_________________________________________________________________\n",
            "dense_6 (Dense)              (None, 6)                 54        \n",
            "_________________________________________________________________\n",
            "dense_7 (Dense)              (None, 1)                 7         \n",
            "=================================================================\n",
            "Total params: 459\n",
            "Trainable params: 459\n",
            "Non-trainable params: 0\n",
            "_________________________________________________________________\n"
          ],
          "name": "stdout"
        }
      ]
    },
    {
      "cell_type": "code",
      "metadata": {
        "id": "thnRZNgTY7pz"
      },
      "source": [
        "from keras.callbacks import ModelCheckpoint, TensorBoard\n",
        "checkpointer = ModelCheckpoint(filepath = 'CreditCardFraudDetectionModel.h5', verbose = 0, save_best_only = True)\n",
        "tensorboard = TensorBoard(log_dir = './logs', histogram_freq = 0, write_graph = True, write_images = True)"
      ],
      "execution_count": 69,
      "outputs": []
    },
    {
      "cell_type": "code",
      "metadata": {
        "colab": {
          "base_uri": "https://localhost:8080/"
        },
        "id": "7Sqq7eKiY7vY",
        "outputId": "ae3718af-3111-4e48-b0de-4da576fd77d3"
      },
      "source": [
        "# Fitting Base Model On 100 Epochs\n",
        "history = model.fit(train_data, train_labels, epochs = 100, batch_size = 32, shuffle=True, validation_split=0.2, verbose = 1, callbacks=[checkpointer, tensorboard]).history"
      ],
      "execution_count": 70,
      "outputs": [
        {
          "output_type": "stream",
          "text": [
            "Epoch 1/100\n",
            "4985/4985 [==============================] - 8s 2ms/step - loss: 0.0671 - accuracy: 0.9868 - val_loss: 0.0035 - val_accuracy: 0.9996\n",
            "Epoch 2/100\n",
            "4985/4985 [==============================] - 8s 2ms/step - loss: 0.0036 - accuracy: 0.9992 - val_loss: 0.0032 - val_accuracy: 0.9994\n",
            "Epoch 3/100\n",
            "4985/4985 [==============================] - 8s 2ms/step - loss: 0.0031 - accuracy: 0.9994 - val_loss: 0.0032 - val_accuracy: 0.9995\n",
            "Epoch 4/100\n",
            "4985/4985 [==============================] - 8s 2ms/step - loss: 0.0034 - accuracy: 0.9992 - val_loss: 0.0030 - val_accuracy: 0.9995\n",
            "Epoch 5/100\n",
            "4985/4985 [==============================] - 8s 2ms/step - loss: 0.0025 - accuracy: 0.9993 - val_loss: 0.0027 - val_accuracy: 0.9996\n",
            "Epoch 6/100\n",
            "4985/4985 [==============================] - 8s 2ms/step - loss: 0.0027 - accuracy: 0.9994 - val_loss: 0.0031 - val_accuracy: 0.9993\n",
            "Epoch 7/100\n",
            "4985/4985 [==============================] - 8s 2ms/step - loss: 0.0030 - accuracy: 0.9992 - val_loss: 0.0027 - val_accuracy: 0.9995\n",
            "Epoch 8/100\n",
            "4985/4985 [==============================] - 8s 2ms/step - loss: 0.0030 - accuracy: 0.9992 - val_loss: 0.0026 - val_accuracy: 0.9996\n",
            "Epoch 9/100\n",
            "4985/4985 [==============================] - 8s 2ms/step - loss: 0.0028 - accuracy: 0.9993 - val_loss: 0.0027 - val_accuracy: 0.9996\n",
            "Epoch 10/100\n",
            "4985/4985 [==============================] - 8s 2ms/step - loss: 0.0025 - accuracy: 0.9994 - val_loss: 0.0030 - val_accuracy: 0.9995\n",
            "Epoch 11/100\n",
            "4985/4985 [==============================] - 8s 2ms/step - loss: 0.0024 - accuracy: 0.9993 - val_loss: 0.0028 - val_accuracy: 0.9996\n",
            "Epoch 12/100\n",
            "4985/4985 [==============================] - 8s 2ms/step - loss: 0.0022 - accuracy: 0.9994 - val_loss: 0.0028 - val_accuracy: 0.9996\n",
            "Epoch 13/100\n",
            "4985/4985 [==============================] - 8s 2ms/step - loss: 0.0024 - accuracy: 0.9994 - val_loss: 0.0030 - val_accuracy: 0.9994\n",
            "Epoch 14/100\n",
            "4985/4985 [==============================] - 8s 2ms/step - loss: 0.0023 - accuracy: 0.9994 - val_loss: 0.0032 - val_accuracy: 0.9993\n",
            "Epoch 15/100\n",
            "4985/4985 [==============================] - 8s 2ms/step - loss: 0.0022 - accuracy: 0.9994 - val_loss: 0.0027 - val_accuracy: 0.9996\n",
            "Epoch 16/100\n",
            "4985/4985 [==============================] - 8s 2ms/step - loss: 0.0024 - accuracy: 0.9993 - val_loss: 0.0030 - val_accuracy: 0.9994\n",
            "Epoch 17/100\n",
            "4985/4985 [==============================] - 8s 2ms/step - loss: 0.0024 - accuracy: 0.9993 - val_loss: 0.0031 - val_accuracy: 0.9994\n",
            "Epoch 18/100\n",
            "4985/4985 [==============================] - 8s 2ms/step - loss: 0.0022 - accuracy: 0.9994 - val_loss: 0.0029 - val_accuracy: 0.9995\n",
            "Epoch 19/100\n",
            "4985/4985 [==============================] - 8s 2ms/step - loss: 0.0023 - accuracy: 0.9994 - val_loss: 0.0030 - val_accuracy: 0.9995\n",
            "Epoch 20/100\n",
            "4985/4985 [==============================] - 8s 2ms/step - loss: 0.0022 - accuracy: 0.9994 - val_loss: 0.0029 - val_accuracy: 0.9995\n",
            "Epoch 21/100\n",
            "4985/4985 [==============================] - 8s 2ms/step - loss: 0.0020 - accuracy: 0.9993 - val_loss: 0.0033 - val_accuracy: 0.9995\n",
            "Epoch 22/100\n",
            "4985/4985 [==============================] - 8s 2ms/step - loss: 0.0019 - accuracy: 0.9994 - val_loss: 0.0029 - val_accuracy: 0.9994\n",
            "Epoch 23/100\n",
            "4985/4985 [==============================] - 8s 2ms/step - loss: 0.0020 - accuracy: 0.9993 - val_loss: 0.0031 - val_accuracy: 0.9993\n",
            "Epoch 24/100\n",
            "4985/4985 [==============================] - 8s 2ms/step - loss: 0.0016 - accuracy: 0.9995 - val_loss: 0.0030 - val_accuracy: 0.9993\n",
            "Epoch 25/100\n",
            "4985/4985 [==============================] - 8s 2ms/step - loss: 0.0017 - accuracy: 0.9995 - val_loss: 0.0032 - val_accuracy: 0.9994\n",
            "Epoch 26/100\n",
            "4985/4985 [==============================] - 8s 2ms/step - loss: 0.0020 - accuracy: 0.9995 - val_loss: 0.0028 - val_accuracy: 0.9994\n",
            "Epoch 27/100\n",
            "4985/4985 [==============================] - 8s 2ms/step - loss: 0.0021 - accuracy: 0.9994 - val_loss: 0.0033 - val_accuracy: 0.9993\n",
            "Epoch 28/100\n",
            "4985/4985 [==============================] - 8s 2ms/step - loss: 0.0016 - accuracy: 0.9995 - val_loss: 0.0032 - val_accuracy: 0.9994\n",
            "Epoch 29/100\n",
            "4985/4985 [==============================] - 8s 2ms/step - loss: 0.0018 - accuracy: 0.9994 - val_loss: 0.0036 - val_accuracy: 0.9993\n",
            "Epoch 30/100\n",
            "4985/4985 [==============================] - 8s 2ms/step - loss: 0.0015 - accuracy: 0.9996 - val_loss: 0.0030 - val_accuracy: 0.9994\n",
            "Epoch 31/100\n",
            "4985/4985 [==============================] - 8s 2ms/step - loss: 0.0018 - accuracy: 0.9994 - val_loss: 0.0036 - val_accuracy: 0.9993\n",
            "Epoch 32/100\n",
            "4985/4985 [==============================] - 8s 2ms/step - loss: 0.0016 - accuracy: 0.9995 - val_loss: 0.0036 - val_accuracy: 0.9993\n",
            "Epoch 33/100\n",
            "4985/4985 [==============================] - 8s 2ms/step - loss: 0.0016 - accuracy: 0.9996 - val_loss: 0.0031 - val_accuracy: 0.9994\n",
            "Epoch 34/100\n",
            "4985/4985 [==============================] - 8s 2ms/step - loss: 0.0016 - accuracy: 0.9996 - val_loss: 0.0031 - val_accuracy: 0.9993\n",
            "Epoch 35/100\n",
            "4985/4985 [==============================] - 8s 2ms/step - loss: 0.0015 - accuracy: 0.9995 - val_loss: 0.0033 - val_accuracy: 0.9993\n",
            "Epoch 36/100\n",
            "4985/4985 [==============================] - 8s 2ms/step - loss: 0.0019 - accuracy: 0.9995 - val_loss: 0.0037 - val_accuracy: 0.9994\n",
            "Epoch 37/100\n",
            "4985/4985 [==============================] - 8s 2ms/step - loss: 0.0015 - accuracy: 0.9995 - val_loss: 0.0035 - val_accuracy: 0.9993\n",
            "Epoch 38/100\n",
            "4985/4985 [==============================] - 8s 2ms/step - loss: 0.0019 - accuracy: 0.9994 - val_loss: 0.0033 - val_accuracy: 0.9994\n",
            "Epoch 39/100\n",
            "4985/4985 [==============================] - 8s 2ms/step - loss: 0.0019 - accuracy: 0.9994 - val_loss: 0.0034 - val_accuracy: 0.9993\n",
            "Epoch 40/100\n",
            "4985/4985 [==============================] - 8s 2ms/step - loss: 0.0015 - accuracy: 0.9995 - val_loss: 0.0034 - val_accuracy: 0.9994\n",
            "Epoch 41/100\n",
            "4985/4985 [==============================] - 8s 2ms/step - loss: 0.0013 - accuracy: 0.9996 - val_loss: 0.0035 - val_accuracy: 0.9994\n",
            "Epoch 42/100\n",
            "4985/4985 [==============================] - 8s 2ms/step - loss: 0.0019 - accuracy: 0.9994 - val_loss: 0.0038 - val_accuracy: 0.9994\n",
            "Epoch 43/100\n",
            "4985/4985 [==============================] - 8s 2ms/step - loss: 0.0015 - accuracy: 0.9996 - val_loss: 0.0034 - val_accuracy: 0.9994\n",
            "Epoch 44/100\n",
            "4985/4985 [==============================] - 8s 2ms/step - loss: 0.0015 - accuracy: 0.9995 - val_loss: 0.0041 - val_accuracy: 0.9992\n",
            "Epoch 45/100\n",
            "4985/4985 [==============================] - 8s 2ms/step - loss: 0.0016 - accuracy: 0.9995 - val_loss: 0.0047 - val_accuracy: 0.9993\n",
            "Epoch 46/100\n",
            "4985/4985 [==============================] - 8s 2ms/step - loss: 0.0014 - accuracy: 0.9995 - val_loss: 0.0042 - val_accuracy: 0.9993\n",
            "Epoch 47/100\n",
            "4985/4985 [==============================] - 8s 2ms/step - loss: 0.0016 - accuracy: 0.9994 - val_loss: 0.0035 - val_accuracy: 0.9993\n",
            "Epoch 48/100\n",
            "4985/4985 [==============================] - 8s 2ms/step - loss: 0.0014 - accuracy: 0.9996 - val_loss: 0.0041 - val_accuracy: 0.9992\n",
            "Epoch 49/100\n",
            "4985/4985 [==============================] - 8s 2ms/step - loss: 0.0015 - accuracy: 0.9996 - val_loss: 0.0041 - val_accuracy: 0.9993\n",
            "Epoch 50/100\n",
            "4985/4985 [==============================] - 8s 2ms/step - loss: 0.0015 - accuracy: 0.9995 - val_loss: 0.0037 - val_accuracy: 0.9993\n",
            "Epoch 51/100\n",
            "4985/4985 [==============================] - 8s 2ms/step - loss: 0.0014 - accuracy: 0.9996 - val_loss: 0.0039 - val_accuracy: 0.9993\n",
            "Epoch 52/100\n",
            "4985/4985 [==============================] - 8s 2ms/step - loss: 0.0014 - accuracy: 0.9995 - val_loss: 0.0042 - val_accuracy: 0.9993\n",
            "Epoch 53/100\n",
            "4985/4985 [==============================] - 8s 2ms/step - loss: 0.0014 - accuracy: 0.9995 - val_loss: 0.0039 - val_accuracy: 0.9993\n",
            "Epoch 54/100\n",
            "4985/4985 [==============================] - 8s 2ms/step - loss: 0.0016 - accuracy: 0.9995 - val_loss: 0.0040 - val_accuracy: 0.9993\n",
            "Epoch 55/100\n",
            "4985/4985 [==============================] - 8s 2ms/step - loss: 0.0015 - accuracy: 0.9996 - val_loss: 0.0038 - val_accuracy: 0.9993\n",
            "Epoch 56/100\n",
            "4985/4985 [==============================] - 8s 2ms/step - loss: 0.0017 - accuracy: 0.9995 - val_loss: 0.0041 - val_accuracy: 0.9993\n",
            "Epoch 57/100\n",
            "4985/4985 [==============================] - 8s 2ms/step - loss: 0.0014 - accuracy: 0.9995 - val_loss: 0.0045 - val_accuracy: 0.9993\n",
            "Epoch 58/100\n",
            "4985/4985 [==============================] - 8s 2ms/step - loss: 0.0012 - accuracy: 0.9996 - val_loss: 0.0045 - val_accuracy: 0.9993\n",
            "Epoch 59/100\n",
            "4985/4985 [==============================] - 8s 2ms/step - loss: 0.0013 - accuracy: 0.9995 - val_loss: 0.0043 - val_accuracy: 0.9993\n",
            "Epoch 60/100\n",
            "4985/4985 [==============================] - 8s 2ms/step - loss: 0.0013 - accuracy: 0.9995 - val_loss: 0.0043 - val_accuracy: 0.9993\n",
            "Epoch 61/100\n",
            "4985/4985 [==============================] - 8s 2ms/step - loss: 0.0013 - accuracy: 0.9996 - val_loss: 0.0040 - val_accuracy: 0.9993\n",
            "Epoch 62/100\n",
            "4985/4985 [==============================] - 8s 2ms/step - loss: 0.0013 - accuracy: 0.9996 - val_loss: 0.0042 - val_accuracy: 0.9994\n",
            "Epoch 63/100\n",
            "4985/4985 [==============================] - 8s 2ms/step - loss: 0.0013 - accuracy: 0.9996 - val_loss: 0.0055 - val_accuracy: 0.9990\n",
            "Epoch 64/100\n",
            "4985/4985 [==============================] - 8s 2ms/step - loss: 0.0014 - accuracy: 0.9995 - val_loss: 0.0043 - val_accuracy: 0.9993\n",
            "Epoch 65/100\n",
            "4985/4985 [==============================] - 8s 2ms/step - loss: 0.0016 - accuracy: 0.9995 - val_loss: 0.0045 - val_accuracy: 0.9993\n",
            "Epoch 66/100\n",
            "4985/4985 [==============================] - 8s 2ms/step - loss: 0.0015 - accuracy: 0.9995 - val_loss: 0.0052 - val_accuracy: 0.9992\n",
            "Epoch 67/100\n",
            "4985/4985 [==============================] - 8s 2ms/step - loss: 0.0015 - accuracy: 0.9994 - val_loss: 0.0046 - val_accuracy: 0.9993\n",
            "Epoch 68/100\n",
            "4985/4985 [==============================] - 8s 2ms/step - loss: 0.0017 - accuracy: 0.9995 - val_loss: 0.0041 - val_accuracy: 0.9992\n",
            "Epoch 69/100\n",
            "4985/4985 [==============================] - 8s 2ms/step - loss: 0.0013 - accuracy: 0.9996 - val_loss: 0.0050 - val_accuracy: 0.9992\n",
            "Epoch 70/100\n",
            "4985/4985 [==============================] - 8s 2ms/step - loss: 0.0015 - accuracy: 0.9995 - val_loss: 0.0048 - val_accuracy: 0.9993\n",
            "Epoch 71/100\n",
            "4985/4985 [==============================] - 8s 2ms/step - loss: 0.0013 - accuracy: 0.9995 - val_loss: 0.0052 - val_accuracy: 0.9993\n",
            "Epoch 72/100\n",
            "4985/4985 [==============================] - 8s 2ms/step - loss: 0.0015 - accuracy: 0.9995 - val_loss: 0.0050 - val_accuracy: 0.9993\n",
            "Epoch 73/100\n",
            "4985/4985 [==============================] - 8s 2ms/step - loss: 0.0014 - accuracy: 0.9996 - val_loss: 0.0048 - val_accuracy: 0.9993\n",
            "Epoch 74/100\n",
            "4985/4985 [==============================] - 8s 2ms/step - loss: 0.0013 - accuracy: 0.9996 - val_loss: 0.0047 - val_accuracy: 0.9993\n",
            "Epoch 75/100\n",
            "4985/4985 [==============================] - 8s 2ms/step - loss: 0.0012 - accuracy: 0.9995 - val_loss: 0.0050 - val_accuracy: 0.9992\n",
            "Epoch 76/100\n",
            "4985/4985 [==============================] - 8s 2ms/step - loss: 0.0013 - accuracy: 0.9995 - val_loss: 0.0047 - val_accuracy: 0.9993\n",
            "Epoch 77/100\n",
            "4985/4985 [==============================] - 8s 2ms/step - loss: 0.0012 - accuracy: 0.9996 - val_loss: 0.0051 - val_accuracy: 0.9993\n",
            "Epoch 78/100\n",
            "4985/4985 [==============================] - 8s 2ms/step - loss: 0.0013 - accuracy: 0.9995 - val_loss: 0.0049 - val_accuracy: 0.9993\n",
            "Epoch 79/100\n",
            "4985/4985 [==============================] - 9s 2ms/step - loss: 0.0011 - accuracy: 0.9996 - val_loss: 0.0059 - val_accuracy: 0.9992\n",
            "Epoch 80/100\n",
            "4985/4985 [==============================] - 8s 2ms/step - loss: 0.0013 - accuracy: 0.9996 - val_loss: 0.0049 - val_accuracy: 0.9993\n",
            "Epoch 81/100\n",
            "4985/4985 [==============================] - 8s 2ms/step - loss: 0.0014 - accuracy: 0.9996 - val_loss: 0.0051 - val_accuracy: 0.9993\n",
            "Epoch 82/100\n",
            "4985/4985 [==============================] - 8s 2ms/step - loss: 0.0014 - accuracy: 0.9995 - val_loss: 0.0055 - val_accuracy: 0.9992\n",
            "Epoch 83/100\n",
            "4985/4985 [==============================] - 8s 2ms/step - loss: 0.0013 - accuracy: 0.9995 - val_loss: 0.0057 - val_accuracy: 0.9992\n",
            "Epoch 84/100\n",
            "4985/4985 [==============================] - 8s 2ms/step - loss: 0.0015 - accuracy: 0.9995 - val_loss: 0.0061 - val_accuracy: 0.9991\n",
            "Epoch 85/100\n",
            "4985/4985 [==============================] - 8s 2ms/step - loss: 0.0014 - accuracy: 0.9995 - val_loss: 0.0059 - val_accuracy: 0.9992\n",
            "Epoch 86/100\n",
            "4985/4985 [==============================] - 9s 2ms/step - loss: 0.0014 - accuracy: 0.9995 - val_loss: 0.0053 - val_accuracy: 0.9993\n",
            "Epoch 87/100\n",
            "4985/4985 [==============================] - 8s 2ms/step - loss: 0.0011 - accuracy: 0.9996 - val_loss: 0.0065 - val_accuracy: 0.9992\n",
            "Epoch 88/100\n",
            "4985/4985 [==============================] - 8s 2ms/step - loss: 0.0016 - accuracy: 0.9995 - val_loss: 0.0056 - val_accuracy: 0.9992\n",
            "Epoch 89/100\n",
            "4985/4985 [==============================] - 8s 2ms/step - loss: 0.0015 - accuracy: 0.9996 - val_loss: 0.0067 - val_accuracy: 0.9990\n",
            "Epoch 90/100\n",
            "4985/4985 [==============================] - 9s 2ms/step - loss: 0.0012 - accuracy: 0.9995 - val_loss: 0.0058 - val_accuracy: 0.9993\n",
            "Epoch 91/100\n",
            "4985/4985 [==============================] - 8s 2ms/step - loss: 0.0011 - accuracy: 0.9996 - val_loss: 0.0056 - val_accuracy: 0.9992\n",
            "Epoch 92/100\n",
            "4985/4985 [==============================] - 8s 2ms/step - loss: 0.0012 - accuracy: 0.9996 - val_loss: 0.0054 - val_accuracy: 0.9993\n",
            "Epoch 93/100\n",
            "4985/4985 [==============================] - 9s 2ms/step - loss: 0.0010 - accuracy: 0.9996 - val_loss: 0.0065 - val_accuracy: 0.9993\n",
            "Epoch 94/100\n",
            "4985/4985 [==============================] - 8s 2ms/step - loss: 0.0011 - accuracy: 0.9997 - val_loss: 0.0061 - val_accuracy: 0.9992\n",
            "Epoch 95/100\n",
            "4985/4985 [==============================] - 9s 2ms/step - loss: 0.0012 - accuracy: 0.9996 - val_loss: 0.0053 - val_accuracy: 0.9993\n",
            "Epoch 96/100\n",
            "4985/4985 [==============================] - 8s 2ms/step - loss: 9.9112e-04 - accuracy: 0.9997 - val_loss: 0.0061 - val_accuracy: 0.9992\n",
            "Epoch 97/100\n",
            "4985/4985 [==============================] - 9s 2ms/step - loss: 0.0012 - accuracy: 0.9996 - val_loss: 0.0063 - val_accuracy: 0.9992\n",
            "Epoch 98/100\n",
            "4985/4985 [==============================] - 8s 2ms/step - loss: 0.0011 - accuracy: 0.9996 - val_loss: 0.0065 - val_accuracy: 0.9992\n",
            "Epoch 99/100\n",
            "4985/4985 [==============================] - 8s 2ms/step - loss: 0.0013 - accuracy: 0.9996 - val_loss: 0.0056 - val_accuracy: 0.9993\n",
            "Epoch 100/100\n",
            "4985/4985 [==============================] - 9s 2ms/step - loss: 9.9986e-04 - accuracy: 0.9996 - val_loss: 0.0059 - val_accuracy: 0.9992\n"
          ],
          "name": "stdout"
        }
      ]
    },
    {
      "cell_type": "code",
      "metadata": {
        "colab": {
          "base_uri": "https://localhost:8080/",
          "height": 204
        },
        "id": "UYJC-pAcY71a",
        "outputId": "51a4cffe-f995-4f67-f514-8790fc16ccb6"
      },
      "source": [
        "# Storing History In A Data Frame\n",
        "history_df = pd.DataFrame(history)\n",
        "history_df.tail()"
      ],
      "execution_count": 71,
      "outputs": [
        {
          "output_type": "execute_result",
          "data": {
            "text/html": [
              "<div>\n",
              "<style scoped>\n",
              "    .dataframe tbody tr th:only-of-type {\n",
              "        vertical-align: middle;\n",
              "    }\n",
              "\n",
              "    .dataframe tbody tr th {\n",
              "        vertical-align: top;\n",
              "    }\n",
              "\n",
              "    .dataframe thead th {\n",
              "        text-align: right;\n",
              "    }\n",
              "</style>\n",
              "<table border=\"1\" class=\"dataframe\">\n",
              "  <thead>\n",
              "    <tr style=\"text-align: right;\">\n",
              "      <th></th>\n",
              "      <th>loss</th>\n",
              "      <th>accuracy</th>\n",
              "      <th>val_loss</th>\n",
              "      <th>val_accuracy</th>\n",
              "    </tr>\n",
              "  </thead>\n",
              "  <tbody>\n",
              "    <tr>\n",
              "      <th>95</th>\n",
              "      <td>0.001230</td>\n",
              "      <td>0.999555</td>\n",
              "      <td>0.006052</td>\n",
              "      <td>0.999248</td>\n",
              "    </tr>\n",
              "    <tr>\n",
              "      <th>96</th>\n",
              "      <td>0.001273</td>\n",
              "      <td>0.999536</td>\n",
              "      <td>0.006299</td>\n",
              "      <td>0.999248</td>\n",
              "    </tr>\n",
              "    <tr>\n",
              "      <th>97</th>\n",
              "      <td>0.001263</td>\n",
              "      <td>0.999574</td>\n",
              "      <td>0.006457</td>\n",
              "      <td>0.999223</td>\n",
              "    </tr>\n",
              "    <tr>\n",
              "      <th>98</th>\n",
              "      <td>0.001275</td>\n",
              "      <td>0.999561</td>\n",
              "      <td>0.005595</td>\n",
              "      <td>0.999273</td>\n",
              "    </tr>\n",
              "    <tr>\n",
              "      <th>99</th>\n",
              "      <td>0.001282</td>\n",
              "      <td>0.999549</td>\n",
              "      <td>0.005937</td>\n",
              "      <td>0.999197</td>\n",
              "    </tr>\n",
              "  </tbody>\n",
              "</table>\n",
              "</div>"
            ],
            "text/plain": [
              "        loss  accuracy  val_loss  val_accuracy\n",
              "95  0.001230  0.999555  0.006052      0.999248\n",
              "96  0.001273  0.999536  0.006299      0.999248\n",
              "97  0.001263  0.999574  0.006457      0.999223\n",
              "98  0.001275  0.999561  0.005595      0.999273\n",
              "99  0.001282  0.999549  0.005937      0.999197"
            ]
          },
          "metadata": {
            "tags": []
          },
          "execution_count": 71
        }
      ]
    },
    {
      "cell_type": "code",
      "metadata": {
        "colab": {
          "base_uri": "https://localhost:8080/",
          "height": 535
        },
        "id": "GTKAo7wRY77K",
        "outputId": "b332b737-231a-474b-afe2-6e70348e6167"
      },
      "source": [
        "# Plotting Loss and Accuracy\n",
        "plt.plot(history_df['loss'])\n",
        "plt.plot(history_df['accuracy'])\n",
        "plt.plot(history_df['val_loss'])\n",
        "plt.plot(history_df['val_accuracy'])\n",
        "plt.title('Model Loss')\n",
        "plt.ylabel('Loss')\n",
        "plt.xlabel('Epoch')\n",
        "plt.legend(['Training Loss', 'Training Accuracy', 'Validation Loss', 'Validation Accuracy'], loc='upper right');"
      ],
      "execution_count": 72,
      "outputs": [
        {
          "output_type": "display_data",
          "data": {
            "image/png": "[encoded data removed]",
            "text/plain": [
              "<Figure size 1008x576 with 1 Axes>"
            ]
          },
          "metadata": {
            "tags": []
          }
        }
      ]
    },
    {
      "cell_type": "code",
      "metadata": {
        "id": "Hb4ShPEeY8BF"
      },
      "source": [
        "# Making Predictions On Test Data\n",
        "predictions = model.predict(test_data)\n",
        "predictions = predictions.flatten()"
      ],
      "execution_count": 73,
      "outputs": []
    },
    {
      "cell_type": "code",
      "metadata": {
        "colab": {
          "base_uri": "https://localhost:8080/"
        },
        "id": "C9nH7MSbY8HE",
        "outputId": "0da4dd1e-0fee-44d6-c18b-3e05b6b5c8ae"
      },
      "source": [
        "predictions"
      ],
      "execution_count": 74,
      "outputs": [
        {
          "output_type": "execute_result",
          "data": {
            "text/plain": [
              "array([2.9552424e-10, 3.6669494e-08, 6.3524158e-11, ..., 1.3623800e-18,\n",
              "       8.8950285e-17, 5.0463773e-13], dtype=float32)"
            ]
          },
          "metadata": {
            "tags": []
          },
          "execution_count": 74
        }
      ]
    },
    {
      "cell_type": "code",
      "metadata": {
        "colab": {
          "base_uri": "https://localhost:8080/"
        },
        "id": "CJeLM7ZkY8Ml",
        "outputId": "877361a1-3387-4258-8edb-f2d4beb86b5e"
      },
      "source": [
        "# Testing Model On Testing Data\n",
        "testing = model.evaluate(test_data, test_labels)"
      ],
      "execution_count": 75,
      "outputs": [
        {
          "output_type": "stream",
          "text": [
            "2671/2671 [==============================] - 3s 1ms/step - loss: 0.0064 - accuracy: 0.9993\n"
          ],
          "name": "stdout"
        }
      ]
    },
    {
      "cell_type": "code",
      "metadata": {
        "colab": {
          "base_uri": "https://localhost:8080/"
        },
        "id": "tW42VRYHY8Sv",
        "outputId": "3cce22ff-fd8d-4249-9403-babb69f88834"
      },
      "source": [
        "\n",
        "print(f\"Test Loss: {testing[0]}\")\n",
        "print(f\"Test Accuracy: {testing[1]}\")"
      ],
      "execution_count": 76,
      "outputs": [
        {
          "output_type": "stream",
          "text": [
            "Test Loss: 0.006446849089115858\n",
            "Test Accuracy: 0.9992860555648804\n"
          ],
          "name": "stdout"
        }
      ]
    },
    {
      "cell_type": "code",
      "metadata": {
        "colab": {
          "base_uri": "https://localhost:8080/",
          "height": 513
        },
        "id": "vdDLbaXYY8Yq",
        "outputId": "09dc68be-692d-44d0-9a35-89eea4d1c719"
      },
      "source": [
        "\n",
        "# Plotting Confusion Matrix\n",
        "from sklearn.metrics import confusion_matrix, classification_report\n",
        "# y_pred = model.predict(X_test)\n",
        "y_test = pd.DataFrame(testing)\n",
        "cm = confusion_matrix(test_labels, predictions.round())\n",
        "sns.heatmap(cm, annot=True, fmt='.0f', cmap='cividis_r')\n",
        "plt.title(\"Confusion Matrix\")\n",
        "plt.show()"
      ],
      "execution_count": 77,
      "outputs": [
        {
          "output_type": "display_data",
          "data": {
            "image/png": "[encoded data removed]",
            "text/plain": [
              "<Figure size 1008x576 with 2 Axes>"
            ]
          },
          "metadata": {
            "tags": []
          }
        }
      ]
    },
    {
      "cell_type": "markdown",
      "metadata": {
        "id": "TmgTcmkWbns7"
      },
      "source": [
        "## Unbalanced Data\n",
        "### As we can see that our model is overfitted because it is most probably unable to discriminate between valid transactions and fraud transactions because the mass of fraud transactions is very low as compared to the valid transactions and our model can treat them as normal transactions. Lets overcome this problem.\n"
      ]
    },
    {
      "cell_type": "code",
      "metadata": {
        "colab": {
          "base_uri": "https://localhost:8080/",
          "height": 224
        },
        "id": "PTzlSiHcq9oA",
        "outputId": "15a12e7e-1885-4eff-935a-da7c1e7a8eeb"
      },
      "source": [
        "# Checking Dataset To Ensure That It IS Not Changed\n",
        "df.head()"
      ],
      "execution_count": 78,
      "outputs": [
        {
          "output_type": "execute_result",
          "data": {
            "text/html": [
              "<div>\n",
              "<style scoped>\n",
              "    .dataframe tbody tr th:only-of-type {\n",
              "        vertical-align: middle;\n",
              "    }\n",
              "\n",
              "    .dataframe tbody tr th {\n",
              "        vertical-align: top;\n",
              "    }\n",
              "\n",
              "    .dataframe thead th {\n",
              "        text-align: right;\n",
              "    }\n",
              "</style>\n",
              "<table border=\"1\" class=\"dataframe\">\n",
              "  <thead>\n",
              "    <tr style=\"text-align: right;\">\n",
              "      <th></th>\n",
              "      <th>Time</th>\n",
              "      <th>V1</th>\n",
              "      <th>V2</th>\n",
              "      <th>V3</th>\n",
              "      <th>V4</th>\n",
              "      <th>V5</th>\n",
              "      <th>V6</th>\n",
              "      <th>V7</th>\n",
              "      <th>V8</th>\n",
              "      <th>V9</th>\n",
              "      <th>V10</th>\n",
              "      <th>V11</th>\n",
              "      <th>V12</th>\n",
              "      <th>V13</th>\n",
              "      <th>V14</th>\n",
              "      <th>V15</th>\n",
              "      <th>V16</th>\n",
              "      <th>V17</th>\n",
              "      <th>V18</th>\n",
              "      <th>V19</th>\n",
              "      <th>V20</th>\n",
              "      <th>V21</th>\n",
              "      <th>V22</th>\n",
              "      <th>V23</th>\n",
              "      <th>V24</th>\n",
              "      <th>V25</th>\n",
              "      <th>V26</th>\n",
              "      <th>V27</th>\n",
              "      <th>V28</th>\n",
              "      <th>Amount</th>\n",
              "      <th>Fraud</th>\n",
              "    </tr>\n",
              "  </thead>\n",
              "  <tbody>\n",
              "    <tr>\n",
              "      <th>0</th>\n",
              "      <td>-1.996583</td>\n",
              "      <td>-1.359807</td>\n",
              "      <td>-0.072781</td>\n",
              "      <td>2.536347</td>\n",
              "      <td>1.378155</td>\n",
              "      <td>-0.338321</td>\n",
              "      <td>0.462388</td>\n",
              "      <td>0.239599</td>\n",
              "      <td>0.098698</td>\n",
              "      <td>0.363787</td>\n",
              "      <td>0.090794</td>\n",
              "      <td>-0.551600</td>\n",
              "      <td>-0.617801</td>\n",
              "      <td>-0.991390</td>\n",
              "      <td>-0.311169</td>\n",
              "      <td>1.468177</td>\n",
              "      <td>-0.470401</td>\n",
              "      <td>0.207971</td>\n",
              "      <td>0.025791</td>\n",
              "      <td>0.403993</td>\n",
              "      <td>0.251412</td>\n",
              "      <td>-0.018307</td>\n",
              "      <td>0.277838</td>\n",
              "      <td>-0.110474</td>\n",
              "      <td>0.066928</td>\n",
              "      <td>0.128539</td>\n",
              "      <td>-0.189115</td>\n",
              "      <td>0.133558</td>\n",
              "      <td>-0.021053</td>\n",
              "      <td>0.244964</td>\n",
              "      <td>0</td>\n",
              "    </tr>\n",
              "    <tr>\n",
              "      <th>1</th>\n",
              "      <td>-1.996583</td>\n",
              "      <td>1.191857</td>\n",
              "      <td>0.266151</td>\n",
              "      <td>0.166480</td>\n",
              "      <td>0.448154</td>\n",
              "      <td>0.060018</td>\n",
              "      <td>-0.082361</td>\n",
              "      <td>-0.078803</td>\n",
              "      <td>0.085102</td>\n",
              "      <td>-0.255425</td>\n",
              "      <td>-0.166974</td>\n",
              "      <td>1.612727</td>\n",
              "      <td>1.065235</td>\n",
              "      <td>0.489095</td>\n",
              "      <td>-0.143772</td>\n",
              "      <td>0.635558</td>\n",
              "      <td>0.463917</td>\n",
              "      <td>-0.114805</td>\n",
              "      <td>-0.183361</td>\n",
              "      <td>-0.145783</td>\n",
              "      <td>-0.069083</td>\n",
              "      <td>-0.225775</td>\n",
              "      <td>-0.638672</td>\n",
              "      <td>0.101288</td>\n",
              "      <td>-0.339846</td>\n",
              "      <td>0.167170</td>\n",
              "      <td>0.125895</td>\n",
              "      <td>-0.008983</td>\n",
              "      <td>0.014724</td>\n",
              "      <td>-0.342475</td>\n",
              "      <td>0</td>\n",
              "    </tr>\n",
              "    <tr>\n",
              "      <th>2</th>\n",
              "      <td>-1.996562</td>\n",
              "      <td>-1.358354</td>\n",
              "      <td>-1.340163</td>\n",
              "      <td>1.773209</td>\n",
              "      <td>0.379780</td>\n",
              "      <td>-0.503198</td>\n",
              "      <td>1.800499</td>\n",
              "      <td>0.791461</td>\n",
              "      <td>0.247676</td>\n",
              "      <td>-1.514654</td>\n",
              "      <td>0.207643</td>\n",
              "      <td>0.624501</td>\n",
              "      <td>0.066084</td>\n",
              "      <td>0.717293</td>\n",
              "      <td>-0.165946</td>\n",
              "      <td>2.345865</td>\n",
              "      <td>-2.890083</td>\n",
              "      <td>1.109969</td>\n",
              "      <td>-0.121359</td>\n",
              "      <td>-2.261857</td>\n",
              "      <td>0.524980</td>\n",
              "      <td>0.247998</td>\n",
              "      <td>0.771679</td>\n",
              "      <td>0.909412</td>\n",
              "      <td>-0.689281</td>\n",
              "      <td>-0.327642</td>\n",
              "      <td>-0.139097</td>\n",
              "      <td>-0.055353</td>\n",
              "      <td>-0.059752</td>\n",
              "      <td>1.160686</td>\n",
              "      <td>0</td>\n",
              "    </tr>\n",
              "    <tr>\n",
              "      <th>3</th>\n",
              "      <td>-1.996562</td>\n",
              "      <td>-0.966272</td>\n",
              "      <td>-0.185226</td>\n",
              "      <td>1.792993</td>\n",
              "      <td>-0.863291</td>\n",
              "      <td>-0.010309</td>\n",
              "      <td>1.247203</td>\n",
              "      <td>0.237609</td>\n",
              "      <td>0.377436</td>\n",
              "      <td>-1.387024</td>\n",
              "      <td>-0.054952</td>\n",
              "      <td>-0.226487</td>\n",
              "      <td>0.178228</td>\n",
              "      <td>0.507757</td>\n",
              "      <td>-0.287924</td>\n",
              "      <td>-0.631418</td>\n",
              "      <td>-1.059647</td>\n",
              "      <td>-0.684093</td>\n",
              "      <td>1.965775</td>\n",
              "      <td>-1.232622</td>\n",
              "      <td>-0.208038</td>\n",
              "      <td>-0.108300</td>\n",
              "      <td>0.005274</td>\n",
              "      <td>-0.190321</td>\n",
              "      <td>-1.175575</td>\n",
              "      <td>0.647376</td>\n",
              "      <td>-0.221929</td>\n",
              "      <td>0.062723</td>\n",
              "      <td>0.061458</td>\n",
              "      <td>0.140534</td>\n",
              "      <td>0</td>\n",
              "    </tr>\n",
              "    <tr>\n",
              "      <th>4</th>\n",
              "      <td>-1.996541</td>\n",
              "      <td>-1.158233</td>\n",
              "      <td>0.877737</td>\n",
              "      <td>1.548718</td>\n",
              "      <td>0.403034</td>\n",
              "      <td>-0.407193</td>\n",
              "      <td>0.095921</td>\n",
              "      <td>0.592941</td>\n",
              "      <td>-0.270533</td>\n",
              "      <td>0.817739</td>\n",
              "      <td>0.753074</td>\n",
              "      <td>-0.822843</td>\n",
              "      <td>0.538196</td>\n",
              "      <td>1.345852</td>\n",
              "      <td>-1.119670</td>\n",
              "      <td>0.175121</td>\n",
              "      <td>-0.451449</td>\n",
              "      <td>-0.237033</td>\n",
              "      <td>-0.038195</td>\n",
              "      <td>0.803487</td>\n",
              "      <td>0.408542</td>\n",
              "      <td>-0.009431</td>\n",
              "      <td>0.798278</td>\n",
              "      <td>-0.137458</td>\n",
              "      <td>0.141267</td>\n",
              "      <td>-0.206010</td>\n",
              "      <td>0.502292</td>\n",
              "      <td>0.219422</td>\n",
              "      <td>0.215153</td>\n",
              "      <td>-0.073403</td>\n",
              "      <td>0</td>\n",
              "    </tr>\n",
              "  </tbody>\n",
              "</table>\n",
              "</div>"
            ],
            "text/plain": [
              "       Time        V1        V2        V3  ...       V27       V28    Amount  Fraud\n",
              "0 -1.996583 -1.359807 -0.072781  2.536347  ...  0.133558 -0.021053  0.244964      0\n",
              "1 -1.996583  1.191857  0.266151  0.166480  ... -0.008983  0.014724 -0.342475      0\n",
              "2 -1.996562 -1.358354 -1.340163  1.773209  ... -0.055353 -0.059752  1.160686      0\n",
              "3 -1.996562 -0.966272 -0.185226  1.792993  ...  0.062723  0.061458  0.140534      0\n",
              "4 -1.996541 -1.158233  0.877737  1.548718  ...  0.219422  0.215153 -0.073403      0\n",
              "\n",
              "[5 rows x 31 columns]"
            ]
          },
          "metadata": {
            "tags": []
          },
          "execution_count": 78
        }
      ]
    },
    {
      "cell_type": "markdown",
      "metadata": {
        "id": "LmuBiPiYbqnL"
      },
      "source": [
        "# Building Second Model For Overcoming Unbalanced Data Problem"
      ]
    },
    {
      "cell_type": "code",
      "metadata": {
        "id": "_4A7U5bAY8ef"
      },
      "source": [
        "# Standardizing The Amount Feature\n",
        "df['NormAmount'] = StandardScaler().fit_transform(df['Amount'].values.reshape(-1, 1))\n",
        "df = df.drop(['Time','Amount'],axis=1)"
      ],
      "execution_count": 79,
      "outputs": []
    },
    {
      "cell_type": "code",
      "metadata": {
        "id": "N6cjPwWGY8kN"
      },
      "source": [
        "# Separating Test Data\n",
        "X = df.iloc[:, df.columns != 'Class']\n",
        "y = df.iloc[:, df.columns == 'Class']"
      ],
      "execution_count": 80,
      "outputs": []
    },
    {
      "cell_type": "code",
      "metadata": {
        "id": "GvrI60gpY8qA"
      },
      "source": [
        "# Importing SMOTE \n",
        "from imblearn.over_sampling import SMOTE\n",
        "np.random.seed(9)"
      ],
      "execution_count": 81,
      "outputs": []
    },
    {
      "cell_type": "code",
      "metadata": {
        "id": "UwSETHl_Y8sN"
      },
      "source": [
        "# Counting The Number Of Fraud And Valid Transactions\n",
        "all_records= len(df)\n",
        "number_records_fraud = len(df[df.Class == 1])\n",
        "print(f\"No. Of Transactions: {all_records}, Fraud Transactions: {number_records_fraud}\")"
      ],
      "execution_count": null,
      "outputs": []
    },
    {
      "cell_type": "code",
      "metadata": {
        "colab": {
          "base_uri": "https://localhost:8080/",
          "height": 323
        },
        "id": "Gd7vo_xgY8xA",
        "outputId": "e15afb19-fd8b-4651-aeb1-23919208c47e"
      },
      "source": [
        "# Applying SMOTE\n",
        "X_resample, y_resample = SMOTE().fit_sample(X, y.values.ravel())"
      ],
      "execution_count": 40,
      "outputs": [
        {
          "output_type": "error",
          "ename": "ValueError",
          "evalue": "ignored",
          "traceback": [
            "\u001b[0;31m---------------------------------------------------------------------------\u001b[0m",
            "\u001b[0;31mValueError\u001b[0m                                Traceback (most recent call last)",
            "\u001b[0;32m<ipython-input-40-91232c74e1b6>\u001b[0m in \u001b[0;36m<module>\u001b[0;34m()\u001b[0m\n\u001b[1;32m      1\u001b[0m \u001b[0;31m# Applying SMOTE\u001b[0m\u001b[0;34m\u001b[0m\u001b[0;34m\u001b[0m\u001b[0;34m\u001b[0m\u001b[0m\n\u001b[0;32m----> 2\u001b[0;31m \u001b[0mX_resample\u001b[0m\u001b[0;34m,\u001b[0m \u001b[0my_resample\u001b[0m \u001b[0;34m=\u001b[0m \u001b[0mSMOTE\u001b[0m\u001b[0;34m(\u001b[0m\u001b[0;34m)\u001b[0m\u001b[0;34m.\u001b[0m\u001b[0mfit_sample\u001b[0m\u001b[0;34m(\u001b[0m\u001b[0mX\u001b[0m\u001b[0;34m,\u001b[0m \u001b[0my\u001b[0m\u001b[0;34m.\u001b[0m\u001b[0mvalues\u001b[0m\u001b[0;34m.\u001b[0m\u001b[0mravel\u001b[0m\u001b[0;34m(\u001b[0m\u001b[0;34m)\u001b[0m\u001b[0;34m)\u001b[0m\u001b[0;34m\u001b[0m\u001b[0;34m\u001b[0m\u001b[0m\n\u001b[0m",
            "\u001b[0;32m/usr/local/lib/python3.7/dist-packages/imblearn/base.py\u001b[0m in \u001b[0;36mfit_resample\u001b[0;34m(self, X, y)\u001b[0m\n\u001b[1;32m     78\u001b[0m         \u001b[0mself\u001b[0m\u001b[0;34m.\u001b[0m\u001b[0m_deprecate_ratio\u001b[0m\u001b[0;34m(\u001b[0m\u001b[0;34m)\u001b[0m\u001b[0;34m\u001b[0m\u001b[0;34m\u001b[0m\u001b[0m\n\u001b[1;32m     79\u001b[0m \u001b[0;34m\u001b[0m\u001b[0m\n\u001b[0;32m---> 80\u001b[0;31m         \u001b[0mX\u001b[0m\u001b[0;34m,\u001b[0m \u001b[0my\u001b[0m\u001b[0;34m,\u001b[0m \u001b[0mbinarize_y\u001b[0m \u001b[0;34m=\u001b[0m \u001b[0mself\u001b[0m\u001b[0;34m.\u001b[0m\u001b[0m_check_X_y\u001b[0m\u001b[0;34m(\u001b[0m\u001b[0mX\u001b[0m\u001b[0;34m,\u001b[0m \u001b[0my\u001b[0m\u001b[0;34m)\u001b[0m\u001b[0;34m\u001b[0m\u001b[0;34m\u001b[0m\u001b[0m\n\u001b[0m\u001b[1;32m     81\u001b[0m \u001b[0;34m\u001b[0m\u001b[0m\n\u001b[1;32m     82\u001b[0m         self.sampling_strategy_ = check_sampling_strategy(\n",
            "\u001b[0;32m/usr/local/lib/python3.7/dist-packages/imblearn/base.py\u001b[0m in \u001b[0;36m_check_X_y\u001b[0;34m(X, y)\u001b[0m\n\u001b[1;32m    136\u001b[0m     \u001b[0;32mdef\u001b[0m \u001b[0m_check_X_y\u001b[0m\u001b[0;34m(\u001b[0m\u001b[0mX\u001b[0m\u001b[0;34m,\u001b[0m \u001b[0my\u001b[0m\u001b[0;34m)\u001b[0m\u001b[0;34m:\u001b[0m\u001b[0;34m\u001b[0m\u001b[0;34m\u001b[0m\u001b[0m\n\u001b[1;32m    137\u001b[0m         \u001b[0my\u001b[0m\u001b[0;34m,\u001b[0m \u001b[0mbinarize_y\u001b[0m \u001b[0;34m=\u001b[0m \u001b[0mcheck_target_type\u001b[0m\u001b[0;34m(\u001b[0m\u001b[0my\u001b[0m\u001b[0;34m,\u001b[0m \u001b[0mindicate_one_vs_all\u001b[0m\u001b[0;34m=\u001b[0m\u001b[0;32mTrue\u001b[0m\u001b[0;34m)\u001b[0m\u001b[0;34m\u001b[0m\u001b[0;34m\u001b[0m\u001b[0m\n\u001b[0;32m--> 138\u001b[0;31m         \u001b[0mX\u001b[0m\u001b[0;34m,\u001b[0m \u001b[0my\u001b[0m \u001b[0;34m=\u001b[0m \u001b[0mcheck_X_y\u001b[0m\u001b[0;34m(\u001b[0m\u001b[0mX\u001b[0m\u001b[0;34m,\u001b[0m \u001b[0my\u001b[0m\u001b[0;34m,\u001b[0m \u001b[0maccept_sparse\u001b[0m\u001b[0;34m=\u001b[0m\u001b[0;34m[\u001b[0m\u001b[0;34m'csr'\u001b[0m\u001b[0;34m,\u001b[0m \u001b[0;34m'csc'\u001b[0m\u001b[0;34m]\u001b[0m\u001b[0;34m)\u001b[0m\u001b[0;34m\u001b[0m\u001b[0;34m\u001b[0m\u001b[0m\n\u001b[0m\u001b[1;32m    139\u001b[0m         \u001b[0;32mreturn\u001b[0m \u001b[0mX\u001b[0m\u001b[0;34m,\u001b[0m \u001b[0my\u001b[0m\u001b[0;34m,\u001b[0m \u001b[0mbinarize_y\u001b[0m\u001b[0;34m\u001b[0m\u001b[0;34m\u001b[0m\u001b[0m\n\u001b[1;32m    140\u001b[0m \u001b[0;34m\u001b[0m\u001b[0m\n",
            "\u001b[0;32m/usr/local/lib/python3.7/dist-packages/sklearn/utils/validation.py\u001b[0m in \u001b[0;36mcheck_X_y\u001b[0;34m(X, y, accept_sparse, accept_large_sparse, dtype, order, copy, force_all_finite, ensure_2d, allow_nd, multi_output, ensure_min_samples, ensure_min_features, y_numeric, warn_on_dtype, estimator)\u001b[0m\n\u001b[1;32m    763\u001b[0m         \u001b[0my\u001b[0m \u001b[0;34m=\u001b[0m \u001b[0my\u001b[0m\u001b[0;34m.\u001b[0m\u001b[0mastype\u001b[0m\u001b[0;34m(\u001b[0m\u001b[0mnp\u001b[0m\u001b[0;34m.\u001b[0m\u001b[0mfloat64\u001b[0m\u001b[0;34m)\u001b[0m\u001b[0;34m\u001b[0m\u001b[0;34m\u001b[0m\u001b[0m\n\u001b[1;32m    764\u001b[0m \u001b[0;34m\u001b[0m\u001b[0m\n\u001b[0;32m--> 765\u001b[0;31m     \u001b[0mcheck_consistent_length\u001b[0m\u001b[0;34m(\u001b[0m\u001b[0mX\u001b[0m\u001b[0;34m,\u001b[0m \u001b[0my\u001b[0m\u001b[0;34m)\u001b[0m\u001b[0;34m\u001b[0m\u001b[0;34m\u001b[0m\u001b[0m\n\u001b[0m\u001b[1;32m    766\u001b[0m \u001b[0;34m\u001b[0m\u001b[0m\n\u001b[1;32m    767\u001b[0m     \u001b[0;32mreturn\u001b[0m \u001b[0mX\u001b[0m\u001b[0;34m,\u001b[0m \u001b[0my\u001b[0m\u001b[0;34m\u001b[0m\u001b[0;34m\u001b[0m\u001b[0m\n",
            "\u001b[0;32m/usr/local/lib/python3.7/dist-packages/sklearn/utils/validation.py\u001b[0m in \u001b[0;36mcheck_consistent_length\u001b[0;34m(*arrays)\u001b[0m\n\u001b[1;32m    210\u001b[0m     \u001b[0;32mif\u001b[0m \u001b[0mlen\u001b[0m\u001b[0;34m(\u001b[0m\u001b[0muniques\u001b[0m\u001b[0;34m)\u001b[0m \u001b[0;34m>\u001b[0m \u001b[0;36m1\u001b[0m\u001b[0;34m:\u001b[0m\u001b[0;34m\u001b[0m\u001b[0;34m\u001b[0m\u001b[0m\n\u001b[1;32m    211\u001b[0m         raise ValueError(\"Found input variables with inconsistent numbers of\"\n\u001b[0;32m--> 212\u001b[0;31m                          \" samples: %r\" % [int(l) for l in lengths])\n\u001b[0m\u001b[1;32m    213\u001b[0m \u001b[0;34m\u001b[0m\u001b[0m\n\u001b[1;32m    214\u001b[0m \u001b[0;34m\u001b[0m\u001b[0m\n",
            "\u001b[0;31mValueError\u001b[0m: Found input variables with inconsistent numbers of samples: [284807, 0]"
          ]
        }
      ]
    },
    {
      "cell_type": "code",
      "metadata": {
        "id": "Y3svdI7NY82k"
      },
      "source": [
        "# Transforming Into Pandas DataFrame\n",
        "y_resample = pd.DataFrame(y_resample)\n",
        "X_resample = pd.DataFrame(X_resample)"
      ],
      "execution_count": null,
      "outputs": []
    },
    {
      "cell_type": "code",
      "metadata": {
        "id": "-UpmjEhkY88e"
      },
      "source": [
        "# Splitting The Dataset Into Training And Testing Data\n",
        "X_train, X_test, Y_train, Y_test = train_test_split(X_resample, y_resample, test_size=0.3, random_state=0)"
      ],
      "execution_count": null,
      "outputs": []
    },
    {
      "cell_type": "code",
      "metadata": {
        "id": "IFJ1x-3RY8-7"
      },
      "source": [
        "# Making Second Model\n",
        "model2 = Sequential()\n",
        "model2.add(Dense(16, kernel_initializer='uniform', activation = 'relu', input_shape = (29,)))\n",
        "model2.add(Dense(18, kernel_initializer='uniform', activation = 'relu'))\n",
        "model2.add(Dropout(0.25))\n",
        "model2.add(Dense(20, kernel_initializer = 'uniform', activation='relu'))\n",
        "model2.add(Dense(24, kernel_initializer='uniform', activation='relu'))\n",
        "model2.add(Dense(1, kernel_initializer='uniform', activation='sigmoid'))\n",
        "model2.summary()"
      ],
      "execution_count": null,
      "outputs": []
    },
    {
      "cell_type": "code",
      "metadata": {
        "id": "sNN4wLQhY9CP"
      },
      "source": [
        "# Compilation Step\n",
        "model2.compile(optimizer='adam', loss='binary_crossentropy', metrics=['accuracy'])\n",
        "# Fitting Second Model On 5 Epochs\n",
        "model2.fit(np.array(X_train), np.array(Y_train), batch_size=15, epochs=5)"
      ],
      "execution_count": null,
      "outputs": []
    },
    {
      "cell_type": "code",
      "metadata": {
        "id": "tURHCSVDY9Ht"
      },
      "source": [
        "# Testing Second Model On Test Data\n",
        "score = model2.evaluate(np.array(X_test), np.array(Y_test), batch_size=128)\n",
        "print('\\nTesting Score Is: ', score[1] * 100, '%')"
      ],
      "execution_count": null,
      "outputs": []
    },
    {
      "cell_type": "code",
      "metadata": {
        "id": "9FxVtu6xY9Nq"
      },
      "source": [
        "# Defining Function For Confusion Matrix\n",
        "\n",
        "import itertools\n",
        "import matplotlib.pyplot as plt\n",
        "from sklearn.metrics import confusion_matrix,precision_recall_curve,auc,roc_auc_score,roc_curve,recall_score,classification_report \n",
        "\n",
        "def plot_confusion_matrix(cm, classes,\n",
        "                          normalize=False,\n",
        "                          title='Confusion matrix',\n",
        "                          cmap=plt.cm.Blues):\n",
        "    \"\"\"\n",
        "    This function prints and plots the confusion matrix.\n",
        "    Normalization can be applied by setting `normalize=True`.\n",
        "    \"\"\"\n",
        "    plt.imshow(cm, interpolation='nearest', cmap=cmap)\n",
        "    plt.title(title)\n",
        "    plt.colorbar()\n",
        "    tick_marks = np.arange(len(classes))\n",
        "    plt.xticks(tick_marks, classes, rotation=0)\n",
        "    plt.yticks(tick_marks, classes)\n",
        "\n",
        "    if normalize:\n",
        "        cm = cm.astype('float') / cm.sum(axis=1)[:, np.newaxis]\n",
        "        #print(\"Normalized confusion matrix\")\n",
        "    else:\n",
        "        1#print('Confusion matrix, without normalization')\n",
        "\n",
        "    #print(cm)\n",
        "\n",
        "    thresh = cm.max() / 2.\n",
        "    for i, j in itertools.product(range(cm.shape[0]), range(cm.shape[1])):\n",
        "        plt.text(j, i, cm[i, j],\n",
        "                 horizontalalignment=\"center\",\n",
        "                 color=\"white\" if cm[i, j] > thresh else \"black\")\n",
        "\n",
        "    plt.tight_layout()\n",
        "    plt.ylabel('True Lable')\n",
        "    plt.xlabel('Predicted Label')"
      ],
      "execution_count": null,
      "outputs": []
    },
    {
      "cell_type": "code",
      "metadata": {
        "id": "xFSLaI_YY9TZ"
      },
      "source": [
        "y_pred = model2.predict(np.array(X_test))"
      ],
      "execution_count": null,
      "outputs": []
    },
    {
      "cell_type": "code",
      "metadata": {
        "id": "dk5nAHnMY9ZU"
      },
      "source": [
        "Y_test = pd.DataFrame(Y_test)\n",
        "Y_test.shape"
      ],
      "execution_count": null,
      "outputs": []
    },
    {
      "cell_type": "code",
      "metadata": {
        "id": "OpNcwyOMY9fL"
      },
      "source": [
        "# Plotting Confusion Matrix\n",
        "cnf_matrix = confusion_matrix(Y_test,y_pred.round())\n",
        "np.set_printoptions(precision=2)\n",
        "\n",
        "print(\"Recall metric in the testing dataset: \", cnf_matrix[1,1]/(cnf_matrix[1,0]+cnf_matrix[1,1]))\n",
        "\n",
        "# Plot non-normalized confusion matrix\n",
        "class_names = [0,1]\n",
        "plt.figure()\n",
        "plot_confusion_matrix(cnf_matrix\n",
        "                      , classes=class_names\n",
        "                      , title='Confusion matrix')\n",
        "plt.show()"
      ],
      "execution_count": null,
      "outputs": []
    },
    {
      "cell_type": "code",
      "metadata": {
        "id": "ASGbBzCwY9lp"
      },
      "source": [
        "y_pred = model2.predict(np.array(X))# Plotting Confusion Matrix\n",
        "\n",
        "cnf_matrix = confusion_matrix(y,y_pred.round())\n",
        "np.set_printoptions(precision=2)\n",
        "\n",
        "print(\"Recall metric in the testing dataset: \", cnf_matrix[1,1]/(cnf_matrix[1,0]+cnf_matrix[1,1]))\n",
        "\n",
        "# Plot non-normalized confusion matrix\n",
        "class_names = [0,1]\n",
        "plt.figure()\n",
        "plot_confusion_matrix(cnf_matrix\n",
        "                      , classes=class_names\n",
        "                      , title='Confusion matrix')\n",
        "plt.show()"
      ],
      "execution_count": null,
      "outputs": []
    },
    {
      "cell_type": "code",
      "metadata": {
        "id": "4ZaAvhEtY9rl"
      },
      "source": [
        "# Saving Appropriate Model\n",
        "model2.save('CreditCardFraudDetectionModel.h5')"
      ],
      "execution_count": null,
      "outputs": []
    },
    {
      "cell_type": "code",
      "metadata": {
        "id": "yAuS5eeqY9x9"
      },
      "source": [
        ""
      ],
      "execution_count": null,
      "outputs": []
    },
    {
      "cell_type": "code",
      "metadata": {
        "id": "7TrmkZ_PY93M"
      },
      "source": [
        ""
      ],
      "execution_count": null,
      "outputs": []
    }
  ]
}