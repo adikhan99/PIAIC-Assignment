{
  "nbformat": 4,
  "nbformat_minor": 0,
  "metadata": {
    "colab": {
      "name": "Concrete_strength modeling.ipynb",
      "provenance": []
    },
    "kernelspec": {
      "name": "python3",
      "display_name": "Python 3"
    },
    "language_info": {
      "name": "python"
    }
  },
  "cells": [
    {
      "cell_type": "code",
      "metadata": {
        "id": "ZUU67DRBJMY1",
        "colab": {
          "base_uri": "https://localhost:8080/"
        },
        "outputId": "acd3d159-c23f-41a3-84ce-2b4c05870ce3"
      },
      "source": [
        "from google.colab import drive\n",
        "drive.mount('/content/drive')"
      ],
      "execution_count": null,
      "outputs": [
        {
          "output_type": "stream",
          "text": [
            "Mounted at /content/drive\n"
          ],
          "name": "stdout"
        }
      ]
    },
    {
      "cell_type": "code",
      "metadata": {
        "id": "-gLtt2e1PJUk"
      },
      "source": [
        "# Importing Modules\n",
        "import numpy as np \n",
        "import pandas as pd\n",
        "import matplotlib.pyplot as plt\n",
        "import tensorflow as tf\n",
        "from tensorflow.keras.models import Sequential\n",
        "from tensorflow.keras.layers import Dense\n",
        "from tensorflow.keras.utils import to_categorical\n",
        "import seaborn as sns"
      ],
      "execution_count": null,
      "outputs": []
    },
    {
      "cell_type": "code",
      "metadata": {
        "colab": {
          "base_uri": "https://localhost:8080/",
          "height": 470
        },
        "id": "DnggQvW6Pa1u",
        "outputId": "68524964-4824-43a3-a0eb-a333a55f3e0c"
      },
      "source": [
        "# Loading Data\n",
        "df = pd.read_csv(\"/content/drive/MyDrive/Colab Notebooks/compresive_strength_concrete.csv\")\n",
        "df"
      ],
      "execution_count": null,
      "outputs": [
        {
          "output_type": "execute_result",
          "data": {
            "text/html": [
              "<div>\n",
              "<style scoped>\n",
              "    .dataframe tbody tr th:only-of-type {\n",
              "        vertical-align: middle;\n",
              "    }\n",
              "\n",
              "    .dataframe tbody tr th {\n",
              "        vertical-align: top;\n",
              "    }\n",
              "\n",
              "    .dataframe thead th {\n",
              "        text-align: right;\n",
              "    }\n",
              "</style>\n",
              "<table border=\"1\" class=\"dataframe\">\n",
              "  <thead>\n",
              "    <tr style=\"text-align: right;\">\n",
              "      <th></th>\n",
              "      <th>Cement (component 1)(kg in a m^3 mixture)</th>\n",
              "      <th>Blast Furnace Slag (component 2)(kg in a m^3 mixture)</th>\n",
              "      <th>Fly Ash (component 3)(kg in a m^3 mixture)</th>\n",
              "      <th>Water  (component 4)(kg in a m^3 mixture)</th>\n",
              "      <th>Superplasticizer (component 5)(kg in a m^3 mixture)</th>\n",
              "      <th>Coarse Aggregate  (component 6)(kg in a m^3 mixture)</th>\n",
              "      <th>Fine Aggregate (component 7)(kg in a m^3 mixture)</th>\n",
              "      <th>Age (day)</th>\n",
              "      <th>Concrete compressive strength(MPa, megapascals)</th>\n",
              "    </tr>\n",
              "  </thead>\n",
              "  <tbody>\n",
              "    <tr>\n",
              "      <th>0</th>\n",
              "      <td>540.0</td>\n",
              "      <td>0.0</td>\n",
              "      <td>0.0</td>\n",
              "      <td>162.0</td>\n",
              "      <td>2.5</td>\n",
              "      <td>1040.0</td>\n",
              "      <td>676.0</td>\n",
              "      <td>28</td>\n",
              "      <td>79.99</td>\n",
              "    </tr>\n",
              "    <tr>\n",
              "      <th>1</th>\n",
              "      <td>540.0</td>\n",
              "      <td>0.0</td>\n",
              "      <td>0.0</td>\n",
              "      <td>162.0</td>\n",
              "      <td>2.5</td>\n",
              "      <td>1055.0</td>\n",
              "      <td>676.0</td>\n",
              "      <td>28</td>\n",
              "      <td>61.89</td>\n",
              "    </tr>\n",
              "    <tr>\n",
              "      <th>2</th>\n",
              "      <td>332.5</td>\n",
              "      <td>142.5</td>\n",
              "      <td>0.0</td>\n",
              "      <td>228.0</td>\n",
              "      <td>0.0</td>\n",
              "      <td>932.0</td>\n",
              "      <td>594.0</td>\n",
              "      <td>270</td>\n",
              "      <td>40.27</td>\n",
              "    </tr>\n",
              "    <tr>\n",
              "      <th>3</th>\n",
              "      <td>332.5</td>\n",
              "      <td>142.5</td>\n",
              "      <td>0.0</td>\n",
              "      <td>228.0</td>\n",
              "      <td>0.0</td>\n",
              "      <td>932.0</td>\n",
              "      <td>594.0</td>\n",
              "      <td>365</td>\n",
              "      <td>41.05</td>\n",
              "    </tr>\n",
              "    <tr>\n",
              "      <th>4</th>\n",
              "      <td>198.6</td>\n",
              "      <td>132.4</td>\n",
              "      <td>0.0</td>\n",
              "      <td>192.0</td>\n",
              "      <td>0.0</td>\n",
              "      <td>978.4</td>\n",
              "      <td>825.5</td>\n",
              "      <td>360</td>\n",
              "      <td>44.30</td>\n",
              "    </tr>\n",
              "    <tr>\n",
              "      <th>...</th>\n",
              "      <td>...</td>\n",
              "      <td>...</td>\n",
              "      <td>...</td>\n",
              "      <td>...</td>\n",
              "      <td>...</td>\n",
              "      <td>...</td>\n",
              "      <td>...</td>\n",
              "      <td>...</td>\n",
              "      <td>...</td>\n",
              "    </tr>\n",
              "    <tr>\n",
              "      <th>1025</th>\n",
              "      <td>276.4</td>\n",
              "      <td>116.0</td>\n",
              "      <td>90.3</td>\n",
              "      <td>179.6</td>\n",
              "      <td>8.9</td>\n",
              "      <td>870.1</td>\n",
              "      <td>768.3</td>\n",
              "      <td>28</td>\n",
              "      <td>44.28</td>\n",
              "    </tr>\n",
              "    <tr>\n",
              "      <th>1026</th>\n",
              "      <td>322.2</td>\n",
              "      <td>0.0</td>\n",
              "      <td>115.6</td>\n",
              "      <td>196.0</td>\n",
              "      <td>10.4</td>\n",
              "      <td>817.9</td>\n",
              "      <td>813.4</td>\n",
              "      <td>28</td>\n",
              "      <td>31.18</td>\n",
              "    </tr>\n",
              "    <tr>\n",
              "      <th>1027</th>\n",
              "      <td>148.5</td>\n",
              "      <td>139.4</td>\n",
              "      <td>108.6</td>\n",
              "      <td>192.7</td>\n",
              "      <td>6.1</td>\n",
              "      <td>892.4</td>\n",
              "      <td>780.0</td>\n",
              "      <td>28</td>\n",
              "      <td>23.70</td>\n",
              "    </tr>\n",
              "    <tr>\n",
              "      <th>1028</th>\n",
              "      <td>159.1</td>\n",
              "      <td>186.7</td>\n",
              "      <td>0.0</td>\n",
              "      <td>175.6</td>\n",
              "      <td>11.3</td>\n",
              "      <td>989.6</td>\n",
              "      <td>788.9</td>\n",
              "      <td>28</td>\n",
              "      <td>32.77</td>\n",
              "    </tr>\n",
              "    <tr>\n",
              "      <th>1029</th>\n",
              "      <td>260.9</td>\n",
              "      <td>100.5</td>\n",
              "      <td>78.3</td>\n",
              "      <td>200.6</td>\n",
              "      <td>8.6</td>\n",
              "      <td>864.5</td>\n",
              "      <td>761.5</td>\n",
              "      <td>28</td>\n",
              "      <td>32.40</td>\n",
              "    </tr>\n",
              "  </tbody>\n",
              "</table>\n",
              "<p>1030 rows × 9 columns</p>\n",
              "</div>"
            ],
            "text/plain": [
              "      Cement (component 1)(kg in a m^3 mixture)  ...  Concrete compressive strength(MPa, megapascals) \n",
              "0                                         540.0  ...                                             79.99\n",
              "1                                         540.0  ...                                             61.89\n",
              "2                                         332.5  ...                                             40.27\n",
              "3                                         332.5  ...                                             41.05\n",
              "4                                         198.6  ...                                             44.30\n",
              "...                                         ...  ...                                               ...\n",
              "1025                                      276.4  ...                                             44.28\n",
              "1026                                      322.2  ...                                             31.18\n",
              "1027                                      148.5  ...                                             23.70\n",
              "1028                                      159.1  ...                                             32.77\n",
              "1029                                      260.9  ...                                             32.40\n",
              "\n",
              "[1030 rows x 9 columns]"
            ]
          },
          "metadata": {
            "tags": []
          },
          "execution_count": 6
        }
      ]
    },
    {
      "cell_type": "code",
      "metadata": {
        "colab": {
          "base_uri": "https://localhost:8080/"
        },
        "id": "dqch3NnOPgKG",
        "outputId": "b3f8dc12-3418-4847-e9b9-19c24e8bc69e"
      },
      "source": [
        "df.info()"
      ],
      "execution_count": null,
      "outputs": [
        {
          "output_type": "stream",
          "text": [
            "<class 'pandas.core.frame.DataFrame'>\n",
            "RangeIndex: 1030 entries, 0 to 1029\n",
            "Data columns (total 9 columns):\n",
            " #   Column                                                 Non-Null Count  Dtype  \n",
            "---  ------                                                 --------------  -----  \n",
            " 0   Cement (component 1)(kg in a m^3 mixture)              1030 non-null   float64\n",
            " 1   Blast Furnace Slag (component 2)(kg in a m^3 mixture)  1030 non-null   float64\n",
            " 2   Fly Ash (component 3)(kg in a m^3 mixture)             1030 non-null   float64\n",
            " 3   Water  (component 4)(kg in a m^3 mixture)              1030 non-null   float64\n",
            " 4   Superplasticizer (component 5)(kg in a m^3 mixture)    1030 non-null   float64\n",
            " 5   Coarse Aggregate  (component 6)(kg in a m^3 mixture)   1030 non-null   float64\n",
            " 6   Fine Aggregate (component 7)(kg in a m^3 mixture)      1030 non-null   float64\n",
            " 7   Age (day)                                              1030 non-null   int64  \n",
            " 8   Concrete compressive strength(MPa, megapascals)        1030 non-null   float64\n",
            "dtypes: float64(8), int64(1)\n",
            "memory usage: 72.5 KB\n"
          ],
          "name": "stdout"
        }
      ]
    },
    {
      "cell_type": "code",
      "metadata": {
        "colab": {
          "base_uri": "https://localhost:8080/"
        },
        "id": "j0uRsHopQ2sk",
        "outputId": "5696390f-d5f0-4582-e2cc-830b03215d3c"
      },
      "source": [
        "# Checking For Null Values\n",
        "df.isnull().sum()"
      ],
      "execution_count": null,
      "outputs": [
        {
          "output_type": "execute_result",
          "data": {
            "text/plain": [
              "Cement (component 1)(kg in a m^3 mixture)                0\n",
              "Blast Furnace Slag (component 2)(kg in a m^3 mixture)    0\n",
              "Fly Ash (component 3)(kg in a m^3 mixture)               0\n",
              "Water  (component 4)(kg in a m^3 mixture)                0\n",
              "Superplasticizer (component 5)(kg in a m^3 mixture)      0\n",
              "Coarse Aggregate  (component 6)(kg in a m^3 mixture)     0\n",
              "Fine Aggregate (component 7)(kg in a m^3 mixture)        0\n",
              "Age (day)                                                0\n",
              "Concrete compressive strength(MPa, megapascals)          0\n",
              "dtype: int64"
            ]
          },
          "metadata": {
            "tags": []
          },
          "execution_count": 8
        }
      ]
    },
    {
      "cell_type": "markdown",
      "metadata": {
        "id": "QF9FxhbDQ-bc"
      },
      "source": [
        "Our Data Contains No Null Values"
      ]
    },
    {
      "cell_type": "code",
      "metadata": {
        "colab": {
          "base_uri": "https://localhost:8080/",
          "height": 328
        },
        "id": "5_2JxhZZQ5_V",
        "outputId": "f77accd7-6766-4101-ed07-b3c903b0312f"
      },
      "source": [
        "df.describe().T"
      ],
      "execution_count": null,
      "outputs": [
        {
          "output_type": "execute_result",
          "data": {
            "text/html": [
              "<div>\n",
              "<style scoped>\n",
              "    .dataframe tbody tr th:only-of-type {\n",
              "        vertical-align: middle;\n",
              "    }\n",
              "\n",
              "    .dataframe tbody tr th {\n",
              "        vertical-align: top;\n",
              "    }\n",
              "\n",
              "    .dataframe thead th {\n",
              "        text-align: right;\n",
              "    }\n",
              "</style>\n",
              "<table border=\"1\" class=\"dataframe\">\n",
              "  <thead>\n",
              "    <tr style=\"text-align: right;\">\n",
              "      <th></th>\n",
              "      <th>count</th>\n",
              "      <th>mean</th>\n",
              "      <th>std</th>\n",
              "      <th>min</th>\n",
              "      <th>25%</th>\n",
              "      <th>50%</th>\n",
              "      <th>75%</th>\n",
              "      <th>max</th>\n",
              "    </tr>\n",
              "  </thead>\n",
              "  <tbody>\n",
              "    <tr>\n",
              "      <th>Cement (component 1)(kg in a m^3 mixture)</th>\n",
              "      <td>1030.0</td>\n",
              "      <td>281.167864</td>\n",
              "      <td>104.506364</td>\n",
              "      <td>102.00</td>\n",
              "      <td>192.375</td>\n",
              "      <td>272.900</td>\n",
              "      <td>350.000</td>\n",
              "      <td>540.0</td>\n",
              "    </tr>\n",
              "    <tr>\n",
              "      <th>Blast Furnace Slag (component 2)(kg in a m^3 mixture)</th>\n",
              "      <td>1030.0</td>\n",
              "      <td>73.895825</td>\n",
              "      <td>86.279342</td>\n",
              "      <td>0.00</td>\n",
              "      <td>0.000</td>\n",
              "      <td>22.000</td>\n",
              "      <td>142.950</td>\n",
              "      <td>359.4</td>\n",
              "    </tr>\n",
              "    <tr>\n",
              "      <th>Fly Ash (component 3)(kg in a m^3 mixture)</th>\n",
              "      <td>1030.0</td>\n",
              "      <td>54.188350</td>\n",
              "      <td>63.997004</td>\n",
              "      <td>0.00</td>\n",
              "      <td>0.000</td>\n",
              "      <td>0.000</td>\n",
              "      <td>118.300</td>\n",
              "      <td>200.1</td>\n",
              "    </tr>\n",
              "    <tr>\n",
              "      <th>Water  (component 4)(kg in a m^3 mixture)</th>\n",
              "      <td>1030.0</td>\n",
              "      <td>181.567282</td>\n",
              "      <td>21.354219</td>\n",
              "      <td>121.80</td>\n",
              "      <td>164.900</td>\n",
              "      <td>185.000</td>\n",
              "      <td>192.000</td>\n",
              "      <td>247.0</td>\n",
              "    </tr>\n",
              "    <tr>\n",
              "      <th>Superplasticizer (component 5)(kg in a m^3 mixture)</th>\n",
              "      <td>1030.0</td>\n",
              "      <td>6.204660</td>\n",
              "      <td>5.973841</td>\n",
              "      <td>0.00</td>\n",
              "      <td>0.000</td>\n",
              "      <td>6.400</td>\n",
              "      <td>10.200</td>\n",
              "      <td>32.2</td>\n",
              "    </tr>\n",
              "    <tr>\n",
              "      <th>Coarse Aggregate  (component 6)(kg in a m^3 mixture)</th>\n",
              "      <td>1030.0</td>\n",
              "      <td>972.918932</td>\n",
              "      <td>77.753954</td>\n",
              "      <td>801.00</td>\n",
              "      <td>932.000</td>\n",
              "      <td>968.000</td>\n",
              "      <td>1029.400</td>\n",
              "      <td>1145.0</td>\n",
              "    </tr>\n",
              "    <tr>\n",
              "      <th>Fine Aggregate (component 7)(kg in a m^3 mixture)</th>\n",
              "      <td>1030.0</td>\n",
              "      <td>773.580485</td>\n",
              "      <td>80.175980</td>\n",
              "      <td>594.00</td>\n",
              "      <td>730.950</td>\n",
              "      <td>779.500</td>\n",
              "      <td>824.000</td>\n",
              "      <td>992.6</td>\n",
              "    </tr>\n",
              "    <tr>\n",
              "      <th>Age (day)</th>\n",
              "      <td>1030.0</td>\n",
              "      <td>45.662136</td>\n",
              "      <td>63.169912</td>\n",
              "      <td>1.00</td>\n",
              "      <td>7.000</td>\n",
              "      <td>28.000</td>\n",
              "      <td>56.000</td>\n",
              "      <td>365.0</td>\n",
              "    </tr>\n",
              "    <tr>\n",
              "      <th>Concrete compressive strength(MPa, megapascals)</th>\n",
              "      <td>1030.0</td>\n",
              "      <td>35.817961</td>\n",
              "      <td>16.705742</td>\n",
              "      <td>2.33</td>\n",
              "      <td>23.710</td>\n",
              "      <td>34.445</td>\n",
              "      <td>46.135</td>\n",
              "      <td>82.6</td>\n",
              "    </tr>\n",
              "  </tbody>\n",
              "</table>\n",
              "</div>"
            ],
            "text/plain": [
              "                                                     count  ...     max\n",
              "Cement (component 1)(kg in a m^3 mixture)           1030.0  ...   540.0\n",
              "Blast Furnace Slag (component 2)(kg in a m^3 mi...  1030.0  ...   359.4\n",
              "Fly Ash (component 3)(kg in a m^3 mixture)          1030.0  ...   200.1\n",
              "Water  (component 4)(kg in a m^3 mixture)           1030.0  ...   247.0\n",
              "Superplasticizer (component 5)(kg in a m^3 mixt...  1030.0  ...    32.2\n",
              "Coarse Aggregate  (component 6)(kg in a m^3 mix...  1030.0  ...  1145.0\n",
              "Fine Aggregate (component 7)(kg in a m^3 mixture)   1030.0  ...   992.6\n",
              "Age (day)                                           1030.0  ...   365.0\n",
              "Concrete compressive strength(MPa, megapascals)     1030.0  ...    82.6\n",
              "\n",
              "[9 rows x 8 columns]"
            ]
          },
          "metadata": {
            "tags": []
          },
          "execution_count": 9
        }
      ]
    },
    {
      "cell_type": "code",
      "metadata": {
        "id": "n3VqmOXNRCgI"
      },
      "source": [
        "# Renaming Columns\n",
        "columns = {\n",
        "    'Cement (component 1)(kg in a m^3 mixture)':'Cement',\n",
        "    'Blast Furnace Slag (component 2)(kg in a m^3 mixture)':'Blast_Furnance_Slag',\n",
        "    'Fly Ash (component 3)(kg in a m^3 mixture)':'Fly_Ash',\n",
        "    'Water  (component 4)(kg in a m^3 mixture)':'Water',\n",
        "    'Superplasticizer (component 5)(kg in a m^3 mixture)':'Super_Plasticizer',\n",
        "    'Coarse Aggregate  (component 6)(kg in a m^3 mixture)':'Coarse_Aggregate',\n",
        "    'Fine Aggregate (component 7)(kg in a m^3 mixture)':'Fine_Aggregate',\n",
        "    'Age (day)':'Age',\n",
        "    'Concrete compressive strength(MPa, megapascals) ':'Concrete_Strength'\n",
        "    }\n",
        "  \n",
        "df.rename(columns = columns, inplace=True)"
      ],
      "execution_count": null,
      "outputs": []
    },
    {
      "cell_type": "code",
      "metadata": {
        "colab": {
          "base_uri": "https://localhost:8080/",
          "height": 419
        },
        "id": "39s6GQapRF2N",
        "outputId": "60da144d-203a-4138-9beb-137246a8a112"
      },
      "source": [
        "# Checking New DataFrame\n",
        "df"
      ],
      "execution_count": null,
      "outputs": [
        {
          "output_type": "execute_result",
          "data": {
            "text/html": [
              "<div>\n",
              "<style scoped>\n",
              "    .dataframe tbody tr th:only-of-type {\n",
              "        vertical-align: middle;\n",
              "    }\n",
              "\n",
              "    .dataframe tbody tr th {\n",
              "        vertical-align: top;\n",
              "    }\n",
              "\n",
              "    .dataframe thead th {\n",
              "        text-align: right;\n",
              "    }\n",
              "</style>\n",
              "<table border=\"1\" class=\"dataframe\">\n",
              "  <thead>\n",
              "    <tr style=\"text-align: right;\">\n",
              "      <th></th>\n",
              "      <th>Cement</th>\n",
              "      <th>Blast_Furnance_Slag</th>\n",
              "      <th>Fly_Ash</th>\n",
              "      <th>Water</th>\n",
              "      <th>Super_Plasticizer</th>\n",
              "      <th>Coarse_Aggregate</th>\n",
              "      <th>Fine_Aggregate</th>\n",
              "      <th>Age</th>\n",
              "      <th>Concrete_Strength</th>\n",
              "    </tr>\n",
              "  </thead>\n",
              "  <tbody>\n",
              "    <tr>\n",
              "      <th>0</th>\n",
              "      <td>540.0</td>\n",
              "      <td>0.0</td>\n",
              "      <td>0.0</td>\n",
              "      <td>162.0</td>\n",
              "      <td>2.5</td>\n",
              "      <td>1040.0</td>\n",
              "      <td>676.0</td>\n",
              "      <td>28</td>\n",
              "      <td>79.99</td>\n",
              "    </tr>\n",
              "    <tr>\n",
              "      <th>1</th>\n",
              "      <td>540.0</td>\n",
              "      <td>0.0</td>\n",
              "      <td>0.0</td>\n",
              "      <td>162.0</td>\n",
              "      <td>2.5</td>\n",
              "      <td>1055.0</td>\n",
              "      <td>676.0</td>\n",
              "      <td>28</td>\n",
              "      <td>61.89</td>\n",
              "    </tr>\n",
              "    <tr>\n",
              "      <th>2</th>\n",
              "      <td>332.5</td>\n",
              "      <td>142.5</td>\n",
              "      <td>0.0</td>\n",
              "      <td>228.0</td>\n",
              "      <td>0.0</td>\n",
              "      <td>932.0</td>\n",
              "      <td>594.0</td>\n",
              "      <td>270</td>\n",
              "      <td>40.27</td>\n",
              "    </tr>\n",
              "    <tr>\n",
              "      <th>3</th>\n",
              "      <td>332.5</td>\n",
              "      <td>142.5</td>\n",
              "      <td>0.0</td>\n",
              "      <td>228.0</td>\n",
              "      <td>0.0</td>\n",
              "      <td>932.0</td>\n",
              "      <td>594.0</td>\n",
              "      <td>365</td>\n",
              "      <td>41.05</td>\n",
              "    </tr>\n",
              "    <tr>\n",
              "      <th>4</th>\n",
              "      <td>198.6</td>\n",
              "      <td>132.4</td>\n",
              "      <td>0.0</td>\n",
              "      <td>192.0</td>\n",
              "      <td>0.0</td>\n",
              "      <td>978.4</td>\n",
              "      <td>825.5</td>\n",
              "      <td>360</td>\n",
              "      <td>44.30</td>\n",
              "    </tr>\n",
              "    <tr>\n",
              "      <th>...</th>\n",
              "      <td>...</td>\n",
              "      <td>...</td>\n",
              "      <td>...</td>\n",
              "      <td>...</td>\n",
              "      <td>...</td>\n",
              "      <td>...</td>\n",
              "      <td>...</td>\n",
              "      <td>...</td>\n",
              "      <td>...</td>\n",
              "    </tr>\n",
              "    <tr>\n",
              "      <th>1025</th>\n",
              "      <td>276.4</td>\n",
              "      <td>116.0</td>\n",
              "      <td>90.3</td>\n",
              "      <td>179.6</td>\n",
              "      <td>8.9</td>\n",
              "      <td>870.1</td>\n",
              "      <td>768.3</td>\n",
              "      <td>28</td>\n",
              "      <td>44.28</td>\n",
              "    </tr>\n",
              "    <tr>\n",
              "      <th>1026</th>\n",
              "      <td>322.2</td>\n",
              "      <td>0.0</td>\n",
              "      <td>115.6</td>\n",
              "      <td>196.0</td>\n",
              "      <td>10.4</td>\n",
              "      <td>817.9</td>\n",
              "      <td>813.4</td>\n",
              "      <td>28</td>\n",
              "      <td>31.18</td>\n",
              "    </tr>\n",
              "    <tr>\n",
              "      <th>1027</th>\n",
              "      <td>148.5</td>\n",
              "      <td>139.4</td>\n",
              "      <td>108.6</td>\n",
              "      <td>192.7</td>\n",
              "      <td>6.1</td>\n",
              "      <td>892.4</td>\n",
              "      <td>780.0</td>\n",
              "      <td>28</td>\n",
              "      <td>23.70</td>\n",
              "    </tr>\n",
              "    <tr>\n",
              "      <th>1028</th>\n",
              "      <td>159.1</td>\n",
              "      <td>186.7</td>\n",
              "      <td>0.0</td>\n",
              "      <td>175.6</td>\n",
              "      <td>11.3</td>\n",
              "      <td>989.6</td>\n",
              "      <td>788.9</td>\n",
              "      <td>28</td>\n",
              "      <td>32.77</td>\n",
              "    </tr>\n",
              "    <tr>\n",
              "      <th>1029</th>\n",
              "      <td>260.9</td>\n",
              "      <td>100.5</td>\n",
              "      <td>78.3</td>\n",
              "      <td>200.6</td>\n",
              "      <td>8.6</td>\n",
              "      <td>864.5</td>\n",
              "      <td>761.5</td>\n",
              "      <td>28</td>\n",
              "      <td>32.40</td>\n",
              "    </tr>\n",
              "  </tbody>\n",
              "</table>\n",
              "<p>1030 rows × 9 columns</p>\n",
              "</div>"
            ],
            "text/plain": [
              "      Cement  Blast_Furnance_Slag  ...  Age  Concrete_Strength\n",
              "0      540.0                  0.0  ...   28              79.99\n",
              "1      540.0                  0.0  ...   28              61.89\n",
              "2      332.5                142.5  ...  270              40.27\n",
              "3      332.5                142.5  ...  365              41.05\n",
              "4      198.6                132.4  ...  360              44.30\n",
              "...      ...                  ...  ...  ...                ...\n",
              "1025   276.4                116.0  ...   28              44.28\n",
              "1026   322.2                  0.0  ...   28              31.18\n",
              "1027   148.5                139.4  ...   28              23.70\n",
              "1028   159.1                186.7  ...   28              32.77\n",
              "1029   260.9                100.5  ...   28              32.40\n",
              "\n",
              "[1030 rows x 9 columns]"
            ]
          },
          "metadata": {
            "tags": []
          },
          "execution_count": 11
        }
      ]
    },
    {
      "cell_type": "code",
      "metadata": {
        "colab": {
          "base_uri": "https://localhost:8080/",
          "height": 568
        },
        "id": "O6_AYxt2RIWk",
        "outputId": "05b65d36-5635-4742-b673-fd6d1e19934c"
      },
      "source": [
        "# Visualizing The Data\n",
        "plt.figure(figsize=(20,8))\n",
        "\n",
        "plt.subplot(1,2,1)\n",
        "plt.title('Concrete Strength Distribution Plot')\n",
        "sns.distplot(df.Concrete_Strength)\n",
        "\n",
        "plt.subplot(1,2,2)\n",
        "plt.title('Concrete Strength Spread')\n",
        "sns.boxplot(y=df.Concrete_Strength)\n",
        "\n",
        "plt.show()"
      ],
      "execution_count": null,
      "outputs": [
        {
          "output_type": "stream",
          "text": [
            "/usr/local/lib/python3.7/dist-packages/seaborn/distributions.py:2557: FutureWarning: `distplot` is a deprecated function and will be removed in a future version. Please adapt your code to use either `displot` (a figure-level function with similar flexibility) or `histplot` (an axes-level function for histograms).\n",
            "  warnings.warn(msg, FutureWarning)\n"
          ],
          "name": "stderr"
        },
        {
          "output_type": "display_data",
          "data": {
            "image/png": "[encoded data removed]",
            "text/plain": [
              "<Figure size 1440x576 with 2 Axes>"
            ]
          },
          "metadata": {
            "tags": [],
            "needs_background": "light"
          }
        }
      ]
    },
    {
      "cell_type": "code",
      "metadata": {
        "colab": {
          "base_uri": "https://localhost:8080/",
          "height": 605
        },
        "id": "Jx5rQxELRNh0",
        "outputId": "7f9c6b40-cf9e-4cde-fee3-ef8b67a5721b"
      },
      "source": [
        "# Plotting Some Important Numerical Features\n",
        "def scatter(x,fig):\n",
        "    plt.subplot(5,2,fig)\n",
        "    plt.scatter(df[x],df['Concrete_Strength'])\n",
        "    plt.title(x+' vs Concrete Strength')\n",
        "    plt.ylabel('Concrete Strength')\n",
        "    plt.xlabel(x)\n",
        "\n",
        "plt.figure(figsize=(10,20))\n",
        "\n",
        "scatter('Cement', 1)\n",
        "scatter('Blast_Furnance_Slag', 2)\n",
        "scatter('Fly_Ash', 3)\n",
        "scatter('Water', 4)\n",
        "\n",
        "plt.tight_layout()"
      ],
      "execution_count": null,
      "outputs": [
        {
          "output_type": "display_data",
          "data": {
            "image/png": "[encoded data removed]",
            "text/plain": [
              "<Figure size 720x1440 with 4 Axes>"
            ]
          },
          "metadata": {
            "tags": [],
            "needs_background": "light"
          }
        }
      ]
    },
    {
      "cell_type": "code",
      "metadata": {
        "id": "tFJHd0IoRQol"
      },
      "source": [
        "# Shuffling Data\n",
        "df = df.sample(frac=1)"
      ],
      "execution_count": null,
      "outputs": []
    },
    {
      "cell_type": "code",
      "metadata": {
        "colab": {
          "base_uri": "https://localhost:8080/"
        },
        "id": "ORpyzULtRS8K",
        "outputId": "1f206d32-fd6e-42ce-c758-bfe346a1c1b9"
      },
      "source": [
        "df.shape"
      ],
      "execution_count": null,
      "outputs": [
        {
          "output_type": "execute_result",
          "data": {
            "text/plain": [
              "(1030, 9)"
            ]
          },
          "metadata": {
            "tags": []
          },
          "execution_count": 15
        }
      ]
    },
    {
      "cell_type": "code",
      "metadata": {
        "colab": {
          "base_uri": "https://localhost:8080/",
          "height": 204
        },
        "id": "1qZN9dQcRUlk",
        "outputId": "10202ea9-7fc1-49f2-c32a-28598bb8aea2"
      },
      "source": [
        "# Splitting The Dataset Into Testing and Training Data\n",
        "train_data = df.iloc[:721,:]\n",
        "train_data.head()"
      ],
      "execution_count": null,
      "outputs": [
        {
          "output_type": "execute_result",
          "data": {
            "text/html": [
              "<div>\n",
              "<style scoped>\n",
              "    .dataframe tbody tr th:only-of-type {\n",
              "        vertical-align: middle;\n",
              "    }\n",
              "\n",
              "    .dataframe tbody tr th {\n",
              "        vertical-align: top;\n",
              "    }\n",
              "\n",
              "    .dataframe thead th {\n",
              "        text-align: right;\n",
              "    }\n",
              "</style>\n",
              "<table border=\"1\" class=\"dataframe\">\n",
              "  <thead>\n",
              "    <tr style=\"text-align: right;\">\n",
              "      <th></th>\n",
              "      <th>Cement</th>\n",
              "      <th>Blast_Furnance_Slag</th>\n",
              "      <th>Fly_Ash</th>\n",
              "      <th>Water</th>\n",
              "      <th>Super_Plasticizer</th>\n",
              "      <th>Coarse_Aggregate</th>\n",
              "      <th>Fine_Aggregate</th>\n",
              "      <th>Age</th>\n",
              "      <th>Concrete_Strength</th>\n",
              "    </tr>\n",
              "  </thead>\n",
              "  <tbody>\n",
              "    <tr>\n",
              "      <th>408</th>\n",
              "      <td>178.0</td>\n",
              "      <td>129.8</td>\n",
              "      <td>118.6</td>\n",
              "      <td>179.9</td>\n",
              "      <td>3.6</td>\n",
              "      <td>1007.3</td>\n",
              "      <td>746.8</td>\n",
              "      <td>3</td>\n",
              "      <td>20.73</td>\n",
              "    </tr>\n",
              "    <tr>\n",
              "      <th>384</th>\n",
              "      <td>516.0</td>\n",
              "      <td>0.0</td>\n",
              "      <td>0.0</td>\n",
              "      <td>162.0</td>\n",
              "      <td>8.2</td>\n",
              "      <td>801.0</td>\n",
              "      <td>802.0</td>\n",
              "      <td>28</td>\n",
              "      <td>41.37</td>\n",
              "    </tr>\n",
              "    <tr>\n",
              "      <th>320</th>\n",
              "      <td>249.1</td>\n",
              "      <td>0.0</td>\n",
              "      <td>98.8</td>\n",
              "      <td>158.1</td>\n",
              "      <td>12.8</td>\n",
              "      <td>987.8</td>\n",
              "      <td>889.0</td>\n",
              "      <td>14</td>\n",
              "      <td>28.68</td>\n",
              "    </tr>\n",
              "    <tr>\n",
              "      <th>241</th>\n",
              "      <td>229.7</td>\n",
              "      <td>0.0</td>\n",
              "      <td>118.2</td>\n",
              "      <td>195.2</td>\n",
              "      <td>6.1</td>\n",
              "      <td>1028.1</td>\n",
              "      <td>757.6</td>\n",
              "      <td>28</td>\n",
              "      <td>24.54</td>\n",
              "    </tr>\n",
              "    <tr>\n",
              "      <th>1007</th>\n",
              "      <td>155.6</td>\n",
              "      <td>243.5</td>\n",
              "      <td>0.0</td>\n",
              "      <td>180.3</td>\n",
              "      <td>10.7</td>\n",
              "      <td>1022.0</td>\n",
              "      <td>697.7</td>\n",
              "      <td>28</td>\n",
              "      <td>37.36</td>\n",
              "    </tr>\n",
              "  </tbody>\n",
              "</table>\n",
              "</div>"
            ],
            "text/plain": [
              "      Cement  Blast_Furnance_Slag  ...  Age  Concrete_Strength\n",
              "408    178.0                129.8  ...    3              20.73\n",
              "384    516.0                  0.0  ...   28              41.37\n",
              "320    249.1                  0.0  ...   14              28.68\n",
              "241    229.7                  0.0  ...   28              24.54\n",
              "1007   155.6                243.5  ...   28              37.36\n",
              "\n",
              "[5 rows x 9 columns]"
            ]
          },
          "metadata": {
            "tags": []
          },
          "execution_count": 16
        }
      ]
    },
    {
      "cell_type": "code",
      "metadata": {
        "colab": {
          "base_uri": "https://localhost:8080/"
        },
        "id": "c1ZhwLy8RWky",
        "outputId": "6347ac62-9ede-4226-c159-cf3200c26052"
      },
      "source": [
        "train_data.shape"
      ],
      "execution_count": null,
      "outputs": [
        {
          "output_type": "execute_result",
          "data": {
            "text/plain": [
              "(721, 9)"
            ]
          },
          "metadata": {
            "tags": []
          },
          "execution_count": 17
        }
      ]
    },
    {
      "cell_type": "code",
      "metadata": {
        "colab": {
          "base_uri": "https://localhost:8080/",
          "height": 204
        },
        "id": "DXlI8bL0RYOI",
        "outputId": "f0a7943d-a422-45c3-d57f-7c65a20fc728"
      },
      "source": [
        "test_data = df.iloc[721:,:]\n",
        "test_data.head()"
      ],
      "execution_count": null,
      "outputs": [
        {
          "output_type": "execute_result",
          "data": {
            "text/html": [
              "<div>\n",
              "<style scoped>\n",
              "    .dataframe tbody tr th:only-of-type {\n",
              "        vertical-align: middle;\n",
              "    }\n",
              "\n",
              "    .dataframe tbody tr th {\n",
              "        vertical-align: top;\n",
              "    }\n",
              "\n",
              "    .dataframe thead th {\n",
              "        text-align: right;\n",
              "    }\n",
              "</style>\n",
              "<table border=\"1\" class=\"dataframe\">\n",
              "  <thead>\n",
              "    <tr style=\"text-align: right;\">\n",
              "      <th></th>\n",
              "      <th>Cement</th>\n",
              "      <th>Blast_Furnance_Slag</th>\n",
              "      <th>Fly_Ash</th>\n",
              "      <th>Water</th>\n",
              "      <th>Super_Plasticizer</th>\n",
              "      <th>Coarse_Aggregate</th>\n",
              "      <th>Fine_Aggregate</th>\n",
              "      <th>Age</th>\n",
              "      <th>Concrete_Strength</th>\n",
              "    </tr>\n",
              "  </thead>\n",
              "  <tbody>\n",
              "    <tr>\n",
              "      <th>367</th>\n",
              "      <td>214.9</td>\n",
              "      <td>53.8</td>\n",
              "      <td>121.9</td>\n",
              "      <td>155.6</td>\n",
              "      <td>9.6</td>\n",
              "      <td>1014.3</td>\n",
              "      <td>780.6</td>\n",
              "      <td>56</td>\n",
              "      <td>53.96</td>\n",
              "    </tr>\n",
              "    <tr>\n",
              "      <th>792</th>\n",
              "      <td>349.0</td>\n",
              "      <td>0.0</td>\n",
              "      <td>0.0</td>\n",
              "      <td>192.0</td>\n",
              "      <td>0.0</td>\n",
              "      <td>1047.0</td>\n",
              "      <td>806.0</td>\n",
              "      <td>360</td>\n",
              "      <td>42.13</td>\n",
              "    </tr>\n",
              "    <tr>\n",
              "      <th>905</th>\n",
              "      <td>135.0</td>\n",
              "      <td>0.0</td>\n",
              "      <td>166.0</td>\n",
              "      <td>180.0</td>\n",
              "      <td>10.0</td>\n",
              "      <td>961.0</td>\n",
              "      <td>805.0</td>\n",
              "      <td>28</td>\n",
              "      <td>13.29</td>\n",
              "    </tr>\n",
              "    <tr>\n",
              "      <th>230</th>\n",
              "      <td>213.7</td>\n",
              "      <td>98.1</td>\n",
              "      <td>24.5</td>\n",
              "      <td>181.7</td>\n",
              "      <td>6.9</td>\n",
              "      <td>1065.8</td>\n",
              "      <td>785.4</td>\n",
              "      <td>14</td>\n",
              "      <td>30.39</td>\n",
              "    </tr>\n",
              "    <tr>\n",
              "      <th>899</th>\n",
              "      <td>145.0</td>\n",
              "      <td>0.0</td>\n",
              "      <td>134.0</td>\n",
              "      <td>181.0</td>\n",
              "      <td>11.0</td>\n",
              "      <td>979.0</td>\n",
              "      <td>812.0</td>\n",
              "      <td>28</td>\n",
              "      <td>13.20</td>\n",
              "    </tr>\n",
              "  </tbody>\n",
              "</table>\n",
              "</div>"
            ],
            "text/plain": [
              "     Cement  Blast_Furnance_Slag  ...  Age  Concrete_Strength\n",
              "367   214.9                 53.8  ...   56              53.96\n",
              "792   349.0                  0.0  ...  360              42.13\n",
              "905   135.0                  0.0  ...   28              13.29\n",
              "230   213.7                 98.1  ...   14              30.39\n",
              "899   145.0                  0.0  ...   28              13.20\n",
              "\n",
              "[5 rows x 9 columns]"
            ]
          },
          "metadata": {
            "tags": []
          },
          "execution_count": 18
        }
      ]
    },
    {
      "cell_type": "code",
      "metadata": {
        "colab": {
          "base_uri": "https://localhost:8080/"
        },
        "id": "wofVfQ2JRa73",
        "outputId": "f5a85277-65fe-4b4c-d0bf-92cec3412b42"
      },
      "source": [
        "test_data.shape"
      ],
      "execution_count": null,
      "outputs": [
        {
          "output_type": "execute_result",
          "data": {
            "text/plain": [
              "(309, 9)"
            ]
          },
          "metadata": {
            "tags": []
          },
          "execution_count": 19
        }
      ]
    },
    {
      "cell_type": "code",
      "metadata": {
        "id": "uxtNdnA8RchL"
      },
      "source": [
        "# Separating Features From Test And Train Data\n",
        "copy_of_train_data = train_data.copy()\n",
        "copy_of_test_data = test_data.copy()\n",
        "train_labels = train_data.pop('Concrete_Strength')\n",
        "test_labels = test_data.pop('Concrete_Strength')"
      ],
      "execution_count": null,
      "outputs": []
    },
    {
      "cell_type": "code",
      "metadata": {
        "colab": {
          "base_uri": "https://localhost:8080/"
        },
        "id": "wfHQRAZOReLr",
        "outputId": "ea7e9aa3-4db6-4134-8632-b2a2aed5ee17"
      },
      "source": [
        "train_labels.head()"
      ],
      "execution_count": null,
      "outputs": [
        {
          "output_type": "execute_result",
          "data": {
            "text/plain": [
              "408     20.73\n",
              "384     41.37\n",
              "320     28.68\n",
              "241     24.54\n",
              "1007    37.36\n",
              "Name: Concrete_Strength, dtype: float64"
            ]
          },
          "metadata": {
            "tags": []
          },
          "execution_count": 21
        }
      ]
    },
    {
      "cell_type": "code",
      "metadata": {
        "colab": {
          "base_uri": "https://localhost:8080/"
        },
        "id": "xwER_TpcRf3y",
        "outputId": "6935f59a-ae45-4d83-dde2-96cd25c1f3d9"
      },
      "source": [
        "test_labels.head()"
      ],
      "execution_count": null,
      "outputs": [
        {
          "output_type": "execute_result",
          "data": {
            "text/plain": [
              "367    53.96\n",
              "792    42.13\n",
              "905    13.29\n",
              "230    30.39\n",
              "899    13.20\n",
              "Name: Concrete_Strength, dtype: float64"
            ]
          },
          "metadata": {
            "tags": []
          },
          "execution_count": 22
        }
      ]
    },
    {
      "cell_type": "code",
      "metadata": {
        "id": "uiNPH7M5Rk_6"
      },
      "source": [
        "# Normalizing The Data\n",
        "\n",
        "# Finding Mean\n",
        "train_mean = np.mean(train_data, axis = 0)\n",
        "# Finding Standard Deviation\n",
        "train_std = np.std(train_data, axis = 0)\n",
        "# Formula Used: Data - Mean / Satandard Deviation\n",
        "train_data = (train_data - train_mean) / train_std\n",
        "test_data = (test_data - train_mean) / train_std"
      ],
      "execution_count": null,
      "outputs": []
    },
    {
      "cell_type": "code",
      "metadata": {
        "colab": {
          "base_uri": "https://localhost:8080/",
          "height": 204
        },
        "id": "d6ZeuT8ZRnKu",
        "outputId": "d8fe1faa-dc10-475c-b8c6-77266162a2bd"
      },
      "source": [
        "# Checking Normalized Train Data\n",
        "train_data.head()"
      ],
      "execution_count": null,
      "outputs": [
        {
          "output_type": "execute_result",
          "data": {
            "text/html": [
              "<div>\n",
              "<style scoped>\n",
              "    .dataframe tbody tr th:only-of-type {\n",
              "        vertical-align: middle;\n",
              "    }\n",
              "\n",
              "    .dataframe tbody tr th {\n",
              "        vertical-align: top;\n",
              "    }\n",
              "\n",
              "    .dataframe thead th {\n",
              "        text-align: right;\n",
              "    }\n",
              "</style>\n",
              "<table border=\"1\" class=\"dataframe\">\n",
              "  <thead>\n",
              "    <tr style=\"text-align: right;\">\n",
              "      <th></th>\n",
              "      <th>Cement</th>\n",
              "      <th>Blast_Furnance_Slag</th>\n",
              "      <th>Fly_Ash</th>\n",
              "      <th>Water</th>\n",
              "      <th>Super_Plasticizer</th>\n",
              "      <th>Coarse_Aggregate</th>\n",
              "      <th>Fine_Aggregate</th>\n",
              "      <th>Age</th>\n",
              "    </tr>\n",
              "  </thead>\n",
              "  <tbody>\n",
              "    <tr>\n",
              "      <th>408</th>\n",
              "      <td>-0.966961</td>\n",
              "      <td>0.662859</td>\n",
              "      <td>0.979905</td>\n",
              "      <td>-0.085692</td>\n",
              "      <td>-0.429808</td>\n",
              "      <td>0.457092</td>\n",
              "      <td>-0.345462</td>\n",
              "      <td>-0.706626</td>\n",
              "    </tr>\n",
              "    <tr>\n",
              "      <th>384</th>\n",
              "      <td>2.238057</td>\n",
              "      <td>-0.847205</td>\n",
              "      <td>-0.862660</td>\n",
              "      <td>-0.936734</td>\n",
              "      <td>0.345680</td>\n",
              "      <td>-2.205036</td>\n",
              "      <td>0.337979</td>\n",
              "      <td>-0.285862</td>\n",
              "    </tr>\n",
              "    <tr>\n",
              "      <th>320</th>\n",
              "      <td>-0.292769</td>\n",
              "      <td>-0.847205</td>\n",
              "      <td>0.672293</td>\n",
              "      <td>-1.122156</td>\n",
              "      <td>1.121168</td>\n",
              "      <td>0.205461</td>\n",
              "      <td>1.415141</td>\n",
              "      <td>-0.521490</td>\n",
              "    </tr>\n",
              "    <tr>\n",
              "      <th>241</th>\n",
              "      <td>-0.476726</td>\n",
              "      <td>-0.847205</td>\n",
              "      <td>0.973691</td>\n",
              "      <td>0.641735</td>\n",
              "      <td>-0.008347</td>\n",
              "      <td>0.725498</td>\n",
              "      <td>-0.211746</td>\n",
              "      <td>-0.285862</td>\n",
              "    </tr>\n",
              "    <tr>\n",
              "      <th>1007</th>\n",
              "      <td>-1.179364</td>\n",
              "      <td>1.985618</td>\n",
              "      <td>-0.862660</td>\n",
              "      <td>-0.066674</td>\n",
              "      <td>0.767141</td>\n",
              "      <td>0.646783</td>\n",
              "      <td>-0.953378</td>\n",
              "      <td>-0.285862</td>\n",
              "    </tr>\n",
              "  </tbody>\n",
              "</table>\n",
              "</div>"
            ],
            "text/plain": [
              "        Cement  Blast_Furnance_Slag  ...  Fine_Aggregate       Age\n",
              "408  -0.966961             0.662859  ...       -0.345462 -0.706626\n",
              "384   2.238057            -0.847205  ...        0.337979 -0.285862\n",
              "320  -0.292769            -0.847205  ...        1.415141 -0.521490\n",
              "241  -0.476726            -0.847205  ...       -0.211746 -0.285862\n",
              "1007 -1.179364             1.985618  ...       -0.953378 -0.285862\n",
              "\n",
              "[5 rows x 8 columns]"
            ]
          },
          "metadata": {
            "tags": []
          },
          "execution_count": 24
        }
      ]
    },
    {
      "cell_type": "code",
      "metadata": {
        "colab": {
          "base_uri": "https://localhost:8080/",
          "height": 204
        },
        "id": "Xp3ZbcJJRpAa",
        "outputId": "0f4dc89a-1197-449f-9d93-8109bd434efb"
      },
      "source": [
        "# Checking Normalized Test Data\n",
        "test_data.head()"
      ],
      "execution_count": null,
      "outputs": [
        {
          "output_type": "execute_result",
          "data": {
            "text/html": [
              "<div>\n",
              "<style scoped>\n",
              "    .dataframe tbody tr th:only-of-type {\n",
              "        vertical-align: middle;\n",
              "    }\n",
              "\n",
              "    .dataframe tbody tr th {\n",
              "        vertical-align: top;\n",
              "    }\n",
              "\n",
              "    .dataframe thead th {\n",
              "        text-align: right;\n",
              "    }\n",
              "</style>\n",
              "<table border=\"1\" class=\"dataframe\">\n",
              "  <thead>\n",
              "    <tr style=\"text-align: right;\">\n",
              "      <th></th>\n",
              "      <th>Cement</th>\n",
              "      <th>Blast_Furnance_Slag</th>\n",
              "      <th>Fly_Ash</th>\n",
              "      <th>Water</th>\n",
              "      <th>Super_Plasticizer</th>\n",
              "      <th>Coarse_Aggregate</th>\n",
              "      <th>Fine_Aggregate</th>\n",
              "      <th>Age</th>\n",
              "    </tr>\n",
              "  </thead>\n",
              "  <tbody>\n",
              "    <tr>\n",
              "      <th>367</th>\n",
              "      <td>-0.617064</td>\n",
              "      <td>-0.221308</td>\n",
              "      <td>1.031174</td>\n",
              "      <td>-1.241017</td>\n",
              "      <td>0.581698</td>\n",
              "      <td>0.547421</td>\n",
              "      <td>0.073021</td>\n",
              "      <td>0.185393</td>\n",
              "    </tr>\n",
              "    <tr>\n",
              "      <th>792</th>\n",
              "      <td>0.654513</td>\n",
              "      <td>-0.847205</td>\n",
              "      <td>-0.862660</td>\n",
              "      <td>0.489594</td>\n",
              "      <td>-1.036712</td>\n",
              "      <td>0.969387</td>\n",
              "      <td>0.387503</td>\n",
              "      <td>5.301875</td>\n",
              "    </tr>\n",
              "    <tr>\n",
              "      <th>905</th>\n",
              "      <td>-1.374700</td>\n",
              "      <td>-0.847205</td>\n",
              "      <td>1.716310</td>\n",
              "      <td>-0.080937</td>\n",
              "      <td>0.649132</td>\n",
              "      <td>-0.140371</td>\n",
              "      <td>0.375122</td>\n",
              "      <td>-0.285862</td>\n",
              "    </tr>\n",
              "    <tr>\n",
              "      <th>230</th>\n",
              "      <td>-0.628443</td>\n",
              "      <td>0.294068</td>\n",
              "      <td>-0.482029</td>\n",
              "      <td>-0.000112</td>\n",
              "      <td>0.126520</td>\n",
              "      <td>1.211985</td>\n",
              "      <td>0.132451</td>\n",
              "      <td>-0.521490</td>\n",
              "    </tr>\n",
              "    <tr>\n",
              "      <th>899</th>\n",
              "      <td>-1.279877</td>\n",
              "      <td>-0.847205</td>\n",
              "      <td>1.219159</td>\n",
              "      <td>-0.033393</td>\n",
              "      <td>0.817716</td>\n",
              "      <td>0.091904</td>\n",
              "      <td>0.461790</td>\n",
              "      <td>-0.285862</td>\n",
              "    </tr>\n",
              "  </tbody>\n",
              "</table>\n",
              "</div>"
            ],
            "text/plain": [
              "       Cement  Blast_Furnance_Slag  ...  Fine_Aggregate       Age\n",
              "367 -0.617064            -0.221308  ...        0.073021  0.185393\n",
              "792  0.654513            -0.847205  ...        0.387503  5.301875\n",
              "905 -1.374700            -0.847205  ...        0.375122 -0.285862\n",
              "230 -0.628443             0.294068  ...        0.132451 -0.521490\n",
              "899 -1.279877            -0.847205  ...        0.461790 -0.285862\n",
              "\n",
              "[5 rows x 8 columns]"
            ]
          },
          "metadata": {
            "tags": []
          },
          "execution_count": 25
        }
      ]
    },
    {
      "cell_type": "code",
      "metadata": {
        "colab": {
          "base_uri": "https://localhost:8080/"
        },
        "id": "Kc-Hc2XzRqbz",
        "outputId": "1e885ae5-6275-4f6c-b0af-a65a99b9f40e"
      },
      "source": [
        "# Making Base Model\n",
        "\n",
        "model = tf.keras.models.Sequential()\n",
        "model.add(Dense(10, activation = 'relu', input_shape=[len(train_data.keys())]))\n",
        "model.add(Dense(8, activation='relu'))\n",
        "model.add(Dense(6, activation = 'sigmoid'))\n",
        "model.add(Dense(1,))\n",
        "model.compile(optimizer = 'rmsprop', loss = 'mse', metrics = ['mse', 'mae'])\n",
        "model.summary()"
      ],
      "execution_count": null,
      "outputs": [
        {
          "output_type": "stream",
          "text": [
            "Model: \"sequential\"\n",
            "_________________________________________________________________\n",
            "Layer (type)                 Output Shape              Param #   \n",
            "=================================================================\n",
            "dense (Dense)                (None, 10)                90        \n",
            "_________________________________________________________________\n",
            "dense_1 (Dense)              (None, 8)                 88        \n",
            "_________________________________________________________________\n",
            "dense_2 (Dense)              (None, 6)                 54        \n",
            "_________________________________________________________________\n",
            "dense_3 (Dense)              (None, 1)                 7         \n",
            "=================================================================\n",
            "Total params: 239\n",
            "Trainable params: 239\n",
            "Non-trainable params: 0\n",
            "_________________________________________________________________\n"
          ],
          "name": "stdout"
        }
      ]
    },
    {
      "cell_type": "code",
      "metadata": {
        "id": "mR1-CiRoRsLk"
      },
      "source": [
        "# Training Model on Train Data\n",
        "history = model.fit(train_data, train_labels, epochs=100, verbose = 0, validation_split= 0.2)"
      ],
      "execution_count": null,
      "outputs": []
    },
    {
      "cell_type": "code",
      "metadata": {
        "colab": {
          "base_uri": "https://localhost:8080/",
          "height": 204
        },
        "id": "zB4EWR7yRu1X",
        "outputId": "62f889cf-090a-422b-dcf4-ab6cf3d3f143"
      },
      "source": [
        "# Feeding History In DataFrame \n",
        "history_df = pd.DataFrame(history.history)\n",
        "history_df['epochs'] = history.epoch\n",
        "history_df.tail()"
      ],
      "execution_count": null,
      "outputs": [
        {
          "output_type": "execute_result",
          "data": {
            "text/html": [
              "<div>\n",
              "<style scoped>\n",
              "    .dataframe tbody tr th:only-of-type {\n",
              "        vertical-align: middle;\n",
              "    }\n",
              "\n",
              "    .dataframe tbody tr th {\n",
              "        vertical-align: top;\n",
              "    }\n",
              "\n",
              "    .dataframe thead th {\n",
              "        text-align: right;\n",
              "    }\n",
              "</style>\n",
              "<table border=\"1\" class=\"dataframe\">\n",
              "  <thead>\n",
              "    <tr style=\"text-align: right;\">\n",
              "      <th></th>\n",
              "      <th>loss</th>\n",
              "      <th>mse</th>\n",
              "      <th>mae</th>\n",
              "      <th>val_loss</th>\n",
              "      <th>val_mse</th>\n",
              "      <th>val_mae</th>\n",
              "      <th>epochs</th>\n",
              "    </tr>\n",
              "  </thead>\n",
              "  <tbody>\n",
              "    <tr>\n",
              "      <th>95</th>\n",
              "      <td>991.962891</td>\n",
              "      <td>991.962891</td>\n",
              "      <td>26.966164</td>\n",
              "      <td>865.482239</td>\n",
              "      <td>865.482239</td>\n",
              "      <td>24.968281</td>\n",
              "      <td>95</td>\n",
              "    </tr>\n",
              "    <tr>\n",
              "      <th>96</th>\n",
              "      <td>981.463013</td>\n",
              "      <td>981.463013</td>\n",
              "      <td>26.782696</td>\n",
              "      <td>855.801392</td>\n",
              "      <td>855.801392</td>\n",
              "      <td>24.783316</td>\n",
              "      <td>96</td>\n",
              "    </tr>\n",
              "    <tr>\n",
              "      <th>97</th>\n",
              "      <td>971.435791</td>\n",
              "      <td>971.435791</td>\n",
              "      <td>26.604479</td>\n",
              "      <td>846.467163</td>\n",
              "      <td>846.467163</td>\n",
              "      <td>24.601440</td>\n",
              "      <td>97</td>\n",
              "    </tr>\n",
              "    <tr>\n",
              "      <th>98</th>\n",
              "      <td>961.934875</td>\n",
              "      <td>961.934875</td>\n",
              "      <td>26.431686</td>\n",
              "      <td>837.743774</td>\n",
              "      <td>837.743774</td>\n",
              "      <td>24.428705</td>\n",
              "      <td>98</td>\n",
              "    </tr>\n",
              "    <tr>\n",
              "      <th>99</th>\n",
              "      <td>953.070007</td>\n",
              "      <td>953.070007</td>\n",
              "      <td>26.270245</td>\n",
              "      <td>829.604248</td>\n",
              "      <td>829.604248</td>\n",
              "      <td>24.265797</td>\n",
              "      <td>99</td>\n",
              "    </tr>\n",
              "  </tbody>\n",
              "</table>\n",
              "</div>"
            ],
            "text/plain": [
              "          loss         mse        mae  ...     val_mse    val_mae  epochs\n",
              "95  991.962891  991.962891  26.966164  ...  865.482239  24.968281      95\n",
              "96  981.463013  981.463013  26.782696  ...  855.801392  24.783316      96\n",
              "97  971.435791  971.435791  26.604479  ...  846.467163  24.601440      97\n",
              "98  961.934875  961.934875  26.431686  ...  837.743774  24.428705      98\n",
              "99  953.070007  953.070007  26.270245  ...  829.604248  24.265797      99\n",
              "\n",
              "[5 rows x 7 columns]"
            ]
          },
          "metadata": {
            "tags": []
          },
          "execution_count": 28
        }
      ]
    },
    {
      "cell_type": "code",
      "metadata": {
        "colab": {
          "base_uri": "https://localhost:8080/",
          "height": 541
        },
        "id": "BjAo8yryRzPq",
        "outputId": "add73b6f-ac97-44dd-9327-b1dcc6af6c31"
      },
      "source": [
        "# plotting loss on validation data\n",
        "# Plotting Loss\n",
        "def history_plot(history):\n",
        "  # For Mean Absolute Error\n",
        "  plt.figure()\n",
        "  plt.xlabel('Epochs')\n",
        "  plt.ylabel('Mean Absolute Error (Price)')\n",
        "  plt.plot(history_df['epochs'], history_df['mae'], label = 'Training MAE')\n",
        "  plt.plot(history_df['epochs'], history_df['val_mae'], label = 'Validation MAE')\n",
        "  plt.legend()\n",
        "  # For Mean Squared Error\n",
        "  plt.figure()\n",
        "  plt.xlabel('Epochs')\n",
        "  plt.ylabel('Mean Square Error (Price)')\n",
        "  plt.plot(history_df['epochs'], history_df['loss'], label = 'Training Loss')\n",
        "  plt.plot(history_df['epochs'], history_df['val_mse'], label = 'Validation Loss')\n",
        "  plt.legend()\n",
        "\n",
        "history_plot(history_df)\n"
      ],
      "execution_count": null,
      "outputs": [
        {
          "output_type": "display_data",
          "data": {
            "image/png": "[encoded data removed]",
            "text/plain": [
              "<Figure size 432x288 with 1 Axes>"
            ]
          },
          "metadata": {
            "tags": [],
            "needs_background": "light"
          }
        },
        {
          "output_type": "display_data",
          "data": {
            "image/png": "[encoded data removed]",
            "text/plain": [
              "<Figure size 432x288 with 1 Axes>"
            ]
          },
          "metadata": {
            "tags": [],
            "needs_background": "light"
          }
        }
      ]
    },
    {
      "cell_type": "code",
      "metadata": {
        "id": "MRjoUdSjR2-K"
      },
      "source": [
        "# Making Predictions on Test Data\n",
        "predictions = model.predict(test_data).flatten()\n",
        "predictions = predictions.flatten()"
      ],
      "execution_count": null,
      "outputs": []
    },
    {
      "cell_type": "code",
      "metadata": {
        "colab": {
          "base_uri": "https://localhost:8080/"
        },
        "id": "_XTvE_UnR41q",
        "outputId": "f10fe341-80a3-48b6-8984-9e57df2d166a"
      },
      "source": [
        "test_score = model.evaluate(test_data, test_labels)"
      ],
      "execution_count": null,
      "outputs": [
        {
          "output_type": "stream",
          "text": [
            "10/10 [==============================] - 0s 1ms/step - loss: 959.5479 - mse: 959.5479 - mae: 25.9067\n"
          ],
          "name": "stdout"
        }
      ]
    },
    {
      "cell_type": "code",
      "metadata": {
        "colab": {
          "base_uri": "https://localhost:8080/"
        },
        "id": "HYJINdj4R65W",
        "outputId": "52aef4dc-ff45-4a96-939a-285a7afe1842"
      },
      "source": [
        "print(f\"Mean Squared Error: {test_score[0]}\")\n",
        "print(f\"Mean Absolute Error: {test_score[2]}\")"
      ],
      "execution_count": null,
      "outputs": [
        {
          "output_type": "stream",
          "text": [
            "Mean Squared Error: 959.5478515625\n",
            "Mean Absolute Error: 25.90669822692871\n"
          ],
          "name": "stdout"
        }
      ]
    },
    {
      "cell_type": "code",
      "metadata": {
        "colab": {
          "base_uri": "https://localhost:8080/",
          "height": 279
        },
        "id": "wKS-k3flR8po",
        "outputId": "1f03ab45-7ca5-44bd-8342-53fda10b1f3e"
      },
      "source": [
        "\n",
        "# Making Price Predictions On Test Data\n",
        "\n",
        "plt.scatter(test_labels, predictions)\n",
        "plt.xlabel('True Value (Concrete Strength)')\n",
        "plt.ylabel('Predictions (Concrete Strength)')\n",
        "plt.axis('equal')\n",
        "plt.axis('square')\n",
        "plt.xlim([0,plt.xlim()[1]])\n",
        "plt.ylim([0,plt.xlim()[1]])\n",
        "_ = plt.plot([-100, 100], [-100, 100])"
      ],
      "execution_count": null,
      "outputs": [
        {
          "output_type": "display_data",
          "data": {
            "image/png": "[encoded data removed]",
            "text/plain": [
              "<Figure size 432x288 with 1 Axes>"
            ]
          },
          "metadata": {
            "tags": [],
            "needs_background": "light"
          }
        }
      ]
    },
    {
      "cell_type": "code",
      "metadata": {
        "colab": {
          "base_uri": "https://localhost:8080/",
          "height": 387
        },
        "id": "i3fEVXoySBqO",
        "outputId": "16d1cf6a-3d76-4392-f4d2-eaf2c77de0ea"
      },
      "source": [
        "# Plotting Difference Between Actual Values And Predicted Values\n",
        "\n",
        "fig = plt.figure()\n",
        "sns.distplot((predictions - test_labels), bins = 20)\n",
        "fig.suptitle('Error Terms', fontsize = 20)                 \n",
        "plt.xlabel('Errors', fontsize = 18)"
      ],
      "execution_count": null,
      "outputs": [
        {
          "output_type": "stream",
          "text": [
            "/usr/local/lib/python3.7/dist-packages/seaborn/distributions.py:2557: FutureWarning: `distplot` is a deprecated function and will be removed in a future version. Please adapt your code to use either `displot` (a figure-level function with similar flexibility) or `histplot` (an axes-level function for histograms).\n",
            "  warnings.warn(msg, FutureWarning)\n"
          ],
          "name": "stderr"
        },
        {
          "output_type": "execute_result",
          "data": {
            "text/plain": [
              "Text(0.5, 0, 'Errors')"
            ]
          },
          "metadata": {
            "tags": []
          },
          "execution_count": 34
        },
        {
          "output_type": "display_data",
          "data": {
            "image/png": "[encoded data removed]",
            "text/plain": [
              "<Figure size 432x288 with 1 Axes>"
            ]
          },
          "metadata": {
            "tags": [],
            "needs_background": "light"
          }
        }
      ]
    },
    {
      "cell_type": "markdown",
      "metadata": {
        "id": "mTT_O_gGSILJ"
      },
      "source": [
        "**Making Second Model For Validation Data**"
      ]
    },
    {
      "cell_type": "code",
      "metadata": {
        "colab": {
          "base_uri": "https://localhost:8080/"
        },
        "id": "VFXnLedvSEIf",
        "outputId": "e56ba4cb-05d1-4cb7-f929-420bce0ef9a4"
      },
      "source": [
        "#Making Second Model For Validation Data\n",
        "from tensorflow.keras.models import Sequential\n",
        "model2 = Sequential()\n",
        "model2.add(Dense(64, activation = 'relu', input_shape = [len(train_data.keys())]))\n",
        "model2.add(Dense(64, activation = 'relu'))\n",
        "model2.add(Dense(64, activation='relu'))\n",
        "model2.add(Dense(64, activation='relu'))\n",
        "model2.add(Dense(64, activation = 'sigmoid'))\n",
        "model2.add(Dense(1))\n",
        "optimizer = tf.keras.optimizers.RMSprop(0.001)\n",
        "model2.compile(optimizer=optimizer, loss='mse', metrics=['mse','mae'])\n",
        "model2.summary()"
      ],
      "execution_count": null,
      "outputs": [
        {
          "output_type": "stream",
          "text": [
            "Model: \"sequential_1\"\n",
            "_________________________________________________________________\n",
            "Layer (type)                 Output Shape              Param #   \n",
            "=================================================================\n",
            "dense_4 (Dense)              (None, 64)                576       \n",
            "_________________________________________________________________\n",
            "dense_5 (Dense)              (None, 64)                4160      \n",
            "_________________________________________________________________\n",
            "dense_6 (Dense)              (None, 64)                4160      \n",
            "_________________________________________________________________\n",
            "dense_7 (Dense)              (None, 64)                4160      \n",
            "_________________________________________________________________\n",
            "dense_8 (Dense)              (None, 64)                4160      \n",
            "_________________________________________________________________\n",
            "dense_9 (Dense)              (None, 1)                 65        \n",
            "=================================================================\n",
            "Total params: 17,281\n",
            "Trainable params: 17,281\n",
            "Non-trainable params: 0\n",
            "_________________________________________________________________\n"
          ],
          "name": "stdout"
        }
      ]
    },
    {
      "cell_type": "code",
      "metadata": {
        "id": "ulUa5f3QSLDF"
      },
      "source": [
        "history_1 = model2.fit(train_data, train_labels, epochs=500, verbose = 0, validation_split=0.2)"
      ],
      "execution_count": null,
      "outputs": []
    },
    {
      "cell_type": "code",
      "metadata": {
        "colab": {
          "base_uri": "https://localhost:8080/",
          "height": 204
        },
        "id": "5HZUP5GHSN7Y",
        "outputId": "c3abd9de-7ab1-4354-aa48-ded5865a9f80"
      },
      "source": [
        "# Feeding history_1 In DataFrame\n",
        "history_1_df = pd.DataFrame(history_1.history)\n",
        "history_1_df['epochs'] = history_1.epoch\n",
        "history_1_df.tail()"
      ],
      "execution_count": null,
      "outputs": [
        {
          "output_type": "execute_result",
          "data": {
            "text/html": [
              "<div>\n",
              "<style scoped>\n",
              "    .dataframe tbody tr th:only-of-type {\n",
              "        vertical-align: middle;\n",
              "    }\n",
              "\n",
              "    .dataframe tbody tr th {\n",
              "        vertical-align: top;\n",
              "    }\n",
              "\n",
              "    .dataframe thead th {\n",
              "        text-align: right;\n",
              "    }\n",
              "</style>\n",
              "<table border=\"1\" class=\"dataframe\">\n",
              "  <thead>\n",
              "    <tr style=\"text-align: right;\">\n",
              "      <th></th>\n",
              "      <th>loss</th>\n",
              "      <th>mse</th>\n",
              "      <th>mae</th>\n",
              "      <th>val_loss</th>\n",
              "      <th>val_mse</th>\n",
              "      <th>val_mae</th>\n",
              "      <th>epochs</th>\n",
              "    </tr>\n",
              "  </thead>\n",
              "  <tbody>\n",
              "    <tr>\n",
              "      <th>495</th>\n",
              "      <td>65.219078</td>\n",
              "      <td>65.219078</td>\n",
              "      <td>5.859002</td>\n",
              "      <td>63.241940</td>\n",
              "      <td>63.241940</td>\n",
              "      <td>5.877199</td>\n",
              "      <td>495</td>\n",
              "    </tr>\n",
              "    <tr>\n",
              "      <th>496</th>\n",
              "      <td>59.745720</td>\n",
              "      <td>59.745720</td>\n",
              "      <td>5.626475</td>\n",
              "      <td>56.770218</td>\n",
              "      <td>56.770218</td>\n",
              "      <td>5.401886</td>\n",
              "      <td>496</td>\n",
              "    </tr>\n",
              "    <tr>\n",
              "      <th>497</th>\n",
              "      <td>55.308315</td>\n",
              "      <td>55.308315</td>\n",
              "      <td>5.402687</td>\n",
              "      <td>55.982098</td>\n",
              "      <td>55.982098</td>\n",
              "      <td>5.197157</td>\n",
              "      <td>497</td>\n",
              "    </tr>\n",
              "    <tr>\n",
              "      <th>498</th>\n",
              "      <td>53.187019</td>\n",
              "      <td>53.187019</td>\n",
              "      <td>5.217278</td>\n",
              "      <td>50.512554</td>\n",
              "      <td>50.512554</td>\n",
              "      <td>5.081299</td>\n",
              "      <td>498</td>\n",
              "    </tr>\n",
              "    <tr>\n",
              "      <th>499</th>\n",
              "      <td>53.967190</td>\n",
              "      <td>53.967190</td>\n",
              "      <td>5.357416</td>\n",
              "      <td>49.974751</td>\n",
              "      <td>49.974751</td>\n",
              "      <td>5.143750</td>\n",
              "      <td>499</td>\n",
              "    </tr>\n",
              "  </tbody>\n",
              "</table>\n",
              "</div>"
            ],
            "text/plain": [
              "          loss        mse       mae   val_loss    val_mse   val_mae  epochs\n",
              "495  65.219078  65.219078  5.859002  63.241940  63.241940  5.877199     495\n",
              "496  59.745720  59.745720  5.626475  56.770218  56.770218  5.401886     496\n",
              "497  55.308315  55.308315  5.402687  55.982098  55.982098  5.197157     497\n",
              "498  53.187019  53.187019  5.217278  50.512554  50.512554  5.081299     498\n",
              "499  53.967190  53.967190  5.357416  49.974751  49.974751  5.143750     499"
            ]
          },
          "metadata": {
            "tags": []
          },
          "execution_count": 37
        }
      ]
    },
    {
      "cell_type": "code",
      "metadata": {
        "id": "wVCJMKZbSTQK"
      },
      "source": [
        "predictions1 = model2.predict(test_data)\n",
        "predictions1 = predictions1.flatten()"
      ],
      "execution_count": null,
      "outputs": []
    },
    {
      "cell_type": "code",
      "metadata": {
        "colab": {
          "base_uri": "https://localhost:8080/"
        },
        "id": "r1FS9B1VST1f",
        "outputId": "ea06f62a-7cdd-4c43-a7a9-0029a82d42eb"
      },
      "source": [
        "test1_score = model2.evaluate(test_data, test_labels)"
      ],
      "execution_count": null,
      "outputs": [
        {
          "output_type": "stream",
          "text": [
            "10/10 [==============================] - 0s 1ms/step - loss: 56.3611 - mse: 56.3611 - mae: 5.5574\n"
          ],
          "name": "stdout"
        }
      ]
    },
    {
      "cell_type": "code",
      "metadata": {
        "colab": {
          "base_uri": "https://localhost:8080/"
        },
        "id": "s5X5q80cSUD4",
        "outputId": "a32d0e3e-a333-4966-95d8-becb78d60b3e"
      },
      "source": [
        "print(f\"Loss: {test1_score[0]}\")\n",
        "print(f\"Mean Absolute Error: {test1_score[2]}\")"
      ],
      "execution_count": null,
      "outputs": [
        {
          "output_type": "stream",
          "text": [
            "Loss: 56.36106872558594\n",
            "Mean Absolute Error: 5.557389736175537\n"
          ],
          "name": "stdout"
        }
      ]
    },
    {
      "cell_type": "code",
      "metadata": {
        "colab": {
          "base_uri": "https://localhost:8080/",
          "height": 541
        },
        "id": "rakwArbiSUkZ",
        "outputId": "28d921da-5abd-40b9-e2ec-33b9d70a01b4"
      },
      "source": [
        "\n",
        "# Plotting Loss\n",
        "def history_plot(history):\n",
        "  # For Mean Absolute Error\n",
        "  plt.figure()\n",
        "  plt.xlabel('Epochs')\n",
        "  plt.ylabel('Mean Absolute Error (Concrete Strength)')\n",
        "  plt.plot(history_1_df['epochs'], history_1_df['mae'], label = 'Training MAE')\n",
        "  plt.plot(history_1_df['epochs'], history_1_df['val_mae'], label = 'Validation MAE')\n",
        "  plt.legend()\n",
        "  # For Mean Squared Error\n",
        "  plt.figure()\n",
        "  plt.xlabel('Epochs')\n",
        "  plt.ylabel('Mean Square Error (Concrete Strength)')\n",
        "  plt.plot(history_1_df['epochs'], history_1_df['loss'], label = 'Training Loss')\n",
        "  plt.plot(history_1_df['epochs'], history_1_df['val_mse'], label = 'Validation Loss')\n",
        "  plt.legend()\n",
        "\n",
        "history_plot(history_1_df)"
      ],
      "execution_count": null,
      "outputs": [
        {
          "output_type": "display_data",
          "data": {
            "image/png": "[encoded data removed]",
            "text/plain": [
              "<Figure size 432x288 with 1 Axes>"
            ]
          },
          "metadata": {
            "tags": [],
            "needs_background": "light"
          }
        },
        {
          "output_type": "display_data",
          "data": {
            "image/png": "[encoded data removed]",
            "text/plain": [
              "<Figure size 432x288 with 1 Axes>"
            ]
          },
          "metadata": {
            "tags": [],
            "needs_background": "light"
          }
        }
      ]
    },
    {
      "cell_type": "code",
      "metadata": {
        "colab": {
          "base_uri": "https://localhost:8080/",
          "height": 279
        },
        "id": "ME8xBKkXSU21",
        "outputId": "5b73c769-0476-46c4-8bd1-fb3e01da09d8"
      },
      "source": [
        "plt.scatter(test_labels, predictions1)\n",
        "plt.xlabel('True Value (Concrete Strength)')\n",
        "plt.ylabel('Predictions (Concrete Strength)')\n",
        "plt.axis('equal')\n",
        "plt.axis('square')\n",
        "plt.xlim([0,plt.xlim()[1]])\n",
        "plt.ylim([0,plt.xlim()[1]])\n",
        "_ = plt.plot([-100, 100], [-100, 100])"
      ],
      "execution_count": null,
      "outputs": [
        {
          "output_type": "display_data",
          "data": {
            "image/png": "[encoded data removed]",
            "text/plain": [
              "<Figure size 432x288 with 1 Axes>"
            ]
          },
          "metadata": {
            "tags": [],
            "needs_background": "light"
          }
        }
      ]
    },
    {
      "cell_type": "code",
      "metadata": {
        "colab": {
          "base_uri": "https://localhost:8080/",
          "height": 387
        },
        "id": "CMKwsZR8SVEm",
        "outputId": "1019a14c-dcbe-461e-fc02-ba3c294d0b4b"
      },
      "source": [
        "# Plotting Difference Between Actual Values And Predicted Values\n",
        "fig = plt.figure()\n",
        "sns.distplot((predictions1 - test_labels), bins = 20)\n",
        "fig.suptitle('Error Terms', fontsize = 20)                  # Plot heading \n",
        "plt.xlabel('Errors', fontsize = 18)"
      ],
      "execution_count": null,
      "outputs": [
        {
          "output_type": "stream",
          "text": [
            "/usr/local/lib/python3.7/dist-packages/seaborn/distributions.py:2557: FutureWarning: `distplot` is a deprecated function and will be removed in a future version. Please adapt your code to use either `displot` (a figure-level function with similar flexibility) or `histplot` (an axes-level function for histograms).\n",
            "  warnings.warn(msg, FutureWarning)\n"
          ],
          "name": "stderr"
        },
        {
          "output_type": "execute_result",
          "data": {
            "text/plain": [
              "Text(0.5, 0, 'Errors')"
            ]
          },
          "metadata": {
            "tags": []
          },
          "execution_count": 43
        },
        {
          "output_type": "display_data",
          "data": {
            "image/png": "[encoded data removed]",
            "text/plain": [
              "<Figure size 432x288 with 1 Axes>"
            ]
          },
          "metadata": {
            "tags": [],
            "needs_background": "light"
          }
        }
      ]
    },
    {
      "cell_type": "markdown",
      "metadata": {
        "id": "U91hakxqSo2Y"
      },
      "source": [
        "Buliding Third Model For Overcoming Overfitting"
      ]
    },
    {
      "cell_type": "code",
      "metadata": {
        "id": "he6LH_36Si6N"
      },
      "source": [
        "# Overcoming Overfitting \n",
        "from tensorflow.keras.callbacks import EarlyStopping\n",
        "overcome = EarlyStopping(monitor = 'val_loss', patience = 10)"
      ],
      "execution_count": null,
      "outputs": []
    },
    {
      "cell_type": "code",
      "metadata": {
        "colab": {
          "base_uri": "https://localhost:8080/"
        },
        "id": "AmXUAQHGSrXM",
        "outputId": "f2917208-d83c-4330-de9c-0625b5a4c216"
      },
      "source": [
        "# Building Third Model\n",
        "\n",
        "from tensorflow.keras.models import Sequential\n",
        "model3 = Sequential()\n",
        "model3.add(Dense(64, activation = 'relu', input_shape = [len(train_data.keys())]))\n",
        "model3.add(Dense(64, activation = 'relu'))\n",
        "model3.add(Dense(64, activation = 'sigmoid'))\n",
        "model3.add(Dense(1,))\n",
        "optimizer = tf.keras.optimizers.RMSprop(0.001)\n",
        "model3.compile(optimizer=optimizer, loss='mse', metrics=['mse','mae'])\n",
        "model3.summary()"
      ],
      "execution_count": null,
      "outputs": [
        {
          "output_type": "stream",
          "text": [
            "Model: \"sequential_2\"\n",
            "_________________________________________________________________\n",
            "Layer (type)                 Output Shape              Param #   \n",
            "=================================================================\n",
            "dense_10 (Dense)             (None, 64)                576       \n",
            "_________________________________________________________________\n",
            "dense_11 (Dense)             (None, 64)                4160      \n",
            "_________________________________________________________________\n",
            "dense_12 (Dense)             (None, 64)                4160      \n",
            "_________________________________________________________________\n",
            "dense_13 (Dense)             (None, 1)                 65        \n",
            "=================================================================\n",
            "Total params: 8,961\n",
            "Trainable params: 8,961\n",
            "Non-trainable params: 0\n",
            "_________________________________________________________________\n"
          ],
          "name": "stdout"
        }
      ]
    },
    {
      "cell_type": "code",
      "metadata": {
        "id": "zUUollsXSuoF"
      },
      "source": [
        "history_2 = model3.fit(train_data, train_labels, epochs=100, verbose = 0, validation_split = 0.2)"
      ],
      "execution_count": null,
      "outputs": []
    },
    {
      "cell_type": "code",
      "metadata": {
        "colab": {
          "base_uri": "https://localhost:8080/",
          "height": 204
        },
        "id": "3PVVGp21SxeL",
        "outputId": "26cfe8cb-5578-4a3d-98c9-647024b5de1d"
      },
      "source": [
        "history_2_df = pd.DataFrame(history_2.history)\n",
        "history_2_df['epochs'] = history_2.epoch\n",
        "history_2_df.tail()"
      ],
      "execution_count": null,
      "outputs": [
        {
          "output_type": "execute_result",
          "data": {
            "text/html": [
              "<div>\n",
              "<style scoped>\n",
              "    .dataframe tbody tr th:only-of-type {\n",
              "        vertical-align: middle;\n",
              "    }\n",
              "\n",
              "    .dataframe tbody tr th {\n",
              "        vertical-align: top;\n",
              "    }\n",
              "\n",
              "    .dataframe thead th {\n",
              "        text-align: right;\n",
              "    }\n",
              "</style>\n",
              "<table border=\"1\" class=\"dataframe\">\n",
              "  <thead>\n",
              "    <tr style=\"text-align: right;\">\n",
              "      <th></th>\n",
              "      <th>loss</th>\n",
              "      <th>mse</th>\n",
              "      <th>mae</th>\n",
              "      <th>val_loss</th>\n",
              "      <th>val_mse</th>\n",
              "      <th>val_mae</th>\n",
              "      <th>epochs</th>\n",
              "    </tr>\n",
              "  </thead>\n",
              "  <tbody>\n",
              "    <tr>\n",
              "      <th>95</th>\n",
              "      <td>47.045753</td>\n",
              "      <td>47.045753</td>\n",
              "      <td>5.121304</td>\n",
              "      <td>47.219467</td>\n",
              "      <td>47.219467</td>\n",
              "      <td>5.089785</td>\n",
              "      <td>95</td>\n",
              "    </tr>\n",
              "    <tr>\n",
              "      <th>96</th>\n",
              "      <td>45.710526</td>\n",
              "      <td>45.710526</td>\n",
              "      <td>5.049898</td>\n",
              "      <td>45.284958</td>\n",
              "      <td>45.284958</td>\n",
              "      <td>4.923091</td>\n",
              "      <td>96</td>\n",
              "    </tr>\n",
              "    <tr>\n",
              "      <th>97</th>\n",
              "      <td>43.726467</td>\n",
              "      <td>43.726467</td>\n",
              "      <td>4.966826</td>\n",
              "      <td>45.327816</td>\n",
              "      <td>45.327816</td>\n",
              "      <td>5.016757</td>\n",
              "      <td>97</td>\n",
              "    </tr>\n",
              "    <tr>\n",
              "      <th>98</th>\n",
              "      <td>42.861771</td>\n",
              "      <td>42.861771</td>\n",
              "      <td>4.880636</td>\n",
              "      <td>43.815575</td>\n",
              "      <td>43.815575</td>\n",
              "      <td>5.000598</td>\n",
              "      <td>98</td>\n",
              "    </tr>\n",
              "    <tr>\n",
              "      <th>99</th>\n",
              "      <td>43.274990</td>\n",
              "      <td>43.274990</td>\n",
              "      <td>4.913771</td>\n",
              "      <td>42.918304</td>\n",
              "      <td>42.918304</td>\n",
              "      <td>4.973936</td>\n",
              "      <td>99</td>\n",
              "    </tr>\n",
              "  </tbody>\n",
              "</table>\n",
              "</div>"
            ],
            "text/plain": [
              "         loss        mse       mae   val_loss    val_mse   val_mae  epochs\n",
              "95  47.045753  47.045753  5.121304  47.219467  47.219467  5.089785      95\n",
              "96  45.710526  45.710526  5.049898  45.284958  45.284958  4.923091      96\n",
              "97  43.726467  43.726467  4.966826  45.327816  45.327816  5.016757      97\n",
              "98  42.861771  42.861771  4.880636  43.815575  43.815575  5.000598      98\n",
              "99  43.274990  43.274990  4.913771  42.918304  42.918304  4.973936      99"
            ]
          },
          "metadata": {
            "tags": []
          },
          "execution_count": 47
        }
      ]
    },
    {
      "cell_type": "code",
      "metadata": {
        "colab": {
          "base_uri": "https://localhost:8080/",
          "height": 542
        },
        "id": "PemyoraZS0Av",
        "outputId": "1f4a812e-a222-43bb-9bd0-52faf3df6230"
      },
      "source": [
        "# Plotting Validation Loss After Overcoming Overfitting\n",
        "# Plotting Loss\n",
        "def history_plot(history):\n",
        "  # For Mean Absolute Error\n",
        "  plt.figure()\n",
        "  plt.xlabel('Epochs')\n",
        "  plt.ylabel('Mean Absolute Error (Concrete Strength)')\n",
        "  plt.plot(history_2_df['epochs'], history_2_df['mae'], label = 'Training MAE')\n",
        "  plt.plot(history_2_df['epochs'], history_2_df['val_mae'], label = 'Validation MAE')\n",
        "  plt.legend()\n",
        "  # For Mean Squared Error\n",
        "  plt.figure()\n",
        "  plt.xlabel('Epochs')\n",
        "  plt.ylabel('Mean Square Error (Concrete Strength)')\n",
        "  plt.plot(history_2_df['epochs'], history_2_df['loss'], label = 'Training Loss')\n",
        "  plt.plot(history_2_df['epochs'], history_2_df['val_mse'], label = 'Validation Loss')\n",
        "  plt.legend()\n",
        "\n",
        "history_plot(history_2_df)"
      ],
      "execution_count": null,
      "outputs": [
        {
          "output_type": "display_data",
          "data": {
            "image/png": "[encoded data removed]",
            "text/plain": [
              "<Figure size 432x288 with 1 Axes>"
            ]
          },
          "metadata": {
            "tags": [],
            "needs_background": "light"
          }
        },
        {
          "output_type": "display_data",
          "data": {
            "image/png": "[encoded data removed]",
            "text/plain": [
              "<Figure size 432x288 with 1 Axes>"
            ]
          },
          "metadata": {
            "tags": [],
            "needs_background": "light"
          }
        }
      ]
    },
    {
      "cell_type": "code",
      "metadata": {
        "id": "ZXIPVNLXS0fr"
      },
      "source": [
        "predictions3 = model3.predict(test_data)\n",
        "predictions3 = predictions3.flatten()"
      ],
      "execution_count": null,
      "outputs": []
    },
    {
      "cell_type": "code",
      "metadata": {
        "colab": {
          "base_uri": "https://localhost:8080/"
        },
        "id": "NlBVB4z7S011",
        "outputId": "932e5d76-6458-44d0-8284-aa1b62db8d72"
      },
      "source": [
        "print(predictions3.shape)\n",
        "print(test_labels.shape)"
      ],
      "execution_count": null,
      "outputs": [
        {
          "output_type": "stream",
          "text": [
            "(309,)\n",
            "(309,)\n"
          ],
          "name": "stdout"
        }
      ]
    },
    {
      "cell_type": "code",
      "metadata": {
        "colab": {
          "base_uri": "https://localhost:8080/"
        },
        "id": "w0dBBBe5S89P",
        "outputId": "cb6ef9c1-cf33-4e27-94cc-cf794a781162"
      },
      "source": [
        "test2_score  = model3.evaluate(test_data, test_labels)"
      ],
      "execution_count": null,
      "outputs": [
        {
          "output_type": "stream",
          "text": [
            "10/10 [==============================] - 0s 1ms/step - loss: 46.5951 - mse: 46.5951 - mae: 5.2359\n"
          ],
          "name": "stdout"
        }
      ]
    },
    {
      "cell_type": "code",
      "metadata": {
        "colab": {
          "base_uri": "https://localhost:8080/"
        },
        "id": "bSBiW6f9TAwq",
        "outputId": "a5cc4122-ebe3-4984-bd2b-73883ff20a3f"
      },
      "source": [
        "print(f\"Loss: {test2_score[0]}\")\n",
        "print(f\"Mean Absolute Error: {test2_score[2]}\")"
      ],
      "execution_count": null,
      "outputs": [
        {
          "output_type": "stream",
          "text": [
            "Loss: 46.59514236450195\n",
            "Mean Absolute Error: 5.2358551025390625\n"
          ],
          "name": "stdout"
        }
      ]
    },
    {
      "cell_type": "code",
      "metadata": {
        "colab": {
          "base_uri": "https://localhost:8080/",
          "height": 279
        },
        "id": "l6rIQJQWTCen",
        "outputId": "920d228b-7b38-468a-8af2-0463dfdfb2e9"
      },
      "source": [
        "plt.scatter(test_labels, predictions3)\n",
        "plt.xlabel('True Value (Concrete Strength)')\n",
        "plt.ylabel('Predictions (Concrete Strength)')\n",
        "plt.axis('equal')\n",
        "plt.axis('square')\n",
        "plt.xlim([0,plt.xlim()[1]])\n",
        "plt.ylim([0,plt.xlim()[1]])\n",
        "_ = plt.plot([-100, 100], [-100, 100])"
      ],
      "execution_count": null,
      "outputs": [
        {
          "output_type": "display_data",
          "data": {
            "image/png": "[encoded data removed]",
            "text/plain": [
              "<Figure size 432x288 with 1 Axes>"
            ]
          },
          "metadata": {
            "tags": [],
            "needs_background": "light"
          }
        }
      ]
    },
    {
      "cell_type": "code",
      "metadata": {
        "colab": {
          "base_uri": "https://localhost:8080/",
          "height": 387
        },
        "id": "0lJqduEmTF7c",
        "outputId": "f3130098-c163-40c1-b79b-8bfe8acfb981"
      },
      "source": [
        "# Plotting Difference Between Actual Values And Predicted Values\n",
        "fig = plt.figure()\n",
        "sns.distplot((predictions3 - test_labels), bins = 20)\n",
        "fig.suptitle('Error Terms', fontsize = 20)                  # Plot heading \n",
        "plt.xlabel('Errors', fontsize = 18)"
      ],
      "execution_count": null,
      "outputs": [
        {
          "output_type": "stream",
          "text": [
            "/usr/local/lib/python3.7/dist-packages/seaborn/distributions.py:2557: FutureWarning: `distplot` is a deprecated function and will be removed in a future version. Please adapt your code to use either `displot` (a figure-level function with similar flexibility) or `histplot` (an axes-level function for histograms).\n",
            "  warnings.warn(msg, FutureWarning)\n"
          ],
          "name": "stderr"
        },
        {
          "output_type": "execute_result",
          "data": {
            "text/plain": [
              "Text(0.5, 0, 'Errors')"
            ]
          },
          "metadata": {
            "tags": []
          },
          "execution_count": 54
        },
        {
          "output_type": "display_data",
          "data": {
            "image/png": "[encoded data removed]",
            "text/plain": [
              "<Figure size 432x288 with 1 Axes>"
            ]
          },
          "metadata": {
            "tags": [],
            "needs_background": "light"
          }
        }
      ]
    },
    {
      "cell_type": "markdown",
      "metadata": {
        "id": "B4B8uvofTU_l"
      },
      "source": [
        "Final Loss: 32.794 <br>\n",
        "Final Mean Absolute Error: 4.061"
      ]
    },
    {
      "cell_type": "code",
      "metadata": {
        "id": "Xd9JyN0kTJd9"
      },
      "source": [
        "# Saving Appropriate Model\n",
        "model3.save('ConcreteStrengthModel.h5')"
      ],
      "execution_count": null,
      "outputs": []
    },
    {
      "cell_type": "code",
      "metadata": {
        "colab": {
          "base_uri": "https://localhost:8080/",
          "height": 34
        },
        "id": "xkGgYu8ITVwU",
        "outputId": "8e020de6-f22b-4da2-e01c-8729b6588145"
      },
      "source": [
        "# Saving Model In CSV File\n",
        "from google.colab import files\n",
        "df.to_csv('Concrete_Strength_Assignment.csv', index=False)\n",
        "files.download('Concrete_Strength_Assignment.csv')\n",
        "print(\"Your File Was Saved Successfully!\")"
      ],
      "execution_count": null,
      "outputs": [
        {
          "output_type": "display_data",
          "data": {
            "application/javascript": [
              "\n",
              "    async function download(id, filename, size) {\n",
              "      if (!google.colab.kernel.accessAllowed) {\n",
              "        return;\n",
              "      }\n",
              "      const div = document.createElement('div');\n",
              "      const label = document.createElement('label');\n",
              "      label.textContent = `Downloading \"${filename}\": `;\n",
              "      div.appendChild(label);\n",
              "      const progress = document.createElement('progress');\n",
              "      progress.max = size;\n",
              "      div.appendChild(progress);\n",
              "      document.body.appendChild(div);\n",
              "\n",
              "      const buffers = [];\n",
              "      let downloaded = 0;\n",
              "\n",
              "      const channel = await google.colab.kernel.comms.open(id);\n",
              "      // Send a message to notify the kernel that we're ready.\n",
              "      channel.send({})\n",
              "\n",
              "      for await (const message of channel.messages) {\n",
              "        // Send a message to notify the kernel that we're ready.\n",
              "        channel.send({})\n",
              "        if (message.buffers) {\n",
              "          for (const buffer of message.buffers) {\n",
              "            buffers.push(buffer);\n",
              "            downloaded += buffer.byteLength;\n",
              "            progress.value = downloaded;\n",
              "          }\n",
              "        }\n",
              "      }\n",
              "      const blob = new Blob(buffers, {type: 'application/binary'});\n",
              "      const a = document.createElement('a');\n",
              "      a.href = window.URL.createObjectURL(blob);\n",
              "      a.download = filename;\n",
              "      div.appendChild(a);\n",
              "      a.click();\n",
              "      div.remove();\n",
              "    }\n",
              "  "
            ],
            "text/plain": [
              "<IPython.core.display.Javascript object>"
            ]
          },
          "metadata": {
            "tags": []
          }
        },
        {
          "output_type": "display_data",
          "data": {
            "application/javascript": [
              "download(\"download_17d40b30-d031-43b4-8ed7-42304422aab6\", \"Concrete_Strength_Assignment.csv\", 48491)"
            ],
            "text/plain": [
              "<IPython.core.display.Javascript object>"
            ]
          },
          "metadata": {
            "tags": []
          }
        },
        {
          "output_type": "stream",
          "text": [
            "Your File Was Saved Successfully!\n"
          ],
          "name": "stdout"
        }
      ]
    },
    {
      "cell_type": "code",
      "metadata": {
        "id": "VRPo-zvTTbKI"
      },
      "source": [
        ""
      ],
      "execution_count": null,
      "outputs": []
    }
  ]
}