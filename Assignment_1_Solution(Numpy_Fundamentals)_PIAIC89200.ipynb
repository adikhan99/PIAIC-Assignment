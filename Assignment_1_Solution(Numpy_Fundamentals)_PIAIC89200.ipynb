{
  "nbformat": 4,
  "nbformat_minor": 0,
  "metadata": {
    "colab": {
      "name": "Assignment#1 Solution(Numpy Fundamentals) PIAIC89200.ipynb",
      "provenance": [],
      "collapsed_sections": []
    },
    "kernelspec": {
      "display_name": "Python 3",
      "language": "python",
      "name": "python3"
    },
    "language_info": {
      "codemirror_mode": {
        "name": "ipython",
        "version": 3
      },
      "file_extension": ".py",
      "mimetype": "text/x-python",
      "name": "python",
      "nbconvert_exporter": "python",
      "pygments_lexer": "ipython3",
      "version": "3.7.4"
    }
  },
  "cells": [
    {
      "cell_type": "markdown",
      "metadata": {
        "id": "NgUeapcvmIRh"
      },
      "source": [
        "# **Assignment For Numpy**"
      ]
    },
    {
      "cell_type": "markdown",
      "metadata": {
        "id": "yhr3JicwnA-4"
      },
      "source": [
        "Difficulty Level **Beginner**"
      ]
    },
    {
      "cell_type": "markdown",
      "metadata": {
        "id": "hVPqDJ1SnKSh"
      },
      "source": [
        "1. Import the numpy package under the name np"
      ]
    },
    {
      "cell_type": "code",
      "metadata": {
        "id": "SePu31zKmgS-"
      },
      "source": [
        "import numpy as np"
      ],
      "execution_count": 2,
      "outputs": []
    },
    {
      "cell_type": "markdown",
      "metadata": {
        "id": "d0gO81krnL7g"
      },
      "source": [
        "2. Create a null vector of size 10 "
      ]
    },
    {
      "cell_type": "code",
      "metadata": {
        "id": "2s6o2JPgnSBr",
        "colab": {
          "base_uri": "https://localhost:8080/"
        },
        "outputId": "f5df2ac2-a423-4a61-e81e-21a5eab4d088"
      },
      "source": [
        "x=np.zeros(10)\r\n",
        "x\r\n"
      ],
      "execution_count": 3,
      "outputs": [
        {
          "output_type": "execute_result",
          "data": {
            "text/plain": [
              "array([0., 0., 0., 0., 0., 0., 0., 0., 0., 0.])"
            ]
          },
          "metadata": {
            "tags": []
          },
          "execution_count": 3
        }
      ]
    },
    {
      "cell_type": "markdown",
      "metadata": {
        "id": "BJTMK03fnS1w"
      },
      "source": [
        "3. Create a vector with values ranging from 10 to 49"
      ]
    },
    {
      "cell_type": "code",
      "metadata": {
        "id": "qRXxXuWdnj1M",
        "colab": {
          "base_uri": "https://localhost:8080/"
        },
        "outputId": "b0383d53-7dce-4d24-8eae-087a7c7d3db3"
      },
      "source": [
        "v1=np.arange(10,50)\r\n",
        "v1"
      ],
      "execution_count": 4,
      "outputs": [
        {
          "output_type": "execute_result",
          "data": {
            "text/plain": [
              "array([10, 11, 12, 13, 14, 15, 16, 17, 18, 19, 20, 21, 22, 23, 24, 25, 26,\n",
              "       27, 28, 29, 30, 31, 32, 33, 34, 35, 36, 37, 38, 39, 40, 41, 42, 43,\n",
              "       44, 45, 46, 47, 48, 49])"
            ]
          },
          "metadata": {
            "tags": []
          },
          "execution_count": 4
        }
      ]
    },
    {
      "cell_type": "markdown",
      "metadata": {
        "id": "n63lzg5Onkcn"
      },
      "source": [
        "4. Find the shape of previous array in question 3"
      ]
    },
    {
      "cell_type": "code",
      "metadata": {
        "id": "1FueBdqPn_q7",
        "colab": {
          "base_uri": "https://localhost:8080/"
        },
        "outputId": "2622ac38-d4bc-41f0-9c37-d4201b0730cf"
      },
      "source": [
        "v1.shape\r\n"
      ],
      "execution_count": 5,
      "outputs": [
        {
          "output_type": "execute_result",
          "data": {
            "text/plain": [
              "(40,)"
            ]
          },
          "metadata": {
            "tags": []
          },
          "execution_count": 5
        }
      ]
    },
    {
      "cell_type": "markdown",
      "metadata": {
        "id": "AzMlQj1MoAVe"
      },
      "source": [
        "5. Print the type of the previous array in question 3"
      ]
    },
    {
      "cell_type": "code",
      "metadata": {
        "id": "AO9PYmdWoE1L",
        "colab": {
          "base_uri": "https://localhost:8080/"
        },
        "outputId": "418c31b4-b2b1-4a5d-8602-672a8902108b"
      },
      "source": [
        "print(type(v1))"
      ],
      "execution_count": 6,
      "outputs": [
        {
          "output_type": "stream",
          "text": [
            "<class 'numpy.ndarray'>\n"
          ],
          "name": "stdout"
        }
      ]
    },
    {
      "cell_type": "markdown",
      "metadata": {
        "id": "0qaKS13Yon-U"
      },
      "source": [
        "6. Print the numpy version and the configuration\n"
      ]
    },
    {
      "cell_type": "code",
      "metadata": {
        "id": "T3wY24e1oorh",
        "colab": {
          "base_uri": "https://localhost:8080/"
        },
        "outputId": "e19936c1-e835-438f-b807-f0c7e1294889"
      },
      "source": [
        "print(np.__version__)"
      ],
      "execution_count": 7,
      "outputs": [
        {
          "output_type": "stream",
          "text": [
            "1.19.4\n"
          ],
          "name": "stdout"
        }
      ]
    },
    {
      "cell_type": "markdown",
      "metadata": {
        "id": "ZyUUiQf5oyvE"
      },
      "source": [
        "7. Print the dimension of the array in question 3\n"
      ]
    },
    {
      "cell_type": "code",
      "metadata": {
        "id": "pLXfuIqIo0vq",
        "colab": {
          "base_uri": "https://localhost:8080/"
        },
        "outputId": "c1e9fc4c-ff73-4b2a-dbda-73164b81b43f"
      },
      "source": [
        "v1.ndim"
      ],
      "execution_count": 8,
      "outputs": [
        {
          "output_type": "execute_result",
          "data": {
            "text/plain": [
              "1"
            ]
          },
          "metadata": {
            "tags": []
          },
          "execution_count": 8
        }
      ]
    },
    {
      "cell_type": "markdown",
      "metadata": {
        "id": "JYVMuFrqpBdV"
      },
      "source": [
        "8. Create a boolean array with all the True values"
      ]
    },
    {
      "cell_type": "code",
      "metadata": {
        "id": "3apZsISzpFKR",
        "colab": {
          "base_uri": "https://localhost:8080/"
        },
        "outputId": "bfa5a667-a7a0-4daa-ef21-e1160c2c081e"
      },
      "source": [
        "Boolean_array=np.array(True)\r\n",
        "Boolean_array"
      ],
      "execution_count": 9,
      "outputs": [
        {
          "output_type": "execute_result",
          "data": {
            "text/plain": [
              "array(True)"
            ]
          },
          "metadata": {
            "tags": []
          },
          "execution_count": 9
        }
      ]
    },
    {
      "cell_type": "markdown",
      "metadata": {
        "id": "4zbBooWZpPBU"
      },
      "source": [
        "9. Create a two dimensional array\n",
        "\n",
        "\n"
      ]
    },
    {
      "cell_type": "code",
      "metadata": {
        "id": "KfPQEiVIpdTo",
        "colab": {
          "base_uri": "https://localhost:8080/"
        },
        "outputId": "3b55a663-176d-4faf-b386-199c4a1ac95b"
      },
      "source": [
        "two_dim=np.arange(12).reshape((3, 4))\r\n",
        "np.array(two_dim)"
      ],
      "execution_count": 10,
      "outputs": [
        {
          "output_type": "execute_result",
          "data": {
            "text/plain": [
              "array([[ 0,  1,  2,  3],\n",
              "       [ 4,  5,  6,  7],\n",
              "       [ 8,  9, 10, 11]])"
            ]
          },
          "metadata": {
            "tags": []
          },
          "execution_count": 10
        }
      ]
    },
    {
      "cell_type": "markdown",
      "metadata": {
        "id": "do9wPAFbpqC7"
      },
      "source": [
        "10. Create a three dimensional array\n",
        "\n"
      ]
    },
    {
      "cell_type": "code",
      "metadata": {
        "id": "ZCO_q-KZqAeW",
        "colab": {
          "base_uri": "https://localhost:8080/"
        },
        "outputId": "23cc9767-953a-48ba-a462-03b01479bc8c"
      },
      "source": [
        "three_dim=np.arange(24).reshape((2, 3, 4))\r\n",
        "three_dim"
      ],
      "execution_count": 11,
      "outputs": [
        {
          "output_type": "execute_result",
          "data": {
            "text/plain": [
              "array([[[ 0,  1,  2,  3],\n",
              "        [ 4,  5,  6,  7],\n",
              "        [ 8,  9, 10, 11]],\n",
              "\n",
              "       [[12, 13, 14, 15],\n",
              "        [16, 17, 18, 19],\n",
              "        [20, 21, 22, 23]]])"
            ]
          },
          "metadata": {
            "tags": []
          },
          "execution_count": 11
        }
      ]
    },
    {
      "cell_type": "markdown",
      "metadata": {
        "id": "a4iysJ87qEeb"
      },
      "source": [
        "Difficulty Level **Easy**"
      ]
    },
    {
      "cell_type": "markdown",
      "metadata": {
        "id": "DehgqszSqjY6"
      },
      "source": [
        "11. Reverse a vector (first element becomes last)"
      ]
    },
    {
      "cell_type": "code",
      "metadata": {
        "id": "tfevmc4VqkWu",
        "colab": {
          "base_uri": "https://localhost:8080/"
        },
        "outputId": "f3e9cad8-aa51-4577-943f-ca6dff3cea98"
      },
      "source": [
        "v1\r\n",
        "print(v1)\r\n",
        "print(np.flip(v1))"
      ],
      "execution_count": 12,
      "outputs": [
        {
          "output_type": "stream",
          "text": [
            "[10 11 12 13 14 15 16 17 18 19 20 21 22 23 24 25 26 27 28 29 30 31 32 33\n",
            " 34 35 36 37 38 39 40 41 42 43 44 45 46 47 48 49]\n",
            "[49 48 47 46 45 44 43 42 41 40 39 38 37 36 35 34 33 32 31 30 29 28 27 26\n",
            " 25 24 23 22 21 20 19 18 17 16 15 14 13 12 11 10]\n"
          ],
          "name": "stdout"
        }
      ]
    },
    {
      "cell_type": "markdown",
      "metadata": {
        "id": "yoATXS-qqk_q"
      },
      "source": [
        "12. Create a null vector of size 10 but the fifth value which is 1 "
      ]
    },
    {
      "cell_type": "code",
      "metadata": {
        "id": "AheZ32Owqpte",
        "colab": {
          "base_uri": "https://localhost:8080/"
        },
        "outputId": "0cc73631-2aab-486b-cac8-9232e6064c33"
      },
      "source": [
        "x[4]=1\r\n",
        "print(x)\r\n"
      ],
      "execution_count": 13,
      "outputs": [
        {
          "output_type": "stream",
          "text": [
            "[0. 0. 0. 0. 1. 0. 0. 0. 0. 0.]\n"
          ],
          "name": "stdout"
        }
      ]
    },
    {
      "cell_type": "markdown",
      "metadata": {
        "id": "RZRzOBbFsY0w"
      },
      "source": [
        "13. Create a 3x3 identity matrix"
      ]
    },
    {
      "cell_type": "code",
      "metadata": {
        "id": "va2ou0BHsvEj",
        "colab": {
          "base_uri": "https://localhost:8080/"
        },
        "outputId": "2c856033-5898-4545-8615-cc220979eb7a"
      },
      "source": [
        "ide=np.eye(3)\r\n",
        "ide"
      ],
      "execution_count": 14,
      "outputs": [
        {
          "output_type": "execute_result",
          "data": {
            "text/plain": [
              "array([[1., 0., 0.],\n",
              "       [0., 1., 0.],\n",
              "       [0., 0., 1.]])"
            ]
          },
          "metadata": {
            "tags": []
          },
          "execution_count": 14
        }
      ]
    },
    {
      "cell_type": "markdown",
      "metadata": {
        "id": "lnN5drkUs6o2"
      },
      "source": [
        "14. arr = np.array([1, 2, 3, 4, 5]) \n",
        "\n",
        "---\n",
        "\n",
        " Convert the data type of the given array from int to float "
      ]
    },
    {
      "cell_type": "code",
      "metadata": {
        "id": "59EIQt6otKUB",
        "colab": {
          "base_uri": "https://localhost:8080/"
        },
        "outputId": "7eda5418-0edc-43fe-8faa-e45ae78407b8"
      },
      "source": [
        "arr = np.array([1, 2, 3, 4, 5])\r\n",
        "arr = arr.astype('float64') \r\n",
        "print(arr)\r\n",
        "print(arr.dtype) "
      ],
      "execution_count": 15,
      "outputs": [
        {
          "output_type": "stream",
          "text": [
            "[1. 2. 3. 4. 5.]\n",
            "float64\n"
          ],
          "name": "stdout"
        }
      ]
    },
    {
      "cell_type": "markdown",
      "metadata": {
        "id": "fSL2AKJetTes"
      },
      "source": [
        "15. arr1 =          np.array([[1., 2., 3.],\n",
        "\n",
        "                    [4., 5., 6.]])  \n",
        "                      \n",
        "    arr2 = np.array([[0., 4., 1.],\n",
        "     \n",
        "                   [7., 2., 12.]])\n",
        "\n",
        "---\n",
        "\n",
        "\n",
        "Multiply arr1 with arr2\n"
      ]
    },
    {
      "cell_type": "code",
      "metadata": {
        "colab": {
          "base_uri": "https://localhost:8080/"
        },
        "id": "wCDUiH-nV9yu",
        "outputId": "1b3268c1-a110-4eac-8f9a-c2e81d3b5677"
      },
      "source": [
        "arr1 = np.array([[1., 2., 3.],\r\n",
        "\r\n",
        "            [4., 5., 6.]])  \r\n",
        "arr2 = np.array([[0., 4., 1.],\r\n",
        "\r\n",
        "           [7., 2., 12.]])\r\n",
        "product=arr1*arr2\r\n",
        "print(product)"
      ],
      "execution_count": 16,
      "outputs": [
        {
          "output_type": "stream",
          "text": [
            "[[ 0.  8.  3.]\n",
            " [28. 10. 72.]]\n"
          ],
          "name": "stdout"
        }
      ]
    },
    {
      "cell_type": "code",
      "metadata": {
        "id": "7VDXgRQDuJNV"
      },
      "source": [
        ""
      ],
      "execution_count": 16,
      "outputs": []
    },
    {
      "cell_type": "markdown",
      "metadata": {
        "id": "a8yJ438-uKni"
      },
      "source": [
        "16. arr1 = np.array([[1., 2., 3.],\n",
        "                    [4., 5., 6.]]) \n",
        "                    \n",
        "    arr2 = np.array([[0., 4., 1.], \n",
        "                    [7., 2., 12.]])\n",
        "\n",
        "\n",
        "---\n",
        "\n",
        "Make an array by comparing both the arrays provided above"
      ]
    },
    {
      "cell_type": "code",
      "metadata": {
        "id": "3MPDaAlYueF3",
        "colab": {
          "base_uri": "https://localhost:8080/"
        },
        "outputId": "59c7fc10-ab6c-470b-8490-cdb605b31df0"
      },
      "source": [
        "arr1 = np.array([[1., 2., 3.],\r\n",
        "\r\n",
        "            [4., 5., 6.]]) \r\n",
        "arr2 = np.array([[0., 4., 1.],\r\n",
        "\r\n",
        "            [7., 2., 12.]])\r\n",
        "arr3=arr1==arr2\r\n",
        "arr3"
      ],
      "execution_count": 17,
      "outputs": [
        {
          "output_type": "execute_result",
          "data": {
            "text/plain": [
              "array([[False, False, False],\n",
              "       [False, False, False]])"
            ]
          },
          "metadata": {
            "tags": []
          },
          "execution_count": 17
        }
      ]
    },
    {
      "cell_type": "markdown",
      "metadata": {
        "id": "3xiD0eJluewk"
      },
      "source": [
        "17. Extract all odd numbers from arr with values(0-9)"
      ]
    },
    {
      "cell_type": "code",
      "metadata": {
        "id": "J_qbt_EuvM7l",
        "colab": {
          "base_uri": "https://localhost:8080/"
        },
        "outputId": "930f5716-13a0-44bb-ec8c-f2541455eeae"
      },
      "source": [
        "odd=np.arange(0,9)\r\n",
        "print(odd[odd % 2 == 1])\r\n"
      ],
      "execution_count": 18,
      "outputs": [
        {
          "output_type": "stream",
          "text": [
            "[1 3 5 7]\n"
          ],
          "name": "stdout"
        }
      ]
    },
    {
      "cell_type": "markdown",
      "metadata": {
        "id": "zpg5cyLsvPoZ"
      },
      "source": [
        "18. Replace all odd numbers to -1 from previous array"
      ]
    },
    {
      "cell_type": "code",
      "metadata": {
        "id": "rXUV1-ULvQdd",
        "colab": {
          "base_uri": "https://localhost:8080/"
        },
        "outputId": "94b3a721-5228-4222-91ee-10766758af7b"
      },
      "source": [
        "odd=np.arange(0,9)\r\n",
        "odd_no=(odd % 2 == 1)\r\n",
        "odd[odd_no]=-1\r\n",
        "odd\r\n",
        "\r\n",
        "\r\n"
      ],
      "execution_count": 19,
      "outputs": [
        {
          "output_type": "execute_result",
          "data": {
            "text/plain": [
              "array([ 0, -1,  2, -1,  4, -1,  6, -1,  8])"
            ]
          },
          "metadata": {
            "tags": []
          },
          "execution_count": 19
        }
      ]
    },
    {
      "cell_type": "markdown",
      "metadata": {
        "id": "FWpHTWTDvjvi"
      },
      "source": [
        "19. arr = np.arange(10)\n",
        "\n",
        "\n",
        "---\n",
        "\n",
        "Replace the values of indexes 5,6,7 and 8 to **12**"
      ]
    },
    {
      "cell_type": "code",
      "metadata": {
        "id": "ensZ3lqwvlSb",
        "colab": {
          "base_uri": "https://localhost:8080/"
        },
        "outputId": "0dc9ee4c-ef94-4481-8388-503e3e55628f"
      },
      "source": [
        "arr = np.arange(10)\r\n",
        "arr[5:9]=12\r\n",
        "arr"
      ],
      "execution_count": 20,
      "outputs": [
        {
          "output_type": "execute_result",
          "data": {
            "text/plain": [
              "array([ 0,  1,  2,  3,  4, 12, 12, 12, 12,  9])"
            ]
          },
          "metadata": {
            "tags": []
          },
          "execution_count": 20
        }
      ]
    },
    {
      "cell_type": "markdown",
      "metadata": {
        "id": "ib-vBffAv0zy"
      },
      "source": [
        "20. Create a 2d array with 1 on the border and 0 inside"
      ]
    },
    {
      "cell_type": "code",
      "metadata": {
        "id": "RmzcjNYrwDrM",
        "colab": {
          "base_uri": "https://localhost:8080/"
        },
        "outputId": "d37cba77-7841-4d7b-99ec-57aad8a62439"
      },
      "source": [
        "x = np.ones((3,3))\r\n",
        "print(x)\r\n",
        "x[1:-1,1:-1] = 0\r\n",
        "print(x)"
      ],
      "execution_count": 21,
      "outputs": [
        {
          "output_type": "stream",
          "text": [
            "[[1. 1. 1.]\n",
            " [1. 1. 1.]\n",
            " [1. 1. 1.]]\n",
            "[[1. 1. 1.]\n",
            " [1. 0. 1.]\n",
            " [1. 1. 1.]]\n"
          ],
          "name": "stdout"
        }
      ]
    },
    {
      "cell_type": "markdown",
      "metadata": {
        "id": "E1diIFSEwEmh"
      },
      "source": [
        "Difficulty Level **Medium**"
      ]
    },
    {
      "cell_type": "markdown",
      "metadata": {
        "id": "eGLZmNb_wKb4"
      },
      "source": [
        "21. arr2d = np.array([[1, 2, 3],\n",
        "\n",
        "                    [4, 5, 6], \n",
        "\n",
        "                    [7, 8, 9]])\n",
        "\n",
        "---\n",
        "\n",
        "Replace the value 5 to 12"
      ]
    },
    {
      "cell_type": "code",
      "metadata": {
        "id": "VdUnsUOZwJFz",
        "colab": {
          "base_uri": "https://localhost:8080/"
        },
        "outputId": "dc1890df-14b3-4a7e-d65b-ab8b0787574f"
      },
      "source": [
        "arr2d = np.array([[1, 2, 3],\r\n",
        "\r\n",
        "            [4, 5, 6], \r\n",
        " \r\n",
        "            [7, 8, 9]])\r\n",
        "arr2d[1,1]=12\r\n",
        "arr2d"
      ],
      "execution_count": 22,
      "outputs": [
        {
          "output_type": "execute_result",
          "data": {
            "text/plain": [
              "array([[ 1,  2,  3],\n",
              "       [ 4, 12,  6],\n",
              "       [ 7,  8,  9]])"
            ]
          },
          "metadata": {
            "tags": []
          },
          "execution_count": 22
        }
      ]
    },
    {
      "cell_type": "markdown",
      "metadata": {
        "id": "TEbFhlPZxaKO"
      },
      "source": [
        "22. arr3d = np.array([[[1, 2, 3], [4, 5, 6]], [[7, 8, 9], [10, 11, 12]]])\n",
        "\n",
        "---\n",
        "Convert all the values of 1st array to 64\n"
      ]
    },
    {
      "cell_type": "code",
      "metadata": {
        "id": "eYzephU8xmsg",
        "colab": {
          "base_uri": "https://localhost:8080/"
        },
        "outputId": "126a90bc-3612-4f84-be22-dfae51f690be"
      },
      "source": [
        "arr3d = np.array([[[1, 2, 3], [4, 5, 6]], [[7, 8, 9], [10, 11, 12]]])\r\n",
        "arr3d[0:1,0:1]=64\r\n",
        "arr3d"
      ],
      "execution_count": 23,
      "outputs": [
        {
          "output_type": "execute_result",
          "data": {
            "text/plain": [
              "array([[[64, 64, 64],\n",
              "        [ 4,  5,  6]],\n",
              "\n",
              "       [[ 7,  8,  9],\n",
              "        [10, 11, 12]]])"
            ]
          },
          "metadata": {
            "tags": []
          },
          "execution_count": 23
        }
      ]
    },
    {
      "cell_type": "markdown",
      "metadata": {
        "id": "vZj0Ndvnx6f0"
      },
      "source": [
        "23. Make a 2-Dimensional array with values 0-9 and slice out the first 1st 1-D array from it"
      ]
    },
    {
      "cell_type": "code",
      "metadata": {
        "id": "pM4e9YfdyHSv",
        "colab": {
          "base_uri": "https://localhost:8080/"
        },
        "outputId": "09868696-7bdb-40c6-bf53-0475150a3cd5"
      },
      "source": [
        "arr2d = np.arange(9).reshape(3,3)\r\n",
        "print(arr2d)\r\n",
        "arr_slice=arr2d[0:1,0:3]\r\n",
        "print(\"first 1st 1-D array \")\r\n",
        "print(arr_slice)"
      ],
      "execution_count": 24,
      "outputs": [
        {
          "output_type": "stream",
          "text": [
            "[[0 1 2]\n",
            " [3 4 5]\n",
            " [6 7 8]]\n",
            "first 1st 1-D array \n",
            "[[0 1 2]]\n"
          ],
          "name": "stdout"
        }
      ]
    },
    {
      "cell_type": "markdown",
      "metadata": {
        "id": "C3dkW0lZyVps"
      },
      "source": [
        "24. Make a 2-Dimensional array with values 0-9 and slice out the 2nd value from 2nd 1-D array from it"
      ]
    },
    {
      "cell_type": "code",
      "metadata": {
        "id": "IrrzK2xgygqV",
        "colab": {
          "base_uri": "https://localhost:8080/"
        },
        "outputId": "374473b0-628c-4b5c-9bd7-65eb4b0e59ea"
      },
      "source": [
        "arr2d = np.arange(9).reshape(3,3)\r\n",
        "print(arr2d)\r\n",
        "arr_slice=arr2d[1:2,1:2]\r\n",
        "print(\"2nd value from 2nd 1-D array\")\r\n",
        "arr_slice"
      ],
      "execution_count": 25,
      "outputs": [
        {
          "output_type": "stream",
          "text": [
            "[[0 1 2]\n",
            " [3 4 5]\n",
            " [6 7 8]]\n",
            "2nd value from 2nd 1-D array\n"
          ],
          "name": "stdout"
        },
        {
          "output_type": "execute_result",
          "data": {
            "text/plain": [
              "array([[4]])"
            ]
          },
          "metadata": {
            "tags": []
          },
          "execution_count": 25
        }
      ]
    },
    {
      "cell_type": "markdown",
      "metadata": {
        "id": "G3dLwOO9yyrE"
      },
      "source": [
        "25. Make a 2-Dimensional array with values 0-9 and slice out the third column but only the first two rows"
      ]
    },
    {
      "cell_type": "code",
      "metadata": {
        "id": "5Bx4fqsLyqGD",
        "colab": {
          "base_uri": "https://localhost:8080/"
        },
        "outputId": "924feac1-ae41-44ad-b1c2-ecb6496ce824"
      },
      "source": [
        "arr2d = np.arange(9).reshape(3,3)\r\n",
        "print(arr2d)\r\n",
        "arr_slice=arr2d[0:2,2:]\r\n",
        "print(\"2nd value from 2nd 1-D array\")\r\n",
        "arr_slice"
      ],
      "execution_count": 26,
      "outputs": [
        {
          "output_type": "stream",
          "text": [
            "[[0 1 2]\n",
            " [3 4 5]\n",
            " [6 7 8]]\n",
            "2nd value from 2nd 1-D array\n"
          ],
          "name": "stdout"
        },
        {
          "output_type": "execute_result",
          "data": {
            "text/plain": [
              "array([[2],\n",
              "       [5]])"
            ]
          },
          "metadata": {
            "tags": []
          },
          "execution_count": 26
        }
      ]
    },
    {
      "cell_type": "markdown",
      "metadata": {
        "id": "CQ9YST5jy0IL"
      },
      "source": [
        "26. Create a 10x10 array with random values and find the minimum and maximum values"
      ]
    },
    {
      "cell_type": "code",
      "metadata": {
        "id": "lhJPugjQzG6W",
        "colab": {
          "base_uri": "https://localhost:8080/"
        },
        "outputId": "7c9e790d-516f-4ddc-f1ff-9a90489357e1"
      },
      "source": [
        "x = np.random.random((5,5))\r\n",
        "print(x)\r\n",
        "print(x.max())\r\n",
        "print(x.min())"
      ],
      "execution_count": 27,
      "outputs": [
        {
          "output_type": "stream",
          "text": [
            "[[0.74771165 0.09438226 0.07801943 0.74511299 0.43794301]\n",
            " [0.9739221  0.05358115 0.42794932 0.01625491 0.61107116]\n",
            " [0.67092448 0.67447835 0.05526536 0.18061026 0.12009138]\n",
            " [0.226543   0.33695686 0.99507614 0.30295043 0.25544588]\n",
            " [0.59470371 0.02373984 0.18658689 0.42509094 0.3224825 ]]\n",
            "0.9950761418414431\n",
            "0.0162549079895441\n"
          ],
          "name": "stdout"
        }
      ]
    },
    {
      "cell_type": "markdown",
      "metadata": {
        "id": "cAgDt6KazHk6"
      },
      "source": [
        "27. a = np.array([1,2,3,2,3,4,3,4,5,6]) b = np.array([7,2,10,2,7,4,9,4,9,8])\n",
        "---\n",
        "Find the common items between a and b\n"
      ]
    },
    {
      "cell_type": "code",
      "metadata": {
        "id": "kBXZanxIzs_F",
        "colab": {
          "base_uri": "https://localhost:8080/"
        },
        "outputId": "21d3a11e-5003-4995-def8-3827ba391b30"
      },
      "source": [
        "a = np.array([1,2,3,2,3,4,3,4,5,6])\r\n",
        "b = np.array([7,2,10,2,7,4,9,4,9,8])\r\n",
        "\r\n",
        "print(\"Common values between two arrays:\")\r\n",
        "print(np.intersect1d(a,b))"
      ],
      "execution_count": 28,
      "outputs": [
        {
          "output_type": "stream",
          "text": [
            "Common values between two arrays:\n",
            "[2 4]\n"
          ],
          "name": "stdout"
        }
      ]
    },
    {
      "cell_type": "markdown",
      "metadata": {
        "id": "lF9IzWOAztpD"
      },
      "source": [
        "28. a = np.array([1,2,3,2,3,4,3,4,5,6])\n",
        "b = np.array([7,2,10,2,7,4,9,4,9,8])\n",
        "\n",
        "---\n",
        "Find the positions where elements of a and b match\n",
        "\n"
      ]
    },
    {
      "cell_type": "code",
      "metadata": {
        "id": "JR-mHQLH0HY_",
        "colab": {
          "base_uri": "https://localhost:8080/"
        },
        "outputId": "51d6d43f-0c4c-48a6-ea18-b2b58b0ce58a"
      },
      "source": [
        "a = np.array([1,2,3,2,3,4,3,4,5,6])\r\n",
        "b = np.array([7,2,10,2,7,4,9,4,9,8])\r\n",
        "\r\n",
        "print(\"Common values between two arrays:\")\r\n",
        "print(np.where((np.intersect1d(a,b))))"
      ],
      "execution_count": 29,
      "outputs": [
        {
          "output_type": "stream",
          "text": [
            "Common values between two arrays:\n",
            "(array([0, 1]),)\n"
          ],
          "name": "stdout"
        }
      ]
    },
    {
      "cell_type": "markdown",
      "metadata": {
        "id": "mMDiefpH0H1x"
      },
      "source": [
        "29.  names = np.array(['Bob', 'Joe', 'Will', 'Bob', 'Will', 'Joe', 'Joe'])  data = np.random.randn(7, 4)\n",
        "\n",
        "---\n",
        "Find all the values from array **data** where the values from array **names** are not equal to **Will**\n"
      ]
    },
    {
      "cell_type": "code",
      "metadata": {
        "id": "gfc1Lpf81ZSR",
        "colab": {
          "base_uri": "https://localhost:8080/"
        },
        "outputId": "c05a846a-b9d6-40e4-b140-0c0caa2dd239"
      },
      "source": [
        "names = np.array(['Bob', 'Joe', 'Will', 'Bob', 'Will', 'Joe', 'Joe'])\r\n",
        "print(names)\r\n",
        "data = np.random.randn(7, 4)\r\n",
        "print(data)\r\n",
        "print(\"all the values from array data where the values from array names are not equal to Will\")\r\n",
        "print(data[names!=\"Will\"])"
      ],
      "execution_count": 30,
      "outputs": [
        {
          "output_type": "stream",
          "text": [
            "['Bob' 'Joe' 'Will' 'Bob' 'Will' 'Joe' 'Joe']\n",
            "[[-0.39811962  0.73884722  0.80724435 -1.00057255]\n",
            " [-0.00857319  0.67850796 -0.11904881 -1.75650853]\n",
            " [-0.38794256 -1.852041    0.62287252  0.547771  ]\n",
            " [-1.01909858  2.07120329  0.44441356  0.23468357]\n",
            " [ 0.63354367 -0.17121677  0.29956671  0.094272  ]\n",
            " [-1.06139048  2.69823961  0.77997965  1.86554739]\n",
            " [ 1.74848499  0.62230724  0.37350247  2.17644145]]\n",
            "all the values from array data where the values from array names are not equal to Will\n",
            "[[-0.39811962  0.73884722  0.80724435 -1.00057255]\n",
            " [-0.00857319  0.67850796 -0.11904881 -1.75650853]\n",
            " [-1.01909858  2.07120329  0.44441356  0.23468357]\n",
            " [-1.06139048  2.69823961  0.77997965  1.86554739]\n",
            " [ 1.74848499  0.62230724  0.37350247  2.17644145]]\n"
          ],
          "name": "stdout"
        }
      ]
    },
    {
      "cell_type": "markdown",
      "metadata": {
        "id": "52zEjDMf1aXS"
      },
      "source": [
        "30. names = np.array(['Bob', 'Joe', 'Will', 'Bob', 'Will', 'Joe', 'Joe']) data = np.random.randn(7, 4)\n",
        "\n",
        "---\n",
        "Find all the values from array **data** where the values from array **names** are not equal to **Will** and **Joe**\n",
        "\n"
      ]
    },
    {
      "cell_type": "code",
      "metadata": {
        "id": "8RYG0kLO1mHw",
        "colab": {
          "base_uri": "https://localhost:8080/"
        },
        "outputId": "2228a01d-5e89-4b52-ad6a-0206408e0ba5"
      },
      "source": [
        "names = np.array(['Bob', 'Joe', 'Will', 'Bob', 'Will', 'Joe', 'Joe']) \r\n",
        "data = np.random.randn(7, 4)\r\n",
        "print(\"all the values from array data where the values from array names are not equal to Will\")\r\n",
        "print(data[names!=\"Will\"])\r\n",
        "print(\"all the values from array data where the values from array names are not equal to Joe\")\r\n",
        "print(data[names!=\"Joe\"])"
      ],
      "execution_count": 31,
      "outputs": [
        {
          "output_type": "stream",
          "text": [
            "all the values from array data where the values from array names are not equal to Will\n",
            "[[-1.23867816  0.50173252  0.58293113 -0.33419348]\n",
            " [-2.78116899  0.54308476  0.69763432 -1.17848369]\n",
            " [-1.7241338  -1.03940585  0.61344118 -0.10805266]\n",
            " [ 0.41466177 -0.44281972  1.19734829  0.25492216]\n",
            " [ 0.33826194  0.99262466  0.85972856  0.55889892]]\n",
            "all the values from array data where the values from array names are not equal to Joe\n",
            "[[-1.23867816  0.50173252  0.58293113 -0.33419348]\n",
            " [-1.49119478 -0.55431    -0.50451989 -0.77645551]\n",
            " [-1.7241338  -1.03940585  0.61344118 -0.10805266]\n",
            " [ 0.28692239  0.38891658  1.39669152  0.51112707]]\n"
          ],
          "name": "stdout"
        }
      ]
    },
    {
      "cell_type": "markdown",
      "metadata": {
        "id": "Q7hjf2bd2dCY"
      },
      "source": [
        "Difficulty Level **Hard**"
      ]
    },
    {
      "cell_type": "markdown",
      "metadata": {
        "id": "b48g7aRA2jVM"
      },
      "source": [
        "31. Create a 2D array of shape 5x3 to contain decimal numbers between 1 and 15."
      ]
    },
    {
      "cell_type": "code",
      "metadata": {
        "id": "EbwfSCrW2f9_",
        "colab": {
          "base_uri": "https://localhost:8080/"
        },
        "outputId": "9c4072c0-70d6-4fe4-9a9c-37fad9c54e5c"
      },
      "source": [
        "rand_arr = np.random.uniform(1,15, size=(5,3))\r\n",
        "rand_arr\r\n"
      ],
      "execution_count": 32,
      "outputs": [
        {
          "output_type": "execute_result",
          "data": {
            "text/plain": [
              "array([[ 8.72860552, 11.35377435,  8.40969902],\n",
              "       [ 9.26861818,  8.8212559 , 10.50305147],\n",
              "       [13.62834055, 13.77639404,  9.13218089],\n",
              "       [ 9.33651572, 12.35652038, 13.66877444],\n",
              "       [ 1.94372783, 11.53969198,  2.34672636]])"
            ]
          },
          "metadata": {
            "tags": []
          },
          "execution_count": 32
        }
      ]
    },
    {
      "cell_type": "markdown",
      "metadata": {
        "id": "Ei_nDHtO3qBk"
      },
      "source": [
        "32. Create an array of shape (2, 2, 4) with decimal numbers between 1 to 16."
      ]
    },
    {
      "cell_type": "code",
      "metadata": {
        "id": "phOxVpBM4M6D",
        "colab": {
          "base_uri": "https://localhost:8080/"
        },
        "outputId": "02bd33d4-6f70-43e7-ab81-3f5f1c98ce32"
      },
      "source": [
        "rand_arr = np.random.uniform(1,16, size=(2,2,4))\r\n",
        "rand_arr"
      ],
      "execution_count": 33,
      "outputs": [
        {
          "output_type": "execute_result",
          "data": {
            "text/plain": [
              "array([[[ 1.58564971,  4.13821734, 11.90301912, 11.14597692],\n",
              "        [14.54763194, 14.42800154,  6.3906454 , 15.01609264]],\n",
              "\n",
              "       [[ 3.58634475,  7.7026899 ,  7.92897584,  6.36376826],\n",
              "        [13.09678455, 10.03205887, 13.34701662,  1.54562881]]])"
            ]
          },
          "metadata": {
            "tags": []
          },
          "execution_count": 33
        }
      ]
    },
    {
      "cell_type": "markdown",
      "metadata": {
        "id": "uyiQaMjA4d_x"
      },
      "source": [
        "33. Swap axes of the array you created in Question 32"
      ]
    },
    {
      "cell_type": "code",
      "metadata": {
        "id": "w2m9p8064VtR",
        "colab": {
          "base_uri": "https://localhost:8080/"
        },
        "outputId": "03152876-83ca-4990-d628-05df076e33cf"
      },
      "source": [
        "rand_arr = np.random.uniform(1,16, size=(2,2,4))\r\n",
        "print(rand_arr)\r\n",
        "rand_arr=np.swapaxes(rand_arr,0,2)\r\n",
        "print(\"after swapping\")\r\n",
        "print(rand_arr)\r\n"
      ],
      "execution_count": 34,
      "outputs": [
        {
          "output_type": "stream",
          "text": [
            "[[[ 6.14359245  8.7982495   8.61321235  5.07660675]\n",
            "  [11.18777907  2.71802271  9.97990856 10.90554239]]\n",
            "\n",
            " [[11.91842453 12.9035243  14.99385843  8.09598595]\n",
            "  [ 4.47475136 11.85466439 11.22242621  1.50438629]]]\n",
            "after swapping\n",
            "[[[ 6.14359245 11.91842453]\n",
            "  [11.18777907  4.47475136]]\n",
            "\n",
            " [[ 8.7982495  12.9035243 ]\n",
            "  [ 2.71802271 11.85466439]]\n",
            "\n",
            " [[ 8.61321235 14.99385843]\n",
            "  [ 9.97990856 11.22242621]]\n",
            "\n",
            " [[ 5.07660675  8.09598595]\n",
            "  [10.90554239  1.50438629]]]\n"
          ],
          "name": "stdout"
        }
      ]
    },
    {
      "cell_type": "markdown",
      "metadata": {
        "id": "2dlU_yUR4mVZ"
      },
      "source": [
        "34. Create an array of size 10, and find the square root of every element in the array, if the values less than 0.5, replace them with 0"
      ]
    },
    {
      "cell_type": "code",
      "metadata": {
        "id": "tmBabEJ-5JgB",
        "colab": {
          "base_uri": "https://localhost:8080/"
        },
        "outputId": "7b21bdf3-d3fc-458c-956c-d7b402b40589"
      },
      "source": [
        "\r\n",
        "arr1 = np.random.randn(10)\r\n",
        "square_arr1 = arr1 * arr1\r\n",
        "print(square_arr1)\r\n",
        "x=0\r\n",
        "for i in square_arr1:\r\n",
        "    if i<0.5:\r\n",
        "        square_arr1[x]=0\r\n",
        "    x=x+1\r\n",
        "square_arr1\r\n"
      ],
      "execution_count": 35,
      "outputs": [
        {
          "output_type": "stream",
          "text": [
            "[2.51372769 0.59818954 0.45518577 0.46340602 1.64205874 1.11816056\n",
            " 0.00701016 0.12012105 0.02357993 0.25067254]\n"
          ],
          "name": "stdout"
        },
        {
          "output_type": "execute_result",
          "data": {
            "text/plain": [
              "array([2.51372769, 0.59818954, 0.        , 0.        , 1.64205874,\n",
              "       1.11816056, 0.        , 0.        , 0.        , 0.        ])"
            ]
          },
          "metadata": {
            "tags": []
          },
          "execution_count": 35
        }
      ]
    },
    {
      "cell_type": "markdown",
      "metadata": {
        "id": "SNAM4dpu5RKA"
      },
      "source": [
        "35. Create two random arrays of range 12 and make an array with the maximum values between each element of the two arrays"
      ]
    },
    {
      "cell_type": "code",
      "metadata": {
        "id": "3pxebU2b5q9Z",
        "colab": {
          "base_uri": "https://localhost:8080/"
        },
        "outputId": "02323f13-6571-4bb8-acf5-a63f02aad5df"
      },
      "source": [
        "arr1 = np.random.randn(10)\r\n",
        "arr2 = np.random.randn(10)\r\n",
        "arr3=np.maximum(arr1,arr2)\r\n",
        "arr3"
      ],
      "execution_count": 36,
      "outputs": [
        {
          "output_type": "execute_result",
          "data": {
            "text/plain": [
              "array([ 0.35012093,  0.63755152,  2.90962567,  1.004159  ,  0.46785473,\n",
              "       -0.68123074,  0.2661273 ,  0.62885232,  1.07435259, -1.53363256])"
            ]
          },
          "metadata": {
            "tags": []
          },
          "execution_count": 36
        }
      ]
    },
    {
      "cell_type": "markdown",
      "metadata": {
        "id": "fz_bpqm28qmD"
      },
      "source": [
        "36. names = np.array(['Bob', 'Joe', 'Will', 'Bob', 'Will', 'Joe', 'Joe'])\n",
        "\n",
        "---\n",
        "Find the unique names and sort them out!\n"
      ]
    },
    {
      "cell_type": "code",
      "metadata": {
        "id": "hiSNMgcY87Ey",
        "colab": {
          "base_uri": "https://localhost:8080/"
        },
        "outputId": "a03c0d4a-4650-474a-bde9-0ca6dece583b"
      },
      "source": [
        "names = np.array(['Bob', 'Joe', 'Will', 'Bob', 'Will', 'Joe', 'Joe'])\r\n",
        "np.unique(names)"
      ],
      "execution_count": 37,
      "outputs": [
        {
          "output_type": "execute_result",
          "data": {
            "text/plain": [
              "array(['Bob', 'Joe', 'Will'], dtype='<U4')"
            ]
          },
          "metadata": {
            "tags": []
          },
          "execution_count": 37
        }
      ]
    },
    {
      "cell_type": "markdown",
      "metadata": {
        "id": "dguMNzob870H"
      },
      "source": [
        "37. a = np.array([1,2,3,4,5])\n",
        "b = np.array([5,6,7,8,9])\n",
        "\n",
        "---\n",
        "From array a remove all items present in array b\n",
        "\n"
      ]
    },
    {
      "cell_type": "code",
      "metadata": {
        "id": "eCNJXPvK9IAr",
        "colab": {
          "base_uri": "https://localhost:8080/"
        },
        "outputId": "e808d09f-650b-40df-8c4b-62750210dd2b"
      },
      "source": [
        "a = np.array([1,2,3,4,5])\r\n",
        "b = np.array([5,6,7,8,9])\r\n",
        "a= np.setdiff1d(a,b)\r\n",
        "a"
      ],
      "execution_count": 38,
      "outputs": [
        {
          "output_type": "execute_result",
          "data": {
            "text/plain": [
              "array([1, 2, 3, 4])"
            ]
          },
          "metadata": {
            "tags": []
          },
          "execution_count": 38
        }
      ]
    },
    {
      "cell_type": "markdown",
      "metadata": {
        "id": "gz4Dvd4b_Akh"
      },
      "source": [
        "38.  Following is the input NumPy array delete column two and insert following new column in its place.\n",
        "\n",
        "---\n",
        "sampleArray = numpy.array([[34,43,73],[82,22,12],[53,94,66]]) \n",
        "\n",
        "\n",
        "---\n",
        "\n",
        "newColumn = numpy.array([[10,10,10]])\n"
      ]
    },
    {
      "cell_type": "code",
      "metadata": {
        "id": "lLWAJWJJ_I3d",
        "colab": {
          "base_uri": "https://localhost:8080/"
        },
        "outputId": "332f4070-54c7-4344-8a23-c129e307985c"
      },
      "source": [
        "sampleArray = np.array([[34,43,73],[82,22,12],[53,94,66]])\r\n",
        "print(sampleArray)\r\n",
        "newColumn = np.array([[10,10,10]])\r\n",
        "sampleArray[0,:] = newColumn\r\n",
        "sampleArray"
      ],
      "execution_count": 39,
      "outputs": [
        {
          "output_type": "stream",
          "text": [
            "[[34 43 73]\n",
            " [82 22 12]\n",
            " [53 94 66]]\n"
          ],
          "name": "stdout"
        },
        {
          "output_type": "execute_result",
          "data": {
            "text/plain": [
              "array([[10, 10, 10],\n",
              "       [82, 22, 12],\n",
              "       [53, 94, 66]])"
            ]
          },
          "metadata": {
            "tags": []
          },
          "execution_count": 39
        }
      ]
    },
    {
      "cell_type": "markdown",
      "metadata": {
        "id": "1lIfmbQt_J_W"
      },
      "source": [
        "39. x = np.array([[1., 2., 3.], [4., 5., 6.]]) y = np.array([[6., 23.], [-1, 7], [8, 9]])\n",
        "\n",
        "\n",
        "---\n",
        "Find the dot product of the above two matrix\n"
      ]
    },
    {
      "cell_type": "code",
      "metadata": {
        "id": "fV2-vXcR_vmu",
        "colab": {
          "base_uri": "https://localhost:8080/"
        },
        "outputId": "1610f1b8-25cf-446f-9ee8-848dd7b7fc2f"
      },
      "source": [
        "x = np.array([[1., 2., 3.], [4., 5., 6.]])\r\n",
        "y = np.array([[6., 23.], [-1, 7], [8, 9]])\r\n",
        "np.dot(x,y)"
      ],
      "execution_count": 40,
      "outputs": [
        {
          "output_type": "execute_result",
          "data": {
            "text/plain": [
              "array([[ 28.,  64.],\n",
              "       [ 67., 181.]])"
            ]
          },
          "metadata": {
            "tags": []
          },
          "execution_count": 40
        }
      ]
    },
    {
      "cell_type": "markdown",
      "metadata": {
        "id": "5U-4odUw_wP0"
      },
      "source": [
        "40. Generate a matrix of 20 random values and find its cumulative sum"
      ]
    },
    {
      "cell_type": "code",
      "metadata": {
        "id": "_oOHdiYEAF8N",
        "colab": {
          "base_uri": "https://localhost:8080/"
        },
        "outputId": "d8a55519-9127-4eed-b5b2-5ae57fc71d37"
      },
      "source": [
        "rand = np.random.randn(20)\r\n",
        "print(rand)\r\n",
        "sum(rand)"
      ],
      "execution_count": 41,
      "outputs": [
        {
          "output_type": "stream",
          "text": [
            "[-2.57169769  0.67705919 -0.29018555 -1.21535527 -1.5718413   1.61252963\n",
            " -1.05076281  1.04397544  0.01148216 -1.16250792 -1.33921726 -1.15844359\n",
            "  0.11639604  1.13752372  0.40544971  0.27702445  1.07433075 -0.60307224\n",
            "  1.19067187  0.2955862 ]\n"
          ],
          "name": "stdout"
        },
        {
          "output_type": "execute_result",
          "data": {
            "text/plain": [
              "-3.1210544669501634"
            ]
          },
          "metadata": {
            "tags": []
          },
          "execution_count": 41
        }
      ]
    },
    {
      "cell_type": "code",
      "metadata": {
        "id": "LhoHV1zau1jU"
      },
      "source": [
        ""
      ],
      "execution_count": null,
      "outputs": []
    }
  ]
}